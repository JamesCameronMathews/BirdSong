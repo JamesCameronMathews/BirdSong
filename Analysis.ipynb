{
  "cells": [
    {
      "cell_type": "code",
      "source": [
        "!pip install pydub"
      ],
      "outputs": [
        {
          "output_type": "stream",
          "name": "stdout",
          "text": [
            "Collecting pydub\r\n"
          ]
        },
        {
          "output_type": "stream",
          "name": "stdout",
          "text": [
            "  Downloading pydub-0.25.1-py2.py3-none-any.whl (32 kB)\r\n"
          ]
        },
        {
          "output_type": "stream",
          "name": "stdout",
          "text": [
            "Installing collected packages: pydub\r\n"
          ]
        },
        {
          "output_type": "stream",
          "name": "stdout",
          "text": [
            "Successfully installed pydub-0.25.1\r\n"
          ]
        }
      ],
      "execution_count": null,
      "metadata": {
        "noteable": {
          "cell_type": "code"
        },
        "ExecuteTime": {
          "end_time": "2023-07-06T00:03:41.081102+00:00",
          "start_time": "2023-07-06T00:03:36.228359+00:00"
        },
        "jupyter": {
          "outputs_hidden": true
        }
      },
      "id": "c8d52e10-66d9-40c7-a424-b0501d5725f2"
    },
    {
      "cell_type": "code",
      "source": [
        "df = pd.read_csv('birdsongonlinefinal2021.csv')\n",
        "df.head(1000)"
      ],
      "outputs": [
        {
          "output_type": "display_data",
          "data": {
            "application/vnd.dataresource+json": {
              "schema": {
                "fields": [
                  {
                    "name": "index",
                    "type": "integer"
                  },
                  {
                    "name": "Local system number",
                    "type": "string"
                  },
                  {
                    "name": "call number",
                    "type": "string"
                  },
                  {
                    "name": "Title",
                    "type": "string"
                  },
                  {
                    "name": "Date",
                    "type": "string"
                  },
                  {
                    "name": "Description of physical object",
                    "type": "string"
                  },
                  {
                    "name": "notes",
                    "type": "string"
                  },
                  {
                    "name": "Summary",
                    "type": "string"
                  },
                  {
                    "name": "Subject headings: Topical",
                    "type": "string"
                  },
                  {
                    "name": "Caption for URL",
                    "type": "string"
                  },
                  {
                    "name": "URL",
                    "type": "string"
                  },
                  {
                    "name": "URL2",
                    "type": "string"
                  }
                ],
                "primaryKey": [
                  "index"
                ],
                "pandas_version": "1.4.0"
              },
              "data": [
                {
                  "index": 0,
                  "Local system number": "b36089746",
                  "call number": "ACC 8661A/1",
                  "Title": "John Hutchinson's bird songs recorded on 11 October 1962.",
                  "Date": "1962",
                  "Description of physical object": "1 audiotape reel (approximately 14 min.)",
                  "notes": "Copied onto 7 inch spool No. 1, from 2.5-10 minutes on 20 Oct 1962. Recorded using Fi-Cord 1A portable reel-to-reel tape recorder.",
                  "Summary": "John Hutchinson is an ornithologist and a birdcall recordist. Tape 1A1, consists of field recordings of bird calls and sounds at the Gascoyne Research Station, Carnarvon, Western Australia on 11 Oct 1962. This tape reel is accompanied by a field note",
                  "Subject headings: Topical": "Birds;Birdsongs;Birdsongs;Honeyeaters;Wedgebills;Peaceful doves",
                  "Caption for URL": "John Hutchinson's bird songs recorded on 11 October 1962. Part 1;John Hutchinson's bird songs recorded on 11 October 1962. Part 1",
                  "URL": "http://purl.slwa.wa.gov.au/slwa_b3608974_1",
                  "URL2": null
                },
                {
                  "index": 1,
                  "Local system number": "b36111673",
                  "call number": "ACC 8661A/2",
                  "Title": "John Hutchinson's bird songs recorded on 11 May and 18 May 1963.",
                  "Date": "1963",
                  "Description of physical object": "1 audiotape reel (approximately 26 min.)",
                  "notes": "Respooled from 3 1/4 inch reel, tail out, large hub. Recorded using Fi-Cord 1A portable reel-to-reel tape recorder. Interference noise of microphone by Babblers. ",
                  "Summary": "John Hutchinson is an ornithologist and a birdcall recordist. Tape 1A2, consists of field recordings of bird calls and sounds at the Gascoyne Research Station, Carnarvon, Western Australia on 11 May 1963 and the Mangaroon sheep station via Carnavon o",
                  "Subject headings: Topical": "Birds;Willy wagtails;Cuckoo-shrikes;Galah;Honeyeaters;Yellow-throated miners;Pied butcherbirds;Pomatostomus temporalis;Birdsongs;Birdsongs",
                  "Caption for URL": "John Hutchinson's bird songs recorded on 11 May 1963 and 18 May 1963. Part 1;View the finding aid for this collection",
                  "URL": "http://purl.slwa.wa.gov.au/slwa_b3611167_1",
                  "URL2": null
                },
                {
                  "index": 2,
                  "Local system number": "b36111776",
                  "call number": "ACC 8661A/3",
                  "Title": "John Hutchinson's bird songs recorded in October 1962.",
                  "Date": "1962",
                  "Description of physical object": "1 audiotape reel (approximately 27 min., 30 sec.)",
                  "notes": "Respooled from 3 1/4 inch reel, tail out, large hub. Recorded using Fi-Cord 1A portable reel-to-reel tape recorder.",
                  "Summary": "John Hutchinson is an ornithologist and a birdcall recordist. Tape 1A3, consists of field recordings of bird calls and sounds at Derby, Broome and Roebourne over a period of days in October 1962 including 5 October 1962, 10 October 1962 and other dat",
                  "Subject headings: Topical": "Birds;Willy wagtails;Curlews;Honeyeaters;Kingfishers;Wedgebills;Yellow-throated miners;Doves;Birdsongs;Birdsongs;Birdsongs;Birdsongs;Wedgebills",
                  "Caption for URL": "John Hutchinson's bird songs recorded in October 1962. Part 1;View the finding aid for this collection",
                  "URL": "http://purl.slwa.wa.gov.au/slwa_b3611177_1",
                  "URL2": null
                },
                {
                  "index": 3,
                  "Local system number": "b36111788",
                  "call number": "ACC 8661A/4",
                  "Title": "John Hutchinson's bird songs recorded around 1962.",
                  "Date": "1962",
                  "Description of physical object": "1 audiotape reel (approximately 8 min.)",
                  "notes": "Respooled from 3 1/4 inch reel, tail out, large hub. Recorded using Fi-Cord 1A portable reel-to-reel tape recorder.",
                  "Summary": "John Hutchinson is an ornithologist and a birdcall recordist. Tape 1A4, consists of field recordings of bird calls and sounds at Gogo Cattle Station, Fitzroy Crossing, Kimberley, possibly in 1962. This tape reel is accompanied by a field note. ACC 86",
                  "Subject headings: Topical": "Birds;Honeyeaters;Yellow-throated miners;Pied butcherbirds;Scissors grinder;Shrike-thrushes;Doves;Ducks;Pachycephala rufiventris;Birdsongs;Birdsongs;Birdsongs;Thrushes",
                  "Caption for URL": "John Hutchinson's bird songs recorded around 1962. Part 1;View the finding aid for this collection",
                  "URL": "http://purl.slwa.wa.gov.au/slwa_b3611178_1",
                  "URL2": null
                },
                {
                  "index": 4,
                  "Local system number": "b36120224",
                  "call number": "ACC 8661A/5",
                  "Title": "John Hutchinson's bird songs recorded on 25 January 1963.",
                  "Date": "1963",
                  "Description of physical object": "1 audiotape reel (approximately 8 min., 40 sec.) ",
                  "notes": "Respooled from 3 1/4 inch reel, tail out, large hub. This recording was done to test a new tape recorder with Norman Robinson. One of the first lightweight, miniature, transistorised tape recorders. Battery operated.",
                  "Summary": "John Hutchinson is an ornithologist and a birdcall recordist. Tape 1A5, consists of field recordings of bird calls made on the outskirts of Canberra, ACT on 25 January 1963. This tape reel is accompanied by a field note. ACC 8661A/5 ",
                  "Subject headings: Topical": "Birds;Birdsongs;Lyrebirds",
                  "Caption for URL": "John Hutchinson's bird songs recorded on 25 January 1963. Part 1;View the finding aid for this collection",
                  "URL": "http://purl.slwa.wa.gov.au/slwa_b3612022_1",
                  "URL2": null
                },
                {
                  "index": 5,
                  "Local system number": "b36120236",
                  "call number": "ACC 8661A/6",
                  "Title": "John Hutchinson's bird songs recorded around September 1962.",
                  "Date": "1962",
                  "Description of physical object": "1 audiotape reel (approximately 8 min.)",
                  "notes": "Respooled from 3 1/4 inch reel, tail out, large hub. Recorded using Fi-Cord 1A portable reel-to-reel tape recorder.",
                  "Summary": "John Hutchinson is an ornithologist and a birdcall recordist. Tape 1A6, consists of field recordings of bird calls made in Derby around September 1962. John was accompanied by Peter Slater, a photographer. This tape reel is accompanied by a field not",
                  "Subject headings: Topical": "Birds;Kookaburra;Honeyeaters;Scissors grinder;Pachycephala rufiventris;Birdsongs",
                  "Caption for URL": "John Hutchinson's bird songs recorded around September 1962. Part 1",
                  "URL": "http://purl.slwa.wa.gov.au/slwa_b3612023_1",
                  "URL2": null
                },
                {
                  "index": 6,
                  "Local system number": "b36142098",
                  "call number": "ACC 8661A/7",
                  "Title": "John Hutchinson's bird songs recorded around September 1962.",
                  "Date": "1962",
                  "Description of physical object": "1 audiotape reel (approximately 6 min., 37 sec.) ",
                  "notes": "Respooled from 3 1/4 inch reel, tail out, large hub. Recorded using Fi-Cord 1A portable reel-to-reel recorder.",
                  "Summary": "John Hutchinson is an ornithologist and a birdcall recordist. Tape 1A7, consists of field recordings of bird calls made in Derby around September 1962. This tape reel is accompanied by a field note. ACC 8661A/7 ",
                  "Subject headings: Topical": "Birds;Kookaburra;Honeyeaters;Scissors grinder;Hawks;Pardalotes;Whistling kites;Cacatua tenuirostris;Birdsongs;Flying foxes",
                  "Caption for URL": "John Hutchinson's bird songs recorded around September 1962. Part 1;View the finding aid for this collection",
                  "URL": "http://purl.slwa.wa.gov.au/slwa_b3614209_1",
                  "URL2": null
                },
                {
                  "index": 7,
                  "Local system number": "b36142165",
                  "call number": "ACC 8661A/8",
                  "Title": "John Hutchinson's bird songs recorded in August 1962.",
                  "Date": "1962",
                  "Description of physical object": "1 audiotape reel (approximately 22 min., 14 sec.) ",
                  "notes": "Respooled from 3 1/4 inch reel, tail out, large hub.",
                  "Summary": "John Hutchinson is an ornithologist and a birdcall recordist. Tape 1A8, consists of field recordings of bird calls made at Carlton Cattle Station, Kimberleys on the South bank of the Ord River in August 1962. This tape reel is accompanied by a field ",
                  "Subject headings: Topical": "Birds;Kookaburra;Vanellus miles;Lories;Parrots;Pardalotes;Cuckoo-shrikes;Trillers;Whistlers (Birds);Pomatostomus temporalis;Pachycephala rufiventris;Birdsongs",
                  "Caption for URL": "John Hutchinson's bird songs recorded in August 1962. Part 1;View the finding aid for this collection",
                  "URL": "http://purl.slwa.wa.gov.au/slwa_b3614216_1",
                  "URL2": null
                },
                {
                  "index": 8,
                  "Local system number": "b36142232",
                  "call number": "ACC 8661A/9",
                  "Title": "John Hutchinson's bird songs recorded in July 1962.",
                  "Date": "1962",
                  "Description of physical object": "1 audiotape reel (approximately 8 min., 57 sec.) ",
                  "notes": "Respooled from 3 1/4 inch reel, tail out, large hub.",
                  "Summary": "John Hutchinson is an ornithologist and a birdcall recordist. Tape 1A9, consists of field recordings of bird calls made at Carlton Cattle Station, Ord River, Kimberleys in July 1962. This tape reel is accompanied by a field note. ACC 8661A/9 ",
                  "Subject headings: Topical": "Birds;Honeyeaters;Crows;Pied butcherbirds;Cuckoos;White-winged trillers;Gerygone olivacea;Woodswallows;Mistletoe birds;Great bowerbirds;Pomatostomus temporalis;Pachycephala rufiventris;Birdsongs",
                  "Caption for URL": "John Hutchinson's bird songs recorded in July 1962. Part 1;View the finding aid for this collection",
                  "URL": "http://purl.slwa.wa.gov.au/slwa_b3614223_1",
                  "URL2": null
                },
                {
                  "index": 9,
                  "Local system number": "b36160647",
                  "call number": "ACC 8661A/10",
                  "Title": "John Hutchinson's bird songs recorded on 2 October 1962.",
                  "Date": "1962",
                  "Description of physical object": "1 audiotape reel (approximately 14 min., 18 sec.) ",
                  "notes": "Respooled from 3 1/4 inch reel, tail out, large hub.",
                  "Summary": "John Hutchinson is an ornithologist and a birdcall recordist. Tape 1A10, consists of field recordings of bird calls made in Canberra with Norman Robinson on 2 October 1962.This tape reel is accompanied by a field note. ACC 8661A/10 ",
                  "Subject headings: Topical": "Birds;Magpies;Crows;Albatrosses;Bellbirds;Kookaburra;Birdsongs",
                  "Caption for URL": "John Hutchinson's bird songs recorded on 2 October 1962.;View the finding aid for this collection",
                  "URL": "http://purl.slwa.wa.gov.au/slwa_b3616064_1",
                  "URL2": null
                },
                {
                  "index": 10,
                  "Local system number": "b36162218",
                  "call number": "ACC 8661A/11",
                  "Title": "John Hutchinson's bird songs recorded in October 1962.",
                  "Date": "1962",
                  "Description of physical object": "1 audiotape reel (approximately 8 min., 25 sec.) ",
                  "notes": "Respooled from 3 1/4 inch reel, tail out, large hub. 1 November 1962, condensed onto 7 inch No. 1 reel.",
                  "Summary": "John Hutchinson is an ornithologist and a birdcall recordist. Tape 1A11, consists of field recordings of bird calls made in Derby in October 1962. This tape reel is accompanied by a field note. ACC 8661A/11 ",
                  "Subject headings: Topical": "Birds;Gerygone olivacea;Pardalotes ;Honeyeaters;Trillers;Black cockatoos;Cuckoos;Friarbirds;Pachycephala rufiventris;Birdsongs",
                  "Caption for URL": "John Hutchinson's bird songs recorded in October 1962. Part 1;View the finding aid for this collection",
                  "URL": "http://purl.slwa.wa.gov.au/slwa_b3616221_1",
                  "URL2": null
                },
                {
                  "index": 11,
                  "Local system number": "b36173605",
                  "call number": "ACC 8661A/12",
                  "Title": "John Hutchinson's bird songs recorded in March 1963.",
                  "Date": "1963",
                  "Description of physical object": "1 audiotape reel (approximately 14 min.) ",
                  "notes": "Respooled from 3 1/4 inch reel, tail out, large hub.",
                  "Summary": "John Hutchinson is an ornithologist and a birdcall recordist. Tape 1A12, consists of field recordings of bird calls made at Gascoyne Research Station in Carnarvon in March 1963. This tape reel is accompanied by a field note. ACC 8661A/12 ",
                  "Subject headings: Topical": "Birds;Shrike-thrushes;Wedgebills;Peaceful doves ;Honeyeaters;Birdsongs",
                  "Caption for URL": "John Hutchinson's bird songs recorded in March 1963 Part 1;View the finding aid for this collection",
                  "URL": "http://purl.slwa.wa.gov.au/slwa_b3617360_1",
                  "URL2": null
                },
                {
                  "index": 12,
                  "Local system number": "b36174130",
                  "call number": "ACC 8661A/13",
                  "Title": "John Hutchinson's bird songs recorded in April 1963.",
                  "Date": "1963",
                  "Description of physical object": "1 audiotape reel (approximately 12 min., 47 sec.) ",
                  "notes": "Respooled from 3 1/4 inch reel, tail out, large hub.",
                  "Summary": "John Hutchinson is an ornithologist and a birdcall recordist. Tape 1A13, consists of field recordings of bird calls made at the Gascoyne River in Carnarvon in April 1963. This tape reel is accompanied by a field note. ACC 8661A/13 ",
                  "Subject headings: Topical": "Birds;Shrike-thrushes;Trills;Galah;Pied butcherbirds;Crows;Birdsongs;Birdsongs;Birdsongs",
                  "Caption for URL": "John Hutchinson's bird songs recorded in April 1963. Part 1;View the finding aid for this collection",
                  "URL": "http://purl.slwa.wa.gov.au/slwa_b3617413_1",
                  "URL2": null
                },
                {
                  "index": 13,
                  "Local system number": "b36174270",
                  "call number": "ACC 8661A/14",
                  "Title": "John Hutchinson's bird songs recorded on 17, 21, 22 and 25 April 1963.",
                  "Date": "1963",
                  "Description of physical object": "1 audiotape reel (approximately 15 min., 20 sec.) ",
                  "notes": "Respooled from 3 1/4 inch reel, tail out, large hub.;Recordings at Gascoyne Research Station from 22 April 1963 onwards are first sounds of the new season after a cool change from a long, muggy summer.",
                  "Summary": "John Hutchinson is an ornithologist and a birdcall recordist. Tape 1A14, consists of field recordings of bird calls made at the Wooramel River Bridge and the Gascoyne Research Station in Carnarvon in April 1963. This tape reel is accompanied by a fie",
                  "Subject headings: Topical": "Birds;Twenty-eight parrots;Honeyeaters;Crows;Cockatoos;Pied butcherbirds;Willy wagtails;Lories;Birdsongs;Birdsongs",
                  "Caption for URL": "John Hutchinson's bird songs recorded on 17, 21, 22 and 25 April 1963. Part 1;View the finding aid for this collection",
                  "URL": "http://purl.slwa.wa.gov.au/slwa_b3617427_1",
                  "URL2": null
                },
                {
                  "index": 14,
                  "Local system number": "b36174385",
                  "call number": "ACC 8661A/15",
                  "Title": "John Hutchinson's bird songs recorded on 26, 28 and 30 April 1963 and 1, 3, 6, 8 and 10 May 1963.",
                  "Date": "1963",
                  "Description of physical object": "1 audiotape reel (approximately 13 min., 13 sec.) ",
                  "notes": "Respooled from 3 1/4 inch reel, tail out, large hub.",
                  "Summary": "John Hutchinson is an ornithologist and a birdcall recordist. Tape 1A15, consists of field recordings of bird calls made at the Gascoyne Research Station in Carnarvon in April and May 1963. This tape reel is accompanied by a field note. ACC 8661A/15 ",
                  "Subject headings: Topical": "Birds;Honeyeaters;Crows;Cuckoo-shrikes;Birdsongs",
                  "Caption for URL": "John Hutchinson's bird songs recorded on 26, 28 and 30 April 1963 and 1, 3, 6, 8 and 10 May 1963. Part 1;ACC 8661A Data sheet for Tape no. 15;View the finding aid for this collection",
                  "URL": "http://purl.slwa.wa.gov.au/slwa_b3617438_1",
                  "URL2": "http://purl.slwa.wa.gov.au/slwa_b3617438_2"
                },
                {
                  "index": 15,
                  "Local system number": "b3617449x",
                  "call number": "ACC 8661A/16",
                  "Title": "John Hutchinson's bird songs recorded on 18, 22 and 24 May 1963.",
                  "Date": "1963",
                  "Description of physical object": "1 audiotape reel (approximately 9 min., 38 sec.) ",
                  "notes": "Respooled from 3 1/4 inch reel, tail out, large hub. Recorded using Fi-Cord 1A portable reel tape recorder.",
                  "Summary": "John Hutchinson is an ornithologist and a birdcall recordist. Tape 1A16, consists of field recordings of bird calls made at the Yannery River Maroon Station, Roebourne and Top end of Anna Plains Cattle Station May 1963. This tape reel is accompanied ",
                  "Subject headings: Topical": "Birds;Honeyeaters;Yellow-throated miners;Crows;Birdsongs;Birdsongs;Birdsongs",
                  "Caption for URL": "John Hutchinson's bird songs recorded on 22 and 24 May 1963. Part 1;View the finding aid for this collection",
                  "URL": "http://purl.slwa.wa.gov.au/slwa_b3617449_1",
                  "URL2": null
                },
                {
                  "index": 16,
                  "Local system number": "b36185279",
                  "call number": "ACC 8661A/17",
                  "Title": "John Hutchinson's bird songs recorded on 28 and 31 May 1963.",
                  "Date": "1963",
                  "Description of physical object": "1 audiotape reel (approximately 11 min., 30 sec.) ",
                  "notes": "Respooled from 3 1/4 inch reel, tail out, large hub. Recorded using Fi-Cord 1A portable reel tape recorder.",
                  "Summary": "John Hutchinson is an ornithologist and a birdcall recordist. Tape 1A17, consists of field recordings of bird calls made in Mowanjum, Derby and Waterfall 65 miles from Wyndham in May 1963. This tape reel is accompanied by a field note. ACC 8661A/17 ",
                  "Subject headings: Topical": "Birds;Honeyeaters;Yellow-throated miners;Birdsongs;Birdsongs;Birdsongs",
                  "Caption for URL": "John Hutchinson's bird songs recorded on 28 and 31 May 1963. Part 1;View the finding aid for this collection",
                  "URL": "http://purl.slwa.wa.gov.au/slwa_b3618527_1",
                  "URL2": null
                },
                {
                  "index": 17,
                  "Local system number": "b36185292",
                  "call number": "ACC 8661A/18",
                  "Title": "John Hutchinson's bird songs recorded on 31 May and 1 June 1963.",
                  "Date": "1963",
                  "Description of physical object": "1 audiotape reel (approximately 8 min., 55 sec.) ",
                  "notes": "Respooled from 3 1/4 inch reel, tail out, large hub. Recorded using Fi-Cord 1A portable reel tape recorder.",
                  "Summary": "John Hutchinson is an ornithologist and a birdcall recordist. Tape 1A18, consists of field recordings of bird calls made at fresh-water spring 65 miles from Wyndham in May and June 1963. This tape reel is accompanied by a field note. ACC 8661A/18 ",
                  "Subject headings: Topical": "Birds;Honeyeaters;Birdsongs;Birdsongs",
                  "Caption for URL": "John Hutchinson's bird songs recorded on 31 May 1963 and 1 June 1963. Part 1;View the finding aid for this collection",
                  "URL": "http://purl.slwa.wa.gov.au/slwa_b3618529_1",
                  "URL2": null
                },
                {
                  "index": 18,
                  "Local system number": "b36185462",
                  "call number": "ACC 8661A/19",
                  "Title": "John Hutchinson's bird songs recorded on 31 May and 1 June 1963.",
                  "Date": "1963",
                  "Description of physical object": "1 audiotape reel  (approximately 10 min.) ",
                  "notes": "Respooled from 3 1/4 inch reel, tail out, large hub. Recorded using Fi-Cord 1A portable reel tape recorder.",
                  "Summary": "John Hutchinson is an ornithologist and a birdcall recordist. Tape 1A19, consists of field recordings of bird calls made at fresh-water spring 65 miles from Wyndham, Ivanhoe Cattle Station, Ord River and Buttons Gap between Wyndham and Ivanhoe in Jun",
                  "Subject headings: Topical": "Birds;Honeyeaters;Great bowerbirds;Yellow-throat miners;Pachycephala rufiventris;Pied butcherbirds;Birdsongs;Birdsongs;Birdsongs;Birdsongs",
                  "Caption for URL": "John Hutchinson's bird songs recorded on 1, 10, 12 and 13 June 1963. Part 1;View the finding aid for this collection",
                  "URL": "http://purl.slwa.wa.gov.au/slwa_b3618546_1",
                  "URL2": null
                },
                {
                  "index": 19,
                  "Local system number": "b36185553",
                  "call number": "ACC 8661A/20",
                  "Title": "John Hutchinson's bird songs recorded on 2 June 1963.",
                  "Date": "1963",
                  "Description of physical object": "1 audiotape reel (approximately 11 min., 3 sec.) ",
                  "notes": "Respooled from 3 1/4 inch reel, tail out, large hub. Recorded using Fi-Cord 1A portable reel tape recorder.",
                  "Summary": "John Hutchinson is an ornithologist and a birdcall recordist. Tape 1A20, consists of field recordings of bird calls made on Pumping Station Road, Wyndham on 2 June 1963. This tape reel is accompanied by a field note. ACC 8661A/20 ",
                  "Subject headings: Topical": "Birds;Honeyeaters;Birdsongs",
                  "Caption for URL": "John Hutchinson's bird songs recorded on 2 June 1963. Part 1;View the finding aid for this collection",
                  "URL": "http://purl.slwa.wa.gov.au/slwa_b3618555_1",
                  "URL2": null
                },
                {
                  "index": 20,
                  "Local system number": "b36185619",
                  "call number": "ACC 8661A/21",
                  "Title": "John Hutchinson's bird songs recorded on 3, 7 and 8 June 1963.",
                  "Date": "1963",
                  "Description of physical object": "1 audiotape reel (approximately 10 min., 43 sec.) ",
                  "notes": "Respooled from 3 1/4 inch reel, tail out, large hub. Recorded using Fi-Cord 1A portable reel tape recorder.",
                  "Summary": "John Hutchinson is an ornithologist and a birdcall recordist. Tape 1A21, consists of field recordings of bird calls made in Wyndham on 3 June 1963, at the Ord River on 7 June 1963, at the Kimberley Research Station Ord River on 7 June 1963 and  at Ca",
                  "Subject headings: Topical": "Birds;Honeyeaters;Whistling kites;Willy wagtails;Birdsongs;Birdsongs;Birdsongs",
                  "Caption for URL": "John Hutchinson's bird songs recorded on 3, 7 and 8 June 1963. Part 1;View the finding aid for this collection",
                  "URL": "http://purl.slwa.wa.gov.au/slwa_b3618561_1",
                  "URL2": null
                },
                {
                  "index": 21,
                  "Local system number": "b36185711",
                  "call number": "ACC 8661A/22",
                  "Title": "John Hutchinson's bird songs recorded on 24, 26, 27, 28 and 29 June 1963 and 1 and 3 July 1963.",
                  "Date": "1963",
                  "Description of physical object": "1 audiotape reel (approximately 12 min.) ",
                  "notes": "Respooled from 3 1/4 inch reel, tail out, large hub. Recorded using Fi-Cord 1A portable reel tape recorder.",
                  "Summary": "John Hutchinson is an ornithologist and a birdcall recordist. Tape 1A22, consists of field recordings of bird calls made at Carlton Crossing, Ord River on 24 June 1963 and 3 July 1963 and Wyndham Marsh on 26, 27, 28 and 29 June 1963 and 1 July 1963. ",
                  "Subject headings: Topical": "Birds;Honeyeaters;Thrushes;Pardalotes;Pied butcherbirds;Kookaburra;Birdsongs;Bee eaters;Birdsongs",
                  "Caption for URL": "John Hutchinson's bird songs recorded on 24, 26, 27, 28 and 29 June 1963 and 1 and 3 July 1963. Part 1;View the finding aid for this collection",
                  "URL": "http://purl.slwa.wa.gov.au/slwa_b3618571_1",
                  "URL2": null
                },
                {
                  "index": 22,
                  "Local system number": "b36185814",
                  "call number": "ACC 8661A/23",
                  "Title": "John Hutchinson's bird songs recorded on 5 and 6 July 1963.",
                  "Date": "1963",
                  "Description of physical object": "1 audiotape reel (approximately 13 min., 40 sec.) ",
                  "notes": "Respooled from 3 1/4 inch reel, tail out, large hub. Recorded using Fi-Cord 1A portable reel tape recorder.",
                  "Summary": "John Hutchinson is an ornithologist and a birdcall recordist. Tape 1A23, consists of field recordings of bird calls made at Carlton Crossing, Ord River on 5 and 6 July 1963. This tape reel is accompanied by a field note. ACC 8661A/23 ",
                  "Subject headings: Topical": "Birds;Bee eaters;Pied butcherbirds;Doves;Birdsongs",
                  "Caption for URL": "John Hutchinson's bird songs recorded on 5 and 6 July 1963. Part 1;View the finding aid for this collection",
                  "URL": "http://purl.slwa.wa.gov.au/slwa_b3618581_1",
                  "URL2": null
                },
                {
                  "index": 23,
                  "Local system number": "b36185826",
                  "call number": "ACC 8661A/24",
                  "Title": "John Hutchinson's bird songs recorded in July 1963.",
                  "Date": "1963",
                  "Description of physical object": "1 audiotape reel (approximately 13 min., 14 sec.) ",
                  "notes": "Respooled from 3 1/4 inch reel, tail out, large hub. Recorded using Fi-Cord 1A portable reel tape recorder.",
                  "Summary": "John Hutchinson is an ornithologist and a birdcall recordist. Tape 1A24, consists of field recordings of bird calls made at Carlton Crossing, Ord River 1n July 1963. This tape reel is accompanied by a field note. ACC 8661A/24.",
                  "Subject headings: Topical": "Birds;Crows;Pied butcherbirds;Birdsongs",
                  "Caption for URL": "John Hutchinson's bird songs recorded in July 1963. Part 1;View the finding aid for this collection",
                  "URL": "http://purl.slwa.wa.gov.au/slwa_b3618582_1",
                  "URL2": null
                },
                {
                  "index": 24,
                  "Local system number": "b36185851",
                  "call number": "ACC 8661A/25",
                  "Title": "John Hutchinson's bird songs recorded on 6, 7 and 11 July 1963.",
                  "Date": "1963",
                  "Description of physical object": "1 audiotape reel (approximately 13 min., 4 sec.) ",
                  "notes": "Respooled from 3 1/4 inch reel, tail out, large hub. Recorded using Fi-Cord 1A portable reel tape recorder.",
                  "Summary": "John Hutchinson is an ornithologist and a birdcall recordist. Tape 1A25, consists of field recordings of bird calls made in Wyndham on 6 and 7 July 1963 and at Wyndham Marsh on 11 July 1963. This tape reel is accompanied by a field note. ACC 8661A/25",
                  "Subject headings: Topical": "Birds;Honeyeaters;Pied butcherbirds;Birdsongs",
                  "Caption for URL": "John Hutchinson's bird songs recorded on 6, 7 and 11 July 1963. Part 1;View the finding aid for this collection",
                  "URL": "http://purl.slwa.wa.gov.au/slwa_b3618585_1",
                  "URL2": null
                },
                {
                  "index": 25,
                  "Local system number": "b36185863",
                  "call number": "ACC 8661A/26",
                  "Title": "John Hutchinson's bird songs recorded on 16, 20 and 21 July 1963. ",
                  "Date": "1963",
                  "Description of physical object": "1 audiotape reel (approximately 12 min., 56 sec.) ",
                  "notes": "Respooled from 3 1/4 inch reel, tail out, large hub. Recorded using Fi-Cord 1A portable reel tape recorder.",
                  "Summary": "John Hutchinson is an ornithologist and a birdcall recordist. Tape 1A26, consists of field recordings of bird calls made at Wijina Gorge on 16 July 1963, at Munkajara, Derby on 20 and 21 July 1963 and at Mowanjum, Derby on 21 July 1963. This tape ree",
                  "Subject headings: Topical": "Birds;Honeyeaters;Pied butcherbirds;Black-heart finches;Brolgas;Mudlarks;Birdsongs;Birdsongs;Birdsongs",
                  "Caption for URL": "John Hutchinson's bird songs recorded on 16, 20 and 21 July 1963. Part 1;View the finding aid for this collection",
                  "URL": "http://purl.slwa.wa.gov.au/slwa_b3618586_1",
                  "URL2": null
                },
                {
                  "index": 26,
                  "Local system number": "b36274549",
                  "call number": "ACC 8661A/27",
                  "Title": "John Hutchinson's bird songs recorded on 21 and 25 July 1963.",
                  "Date": "1963",
                  "Description of physical object": "1 audiotape reel (approximately 13 min., 17 sec.) ",
                  "notes": "Respooled from 3 1/4 inch reel, tail out, large hub. Recorded using Fi-Cord 1A portable reel tape recorder.",
                  "Summary": "John Hutchinson is an ornithologist and a birdcall recordist. Tape 1A27, consists of field recordings of bird calls made at Munkajara, Derby on 21 July 1963 and at Yeed Creek, Derby on 25 July 1963. This tape reel is accompanied by a field note. ACC ",
                  "Subject headings: Topical": "Birds;Willy wagtails;Brolgas;Birdsongs;Birdsongs",
                  "Caption for URL": "John Hutchinson's bird songs recorded on 21 and 25 July 1963. Part 1;View the finding aid for this collection",
                  "URL": "http://purl.slwa.wa.gov.au/slwa_b3627454_1",
                  "URL2": null
                },
                {
                  "index": 27,
                  "Local system number": "b36275062",
                  "call number": "ACC 8661A/28",
                  "Title": "John Hutchinson's bird songs recorded on 31 July 1963 and 4, 7 and 15 August 1963.",
                  "Date": "1963",
                  "Description of physical object": "1 audiotape reel (approximately 12 min., 55 sec.) ",
                  "notes": "Respooled from 3 1/4 inch reel, tail out, large hub. Recorded using Fi-Cord 1A portable reel tape recorder.",
                  "Summary": "John Hutchinson is an ornithologist and a birdcall recordist. Tape 1A28, consists of field recordings of bird calls made Pardoo Lighthouse Thangoo Cliff on 31 July 1963, Port Hedland on 4 August 1963, Jones River, Roebourne on 7 August 1963 and at St",
                  "Subject headings: Topical": "Birds;Willy wagtails;Bee eaters;Pachycephala rufiventris;Sea hawks;Honeyeaters;Mangrove whistlers;Birdsongs;Crows;Birdsongs;Birdsongs",
                  "Caption for URL": "John Hutchinson's bird songs recorded on 31 July 1963 and 4, 7 and 15 August 1963. Part 1;View the finding aid for this collection",
                  "URL": "http://purl.slwa.wa.gov.au/slwa_b3627506_1",
                  "URL2": null
                },
                {
                  "index": 28,
                  "Local system number": "b36275797",
                  "call number": "ACC 8661A/29",
                  "Title": "John Hutchinson's bird songs recorded on 27 and 31 August 1963.",
                  "Date": "1963",
                  "Description of physical object": "1 audiotape reel (approximately 13 min., 15 sec.) ",
                  "notes": "Respooled from 3 1/4 inch reel, tail out, large hub. Recorded using Fi-Cord 1A portable reel tape recorder.",
                  "Summary": "John Hutchinson is an ornithologist and a birdcall recordist. Tape 1A29, consists of field recordings of bird calls made at Gascoyne Research Station, Carnarvon on 27 August 1963 and at Hot Bore, Carnarvon on 31 August 1963. This tape reel is accompa",
                  "Subject headings: Topical": "Birds;Shrike-thrushes;Bee eaters;Wedgebills;Skylarks;Honeyeaters;Mangrove whistlers;Western shrikes;Crows;Birdsongs;Birdsongs;Birdsongs",
                  "Caption for URL": "John Hutchinson's bird songs recorded on 27 and 31 August 1963. Part 1;View the finding aid for this collection",
                  "URL": "http://purl.slwa.wa.gov.au/slwa_b3627579_1",
                  "URL2": null
                },
                {
                  "index": 29,
                  "Local system number": "b36275992",
                  "call number": "ACC 8661A/30",
                  "Title": "John Hutchinson's bird songs recorded on 31 August 1963 and 9, 12, 16 and 14 September 1963.",
                  "Date": "1963",
                  "Description of physical object": "1 audiotape reel (approximately 11 min., 35 sec.) ",
                  "notes": "Respooled from 3 1/4 inch reel, tail out, large hub. Recorded using Fi-Cord 1A portable reel tape recorder.",
                  "Summary": "John Hutchinson is an ornithologist and a birdcall recordist. Tape 1A30, consists of field recordings of bird calls made at Bibbawarra Hot Bore, Carnarvon on 31 August 1963 and 14 September 1963. Also at Gascoyne Research Station, Carnarvon on 9, 12 ",
                  "Subject headings: Topical": "Birds;Peaceful doves;Skylarks;Honeyeaters;Wedgebills;Birdsongs;Birdsongs",
                  "Caption for URL": "John Hutchinson's bird songs recorded on 31 August 1963 and 9, 12, 16 and 14 September 1963. Part 1;View the finding aid for this collection",
                  "URL": "http://purl.slwa.wa.gov.au/slwa_b3627599_1",
                  "URL2": null
                },
                {
                  "index": 30,
                  "Local system number": "b36286072",
                  "call number": "ACC 8661A/31",
                  "Title": "John Hutchinson's bird songs recorded on 18 and 22 September 1963.",
                  "Date": "1963",
                  "Description of physical object": "1 audiotape reel (approximately 6 min., 21 sec.) ",
                  "notes": "Respooled from 3 1/4 inch reel, tail out, large hub. Recorded using Fi-Cord 1A portable reel tape recorder.",
                  "Summary": "John Hutchinson is an ornithologist and a birdcall recordist. Tape 1A31, consists of field recordings of bird calls made at the Gascoyne Research Station, Carnarvon on 18 and 22 September 1963. This tape reel is accompanied by a field note. ACC 8661A",
                  "Subject headings: Topical": "Birds;Kestrels;Honeyeaters;Birdsongs;Birdsongs",
                  "Caption for URL": "John Hutchinson's bird songs recorded on 18 and 22 September 1963. Part 1;View the finding aid for this collection",
                  "URL": "http://purl.slwa.wa.gov.au/slwa_b3628607_1",
                  "URL2": null
                },
                {
                  "index": 31,
                  "Local system number": "b36286084",
                  "call number": "ACC 8661A/32",
                  "Title": "John Hutchinson's bird songs recorded on 28 September 1963.",
                  "Date": "1963",
                  "Description of physical object": "1 audiotape reel (approximately 13 min., 15 sec.) ",
                  "notes": "Respooled from 3 1/4 inch reel, tail out, large hub. Recorded using Fi-Cord 1A portable reel tape recorder.",
                  "Summary": "John Hutchinson is an ornithologist and a birdcall recordist. Tape 1A32, consists of field recordings of bird calls made at the Gascoyne Research Station, Carnarvon on 28 September 1963. This tape reel is accompanied by a field note. ACC 8661A/32 ",
                  "Subject headings: Topical": "Birds;Canaries;Cage birds;Birdsongs;Birdsongs",
                  "Caption for URL": "John Hutchinson's bird songs recorded on 28 September 1963. Part 1;View the finding aid for this collection",
                  "URL": "http://purl.slwa.wa.gov.au/slwa_b3628608_1",
                  "URL2": null
                },
                {
                  "index": 32,
                  "Local system number": "b36286102",
                  "call number": "ACC 8661A/33",
                  "Title": "John Hutchinson's bird songs recorded on 28 September 1963 and 22 and 25 November 1963.",
                  "Date": "1963",
                  "Description of physical object": "1 audiotape reel (approximately 13 min., 15 sec.) ",
                  "notes": "Respooled from 3 1/4 inch reel, tail out, large hub. Recorded using Fi-Cord 1A portable reel tape recorder.",
                  "Summary": "John Hutchinson is an ornithologist and a birdcall recordist. Tape 1A33, consists of field recordings of bird calls made at the Gascoyne Research Station, Carnarvon on 28 September 1963 and Port Hedland at Six Mile on 25 November 1963 plus animal sou",
                  "Subject headings: Topical": "Birds;Canaries;Woodswallows;Flying foxes;Birdsongs;Birdsongs;Birdsongs;Birdsongs",
                  "Caption for URL": "John Hutchinson's bird songs recorded on 28 September 1963 and 22 and 25 November 1963. Part 1;View the finding aid for this collection",
                  "URL": "http://purl.slwa.wa.gov.au/slwa_b3628610_1",
                  "URL2": null
                },
                {
                  "index": 33,
                  "Local system number": "b36286151",
                  "call number": "ACC 8661A/34",
                  "Title": "John Hutchinson's bird songs recorded on 2 November 1963.",
                  "Date": "1963",
                  "Description of physical object": "1 audiotape reel (approximately 13 min., 32 sec.) ",
                  "notes": "Respooled from 3 1/4 inch reel, tail out, large hub. Recorded using Fi-Cord 1A portable reel tape recorder.",
                  "Summary": "John Hutchinson is an ornithologist and a birdcall recordist. Tape 1A34, consists of field recordings of bird calls made at Point Samson 2 November 1963. This tape reel is accompanied by a field note. ACC 8661A/34 ",
                  "Subject headings: Topical": "Birds;Canaries;Whistlers (Birds);Birdsongs",
                  "Caption for URL": "John Hutchinson's bird songs recorded on 2 November 1963. Part 1;View the finding aid for this collection",
                  "URL": "http://purl.slwa.wa.gov.au/slwa_b3628615_1",
                  "URL2": null
                },
                {
                  "index": 34,
                  "Local system number": "b36286345",
                  "call number": "ACC 8661A/35",
                  "Title": "John Hutchinson's bird songs recorded on 3 and 6 November 1963.",
                  "Date": "1963",
                  "Description of physical object": "1 audiotape reel (approximately 13 min., 37 sec.) ",
                  "notes": "Respooled from 3 1/4 inch reel, tail out, large hub. Recorded using Fi-Cord 1A portable reel tape recorder.",
                  "Summary": "John Hutchinson is an ornithologist and a birdcall recordist. Tape 1A35, consists of field recordings of bird calls made at Point Samson on 3 November 1963 and at Millstream Station on 6 November 1963. This tape reel is accompanied by a field note. A",
                  "Subject headings: Topical": "Birds;Reed warblers;Whistlers (Birds);Birdsongs",
                  "Caption for URL": "John Hutchinson's bird songs recorded on 3 and 6 November 1963. Part 1;View the finding aid for this collection",
                  "URL": "http://purl.slwa.wa.gov.au/slwa_b3628634_1",
                  "URL2": null
                },
                {
                  "index": 35,
                  "Local system number": "b36286357",
                  "call number": "ACC 8661A/36",
                  "Title": "John Hutchinson's bird songs recorded on 6 November 1963.",
                  "Date": "1963",
                  "Description of physical object": "1 audiotape reel (approximately 8 min., 12 sec.) ",
                  "notes": "Respooled from 3 1/4 inch reel, tail out, large hub. Recorded using Fi-Cord 1A portable reel tape recorder.",
                  "Summary": "John Hutchinson is an ornithologist and a birdcall recordist. Tape 1A36, consists of field recordings of bird calls made at Millstream Station on 6 November 1963. This tape reel is accompanied by a field note. ACC 8661A/36 ",
                  "Subject headings: Topical": "Birds;Reed warblers;Birdsongs",
                  "Caption for URL": "John Hutchinson's bird songs recorded on 6 November 1963. Part 1;View the finding aid for this collection",
                  "URL": "http://purl.slwa.wa.gov.au/slwa_b3628635_1",
                  "URL2": null
                },
                {
                  "index": 36,
                  "Local system number": "b36286369",
                  "call number": "ACC 8661A/37",
                  "Title": "John Hutchinson's bird songs recorded on 25 November 1963 and 28 January 1964.",
                  "Date": "1964",
                  "Description of physical object": "1 audiotape reel (approximately 15 min., 54 sec.) ",
                  "notes": "Respooled from 3 1/4 inch reel, tail out, large hub. Recorded using Fi-Cord 1A portable reel tape recorder.",
                  "Summary": "John Hutchinson is an ornithologist and a birdcall recordist. Tape 1A37, consists of field recordings of bird calls made at Port Hedland on 25 November 1963 and at Gascoyne Research Station, Carnarvon on 28 January 1964. This tape reel is accompanied",
                  "Subject headings: Topical": "Birds;Honeyeaters;Whistlers (Birds);Woodswallows;Birdsongs;Birdsongs;Birdsongs",
                  "Caption for URL": "John Hutchinson's bird songs recorded on 25 November 1963 and 28 January 1964. Part 1;View the finding aid for this collection",
                  "URL": "http://purl.slwa.wa.gov.au/slwa_b3628636_1",
                  "URL2": null
                },
                {
                  "index": 37,
                  "Local system number": "b36286370",
                  "call number": "ACC 8661A/38",
                  "Title": "John Hutchinson's bird songs recorded on 19, 20 and 22 February 1964.",
                  "Date": "1964",
                  "Description of physical object": "1 audiotape reel (approximately 13 min., 45 sec.) ",
                  "notes": "Respooled from 3 1/4 inch reel, tail out, large hub. Recorded using Fi-Cord 1A portable reel tape recorder.",
                  "Summary": "John Hutchinson is an ornithologist and a birdcall recordist. Tape 1A38, consists of field recordings of bird calls made at the Gascoyne Research Station, Carnarvon on 19 and 20 February 1964 and Carnarvon on 22 February 1964. This tape reel is accom",
                  "Subject headings: Topical": "Birds;Yellow-throated miners;Honeyeaters;Woodswallows;Little corellas;Cockatoos;Birdsongs;Birdsongs;Birdsongs",
                  "Caption for URL": "John Hutchinson's bird songs recorded on 19, 20 and 22 February 1964. Part 1;View the finding aid for this collection",
                  "URL": "http://purl.slwa.wa.gov.au/slwa_b3628637_1",
                  "URL2": null
                },
                {
                  "index": 38,
                  "Local system number": "b36286734",
                  "call number": "ACC 8661A/39",
                  "Title": "John Hutchinson's bird songs recorded on 22 and 23 February 1964 and 6 March 1964.",
                  "Date": "1964",
                  "Description of physical object": "1 audiotape reel (approximately 15 min., 50 sec.) ",
                  "notes": "Respooled from 3 1/4 inch reel, tail out, large hub. Recorded using Fi-Cord 1A portable reel tape recorder.",
                  "Summary": "John Hutchinson is an ornithologist and a birdcall recordist. Tape 1A39, consists of field recordings of bird calls made at the Gascoyne River, Carnarvon on 22 February 1964 and Carnarvon on 23 February 1964 and and 6 March 1964 and Gascoyne Research",
                  "Subject headings: Topical": "Birds;Little corellas;Mudlarks;Weeros;Cockatoos;Birdsongs;Birdsongs",
                  "Caption for URL": "John Hutchinson's bird songs recorded on 22 and 23 February 1964 and 6 March 1964. Part 1;View the finding aid for this collection",
                  "URL": "http://purl.slwa.wa.gov.au/slwa_b3628673_1",
                  "URL2": null
                },
                {
                  "index": 39,
                  "Local system number": "b36286904",
                  "call number": "ACC 8661A/40",
                  "Title": "John Hutchinson's bird songs recorded on 6, 10 and 21 March 1964.",
                  "Date": "1964",
                  "Description of physical object": "1 audiotape reel (approximately 12 min.) ",
                  "notes": "Respooled from 3 1/4 inch reel, tail out, large hub. Recorded using Fi-Cord 1A portable reel tape recorder.",
                  "Summary": "John Hutchinson is an ornithologist and a birdcall recordist. Tape 1A40, consists of field recordings of bird calls made at Carnarvon on 6 March and at the Gascoyne Research Station, Carnarvon on 10 and 21 March. This tape reel is accompanied by a fi",
                  "Subject headings: Topical": "Birds;Honeyeaters;Bee eaters;Weeros;Birdsongs;Birdsongs",
                  "Caption for URL": "John Hutchinson's bird songs recorded on 6, 10 and 21 March 1964. Part 1;View the finding aid for this collection",
                  "URL": "http://purl.slwa.wa.gov.au/slwa_b3628690_1",
                  "URL2": null
                },
                {
                  "index": 40,
                  "Local system number": "b36286989",
                  "call number": "ACC 8661A/42",
                  "Title": "John Hutchinson's bird songs recorded on 2 and 6 May 1964 and 22 January 1965.",
                  "Date": "1965",
                  "Description of physical object": "1 audiotape reel (approximately 15 min., 40 sec.) ",
                  "notes": "Respooled from 3 1/4 inch reel, tail out, large hub. Recorded using Fi-Cord 1A portable reel tape recorder.",
                  "Summary": "John Hutchinson is an ornithologist and a birdcall recordist. Tape 1A42, consists of field recordings of bird calls made at the Gascoyne Research Station, Carnarvon on 2 and 6 May 1964 and at Carnarvon on 22 January 1965. This tape reel is accompanie",
                  "Subject headings: Topical": "Birds;Honeyeaters;Shrike-thrushes;Wild turkey;Birdsongs",
                  "Caption for URL": "John Hutchinson's bird songs recorded on 2 and 6 May 1964 and 22 January 1965. Part 1;View the finding aid for this collection",
                  "URL": "http://purl.slwa.wa.gov.au/slwa_b3628698_1",
                  "URL2": null
                },
                {
                  "index": 41,
                  "Local system number": "b36287003",
                  "call number": "ACC 8661A/41",
                  "Title": "John Hutchinson's bird songs recorded on 2 and 27 April 1964.",
                  "Date": "1964",
                  "Description of physical object": "1 audiotape reel (approximately 14 min., 10 sec.) ",
                  "notes": "Respooled from 3 1/4 inch reel, tail out, large hub. Recorded using Fi-Cord 1A portable reel tape recorder.",
                  "Summary": "John Hutchinson is an ornithologist and a birdcall recordist. Tape 1A41, consists of field recordings of bird calls made at the Gascoyne Research Station, Carnarvon on 26 and 27 April 1964. This tape reel is accompanied by a field note. ACC 8661A/41 ",
                  "Subject headings: Topical": "Birds;Honeyeaters;Shrike-thrushes;Birdsongs",
                  "Caption for URL": "John Hutchinson's bird songs recorded on 2 and 27 April 1964. Part 1;View the finding aid for this collection",
                  "URL": "http://purl.slwa.wa.gov.au/slwa_b3628700_1",
                  "URL2": null
                },
                {
                  "index": 42,
                  "Local system number": "b36287222",
                  "call number": "ACC 8661A/43",
                  "Title": "John Hutchinson's bird songs recorded on 3 and 30 January 1965 and 2, 4 and 8 February 1965.",
                  "Date": "1965",
                  "Description of physical object": "1 audiotape reel (approximately 15 min., 45 sec.) ",
                  "notes": "Respooled from 3 1/4 inch reel, tail out, large hub. First recordings with Ficord 202 recorder, Beyer M119 microphone. ",
                  "Summary": "John Hutchinson is an ornithologist and a birdcall recordist. Tape 1A43, consists of field recordings of bird calls made at the Gascoyne Research Station, Carnarvon on 3 January 1965 and 2, 4 and 8 February 1965 and at 17 Mile Bore, Carnarvon on 30 J",
                  "Subject headings: Topical": "Birds;Hens;Honeyeaters;Galah;Shrike-thrushes;Cuckoo-shrikes;Wild turkey;Finches;Birdsongs",
                  "Caption for URL": "John Hutchinson's bird songs recorded on 3 and 30 January 1965 and 2, 4 and 8 February 1965. Part 1;View the finding aid for this collection",
                  "URL": "http://purl.slwa.wa.gov.au/slwa_b3628722_1",
                  "URL2": null
                },
                {
                  "index": 43,
                  "Local system number": "b36287374",
                  "call number": "ACC 8661A/56",
                  "Title": "John Hutchinson's bird songs recorded on 24 and 25 July 1965.",
                  "Date": "1965",
                  "Description of physical object": "1 audiotape reel (approximately 19 min.) ",
                  "notes": "Recorder used for this recording: Ficord 202, Beyer M119 microphone. ",
                  "Summary": "John Hutchinson is an ornithologist and a birdcall recordist. Tape 4\"/8, consists of field recordings of bird calls made at Tropic of Capricorn near Carnarvon and Onslow on 24 and 25 July 1965. This tape reel is accompanied by a field note. ACC 8661A",
                  "Subject headings: Topical": "Birds;Bellbirds;Wedgebills;Pipits;Woodswallows;Birdsongs;Birdsongs",
                  "Caption for URL": "John Hutchinson's bird songs recorded on 24 and 25 July 1965. Part 1;View the finding aid for this collection",
                  "URL": "http://purl.slwa.wa.gov.au/slwa_b3628737_2",
                  "URL2": null
                },
                {
                  "index": 44,
                  "Local system number": "b36287465",
                  "call number": "ACC 8661A/44",
                  "Title": "John Hutchinson's bird songs recorded on 11, 13 and 28 February 1965 and 5 March 1965.",
                  "Date": "1965",
                  "Description of physical object": "1 audiotape reel (approximately 15 min., 50 sec.) ",
                  "notes": "Respooled from 3 1/4 inch reel, tail out, large hub. Recorded using a Ficord 202 recorder. ",
                  "Summary": "John Hutchinson is an ornithologist and a birdcall recordist. Tape 1A44, consists of field recordings of bird calls made at the Gascoyne Research Station, Carnarvon on 11, 13, 28 February 1965 and on 5 March 1965. This tape reel is accompanied by a f",
                  "Subject headings: Topical": "Birds;Mistletoe birds;Honeyeaters;Bee eaters;Birdsongs",
                  "Caption for URL": "John Hutchinson's bird songs recorded on 11, 13 and 28 February 1965 and 5 March 1965. Part 1;View the finding aid for this collection",
                  "URL": "http://purl.slwa.wa.gov.au/slwa_b3628746_1",
                  "URL2": null
                },
                {
                  "index": 45,
                  "Local system number": "b36287489",
                  "call number": "ACC 8661A/45",
                  "Title": "John Hutchinson's bird songs recorded on 2 May 1965.",
                  "Date": "1965",
                  "Description of physical object": "1 audiotape reel (approximately 12 min., 14 sec.) ",
                  "notes": "Respooled from 3 1/4 inch reel, tail out, large hub. Recorded using Fi-Cord 1A portable reel tape recorder.",
                  "Summary": "John Hutchinson is an ornithologist and a birdcall recordist. Tape 1A45, consists of field recordings of bird calls made at the Ord River Station, Negri River 2 May 1965. This tape reel is accompanied by a field note. ACC 8661A/45 ",
                  "Subject headings: Topical": "Birds;Shrike-thrushes;Great bowerbirds;Birdsongs;Birdsongs",
                  "Caption for URL": "John Hutchinson's bird songs recorded on 2 May 1965. Part 1;View the finding aid for this collection",
                  "URL": "http://purl.slwa.wa.gov.au/slwa_b3628748_1",
                  "URL2": null
                },
                {
                  "index": 46,
                  "Local system number": "b36287507",
                  "call number": "ACC 8661A/46",
                  "Title": "John Hutchinson's bird songs recorded on 2 and 3 May 1965.",
                  "Date": "1965",
                  "Description of physical object": "1 audiotape reel (approximately 15 min., 55 sec.) ",
                  "notes": "Respooled from 3 1/4 inch reel, tail out, large hub. Recorded using Fi-Cord 1A portable reel tape recorder.",
                  "Summary": "John Hutchinson is an ornithologist and a birdcall recordist. Tape 1A46, consists of field recordings of bird calls made at the Negri River on 2 and 3 May 1965. This tape reel is accompanied by a field note. ACC 8661A/46 ",
                  "Subject headings: Topical": "Birds;Crows;Great bowerbirds;Birdsongs",
                  "Caption for URL": "John Hutchinson's bird songs recorded on 2 and 3 May 1965. Part 1;View the finding aid for this collection",
                  "URL": "http://purl.slwa.wa.gov.au/slwa_b3628750_1",
                  "URL2": null
                },
                {
                  "index": 47,
                  "Local system number": "b36287520",
                  "call number": "ACC 8661A/47",
                  "Title": "John Hutchinson's bird songs recorded on 2 and 7 May 1965.",
                  "Date": "1965",
                  "Description of physical object": "1 audiotape reel (approximately 15 min., 55 sec.) ",
                  "notes": "Respooled from 3 1/4 inch reel, tail out, large hub. Recorded using Fi-Cord 1A portable reel tape recorder.",
                  "Summary": "John Hutchinson is an ornithologist and a birdcall recordist. Tape 1A47, consists of field recordings of bird calls made at the Negri River on 2 May 1965 and at Wyndham Marsh 7 May 1965. This tape reel is accompanied by a field note. ACC 8661A/47 ",
                  "Subject headings: Topical": "Birds;Mudlarks;Honeyeaters;Weeros;Great bowerbirds;Birdsongs;Birdsongs",
                  "Caption for URL": "John Hutchinson's bird songs recorded on 2 and 7 May 1965. Part 1;View the finding aid for this collection",
                  "URL": "http://purl.slwa.wa.gov.au/slwa_b3628752_1",
                  "URL2": null
                },
                {
                  "index": 48,
                  "Local system number": "b36287544",
                  "call number": "ACC 8661A/48",
                  "Title": "John Hutchinson's bird songs recorded on 21 March 1967.",
                  "Date": "1967",
                  "Description of physical object": "1 audiotape reel (approximately 24 min., 49 sec.) ",
                  "notes": "Respooled from 3 1/4 inch reel, tail out, large hub. Recorded using Fi-Cord 1A portable reel tape recorder.",
                  "Summary": "John Hutchinson is an ornithologist and a birdcall recordist. Tape 1A48, consists of field recordings of bird calls made at the Carnarvon tidal creek on 21 March 1967. This tape reel is accompanied by a field note. ACC 8661A/48. The first 15 minutes ",
                  "Subject headings: Topical": "Birds;Cormorants;Birdsongs",
                  "Caption for URL": "John Hutchinson's bird songs recorded on 21 March 1967. Part 1;John Hutchinson's bird songs recorded on 21 March 1967. Part 2;View the finding aid for this collection",
                  "URL": "http://purl.slwa.wa.gov.au/slwa_b3628754_1",
                  "URL2": "http://purl.slwa.wa.gov.au/slwa_b3628754_2"
                },
                {
                  "index": 49,
                  "Local system number": "b36287647",
                  "call number": "ACC 8661A/49",
                  "Title": "John Hutchinson's bird songs recorded on 12, 26 and 27 March 1965 and 23 April 1965.",
                  "Date": "1965",
                  "Description of physical object": "1 audiotape reel (approximately 14 min.) ",
                  "notes": "Respooled from 3 1/4 inch reel, tail out, large hub. Recorded using Fi-Cord 202 portable reel tape recorder.",
                  "Summary": "John Hutchinson is an ornithologist and a birdcall recordist. Tape 4\"/1, consists of field recordings of bird calls made at the Gascoyne Research Station, Carnarvon on 12, 26 and 27 March 1965 and at Wyndham on 23 April 1965. This tape reel is accomp",
                  "Subject headings: Topical": "Birds;Honeyeaters;Bee eaters;Birdsongs;Birdsongs;Birdsongs",
                  "Caption for URL": "John Hutchinson's bird songs recorded on 12, 26 and 27 March 1965 and 23 April 1965. Part 1;View the finding aid for this collection",
                  "URL": "http://purl.slwa.wa.gov.au/slwa_b3628764_2",
                  "URL2": null
                },
                {
                  "index": 50,
                  "Local system number": "b36289140",
                  "call number": "ACC 8661A/50 ",
                  "Title": "John Hutchinson's bird songs recorded on 23, 24, 25 and 26 April 1965.",
                  "Date": "1965",
                  "Description of physical object": "1 audiotape reel (approximately 14 min.) ",
                  "notes": "Respooled from 3 1/4 inch reel, tail out, large hub. Recorded using Fi-Cord 202 portable reel tape recorder.",
                  "Summary": "John Hutchinson is an ornithologist and a birdcall recordist. Tape 4\"/2, consists of field recordings of bird calls made at the Gascoyne Research Station, Carnarvon on 12, 26 and 27 March 1965 and at Wyndham on 23 April 1965. This tape reel is accomp",
                  "Subject headings: Topical": "Birds;Honeyeaters;Friarbirds;Pomatostomus temporalis;Willy wagtails;Birdsongs;Birdsongs;Birdsongs",
                  "Caption for URL": "John Hutchinson's bird songs recorded on 23, 24, 25 and 26 April 1965. Part 1;View the finding aid for this collection",
                  "URL": "http://purl.slwa.wa.gov.au/slwa_b3628914_2",
                  "URL2": null
                },
                {
                  "index": 51,
                  "Local system number": "b3628919x",
                  "call number": "ACC 8661A/51",
                  "Title": "John Hutchinson's bird songs recorded in 26 April 1965.",
                  "Date": "1965",
                  "Description of physical object": "1 audiotape reel (approximately 19 min.) ",
                  "notes": "Respooled from 3 1/4 inch reel, tail out, large hub. Recorded using Fi-Cord 202 portable reel tape recorder.",
                  "Summary": "John Hutchinson is an ornithologist and a birdcall recordist. Tape 4\"/3, consists of field recordings of bird calls made at Negri River in April 1965. This tape reel is accompanied by a field note. ACC 8661A/51 ",
                  "Subject headings: Topical": "Birds;Honeyeaters;Peaceful doves;Doves;Crows;Lories;Whistling ducks;Magpie lark;Shrike-thrushes;Scissors grinder;Pomatostomus temporalis;Birdsongs;Birdsongs;Birdsongs",
                  "Caption for URL": "John Hutchinson's bird songs recorded in 26 April 1965. Part 1;View the finding aid for this collection",
                  "URL": "http://purl.slwa.wa.gov.au/slwa_b3628919_2",
                  "URL2": null
                },
                {
                  "index": 52,
                  "Local system number": "b36309321",
                  "call number": "ACC 8661A/52",
                  "Title": "John Hutchinson's bird songs recorded in 10 and 29 May 1965 and  1, 2, 4 and 5 June 1965.",
                  "Date": "1965",
                  "Description of physical object": "1 audiotape reel (approximately 18 min.) ",
                  "notes": "Respooled from 3 1/4 inch reel, tail out, large hub. Recorded using Fi-Cord 202 portable reel tape recorder.",
                  "Summary": "John Hutchinson is an ornithologist and a birdcall recordist. Tape 4\"/4, consists of field recordings of bird calls made at Wyndham Marsh on 10 May 1965 and at Wyndham on 29 May 1965 and at Five Pools, Kununurra on 1 June 1965 then at Sandy Creek, Ku",
                  "Subject headings: Topical": "Birds;Honeyeaters;Bowerbirds;Willy wagtails;Kookaburra;Cockatoos;Crows;Cuckoo-shrikes;Mudlarks;Pied butcherbirds;Doves;Little corellas;Pardalotes;Pachycephala rufiventris;Peaceful doves;Birdsongs;Birdsongs;Birdsongs",
                  "Caption for URL": "John Hutchinson's bird songs recorded on 10 and 29 May 1965 and  1, 2, 4 and 5 June 1965. Part 1;View the finding aid for this collection",
                  "URL": "http://purl.slwa.wa.gov.au/slwa_b3630932_2",
                  "URL2": null
                },
                {
                  "index": 53,
                  "Local system number": "b36313105",
                  "call number": "ACC 8661A/53",
                  "Title": "John Hutchinson's bird songs recorded on 5, 8 and 9 June 1965.",
                  "Date": "1965",
                  "Description of physical object": "1 audiotape reel (approximately 14 min.) ",
                  "notes": "Respooled from 3 1/4 inch reel, tail out, large hub. Recorded using Fi-Cord 202 portable reel tape recorder.",
                  "Summary": "John Hutchinson is an ornithologist and a birdcall recordist. Tape 4\"/5, consists of field recordings of bird calls made at Sandy Creek, Kununurra on 5, 8 and 9 June 1965. This tape reel is accompanied by a field note. ACC 8661A/53 ",
                  "Subject headings: Topical": "Birds;Honeyeaters;Scissors grinder;Kookaburra;Crows;Frilled lizard;Little corellas;Pardalotes;Birdsongs",
                  "Caption for URL": "John Hutchinson's bird songs recorded on 5, 8 and 9 June 1965. Part 1;View the finding aid for this collection",
                  "URL": "http://purl.slwa.wa.gov.au/slwa_b3631310_2",
                  "URL2": null
                },
                {
                  "index": 54,
                  "Local system number": "b36313129",
                  "call number": "ACC 8661A/54",
                  "Title": "John Hutchinson's bird songs recorded on 12, 13, 19 and 20 June 1965.",
                  "Date": "1965",
                  "Description of physical object": "1 audiotape reel (approximately 18 min.) ",
                  "notes": "Respooled from 3 1/4 inch reel, tail out, large hub. Recorded using Fi-Cord 202 portable reel tape recorder.",
                  "Summary": "John Hutchinson is an ornithologist and a birdcall recordist. Tape 4\"/6, consists of field recordings of bird calls made at Sandy Creek, Kununurra on 12, 13 and 20 June 1965 and at Wyndham Near Ivanhoe Black Rocks Pool on 19 June 1965. This tape reel",
                  "Subject headings: Topical": "Birds;Honeyeaters;Scissors grinder;Kookaburra;Crows;Magpie lark;Rainbow birds;Bee eaters;Little corellas;Kookaburra;Finches;Peaceful doves;Pachycephala rufiventris;Pardalotes;Birdsongs;Birdsongs",
                  "Caption for URL": "John Hutchinson's bird songs recorded on 12, 13, 19 and 20 June 1965. Part 1;View the finding aid for this collection",
                  "URL": "http://purl.slwa.wa.gov.au/slwa_b3631312_2",
                  "URL2": null
                },
                {
                  "index": 55,
                  "Local system number": "b36318383",
                  "call number": "ACC 8661A/65",
                  "Title": "John Hutchinson's bird songs recorded on 20, 21, 22, 23, 24 and 30 March 1966.",
                  "Date": "1966",
                  "Description of physical object": "1 audiotape reel (approximately 17 min.) ",
                  "notes": "Respooled from 3 1/4 inch reel, tail out, large hub. Recorded using Fi-Cord 202 portable reel tape recorder.",
                  "Summary": "John Hutchinson is an ornithologist and a birdcall recordist. Tape 4\"/17, consists of field recordings of bird calls made at Parry's Creek, Wyndham on 20 March 1966 and at Wyndham Marsh on 21 and 22 March 1966 and at Carlton Crossing, Ord River on 23",
                  "Subject headings: Topical": "Birds;Honeyeaters;Willy wagtails;Reed warblers;Crows;Magpie lark;Ibises;Katydids;Pomatostomus temporalis ;Pachycephala rufiventris;Birdsongs;Birdsongs",
                  "Caption for URL": "John Hutchinson's bird songs recorded on 20, 21, 22, 23, 24 and 30 March 1966. Part 1;View the finding aid for this collection",
                  "URL": "http://purl.slwa.wa.gov.au/slwa_b3631838_2",
                  "URL2": null
                },
                {
                  "index": 56,
                  "Local system number": "b36399607",
                  "call number": "ACC 8661A/55",
                  "Title": "John Hutchinson's bird songs recorded on 21 June 1965 and 3, 5, 6, 21, 22, 23 and 24 July 1965.",
                  "Date": "1965",
                  "Description of physical object": "1 audiotape reel (approximately 17 min.) ",
                  "notes": "Respooled from 3 1/4 inch reel, tail out, large hub. Recorded using Fi-Cord 202 portable reel tape recorder.",
                  "Summary": "John Hutchinson is an ornithologist and a birdcall recordist. Tape 4\"/7, consists of field recordings of bird calls made at Sandy Creek, Kununurra on 21 June 1965 and at Derby on 5 and 6 July 1965 and at Roebourne on 21 July 1965 and at Koordairie, O",
                  "Subject headings: Topical": "Birds;Honeyeaters;Scissors grinder;Pomatostomus temporalis;Crows;Pied butcherbirds;Woodswallows;Pigeons;Little corellas;Magpie lark;Pipits;Wedgebills;Bellbirds;Birdsongs;Birdsongs;Birdsongs;Birdsongs",
                  "Caption for URL": "John Hutchinson's bird songs recorded on 21 June 1965 and 3, 5, 6, 21, 22, 23 and 24 July 1965. Part 1;View the finding aid for this collection",
                  "URL": "http://purl.slwa.wa.gov.au/slwa_b3639960_2",
                  "URL2": null
                },
                {
                  "index": 57,
                  "Local system number": "b36402291",
                  "call number": "ACC 8661A/57",
                  "Title": "John Hutchinson's bird songs recorded on 25 and 26 July 1965.",
                  "Date": "1965",
                  "Description of physical object": "1 audiotape reel (approximately 21 min.) ",
                  "notes": "Recorder used for this recording: Ficord 202, Beyer M119 microphone. ",
                  "Summary": "John Hutchinson is an ornithologist and a birdcall recordist. Tape 4\"/9, consists of field recordings of bird calls made at Tropic of Capricorn, road to Onslow on 25 July 1965 and north of Carnavon, WA on 25 and 26 July 1965. This tape reel is accomp",
                  "Subject headings: Topical": "Birds;Trillers;Wedgebills;Woodswallows;Birdsongs;Birdsongs",
                  "Caption for URL": "John Hutchinson's bird songs recorded on 25 and 26 July 1965. Part 1;View the finding aid for this collection",
                  "URL": "http://purl.slwa.wa.gov.au/slwa_b3640229_2",
                  "URL2": null
                },
                {
                  "index": 58,
                  "Local system number": "b36521607",
                  "call number": "ACC 8661A/58",
                  "Title": "John Hutchinson's bird songs recorded on 28 and 30 July 1965 and 1 and 3 August 1965.",
                  "Date": "1965",
                  "Description of physical object": "1 audiotape reel (approximately 13 min.) ",
                  "notes": "Recorded using Fi-Cord 202 portable reel tape recorder.",
                  "Summary": "John Hutchinson is an ornithologist and a birdcall recordist. Tape 4\"/10, consists of field recordings of bird calls made at Swamp Island, Nicol Bay Carnarvon on 28 July 1965 and Gascoyne Research Station, Carnavon on 30 July 1965 and 1 and 3 August.",
                  "Subject headings: Topical": "Birds;Songlarks;Honeyeaters;Birdsongs;Birdsongs",
                  "Caption for URL": "John Hutchinson's bird songs recorded on 28 and 30 July 1965 and 1 and 3 August 1965. Part 1;View the finding aid for this collection",
                  "URL": "http://purl.slwa.wa.gov.au/slwa_b3652160_2",
                  "URL2": null
                },
                {
                  "index": 59,
                  "Local system number": "b36521760",
                  "call number": "ACC 8661A/59",
                  "Title": "John Hutchinson's bird songs recorded on 7, 11, 15, 19 and 20 August 1965.",
                  "Date": "1965",
                  "Description of physical object": "1 audiotape reel (approximately 12 min.) ",
                  "notes": "Recorded using Fi-Cord 202 portable reel tape recorder.",
                  "Summary": "John Hutchinson is an ornithologist and a birdcall recordist. Tape 4\"/11, consists of field recordings of bird calls made at Gascoyne Research Station, Carnavon on 7, 11, 15, 19 and 20 August 1965. This tape reel is accompanied by a field note. ACC 8",
                  "Subject headings: Topical": "Birds;Songlarks;Trillers;Crows;Hawks;Cuckoos;Honeyeaters;Birdsongs;Birdsongs",
                  "Caption for URL": "John Hutchinson's bird songs recorded on 7, 11, 15, 19 and 20 August 1965. Part 1;View the finding aid for this collection",
                  "URL": "http://purl.slwa.wa.gov.au/slwa_b3652176_2",
                  "URL2": null
                },
                {
                  "index": 60,
                  "Local system number": "b36521772",
                  "call number": "ACC 8661A/60",
                  "Title": "John Hutchinson's bird songs recorded on 16 September 1965.",
                  "Date": "1965",
                  "Description of physical object": "1 audiotape reel (approximately 20 min.) ",
                  "notes": "Recorded using Fi-Cord 202 portable reel tape recorder. Some distortion on this tape.",
                  "Summary": "John Hutchinson is an ornithologist and a birdcall recordist. Tape 4\"/12, consists of field recordings of bird calls made at Glen Roy Station, Onslow on 16 September 1965. This tape reel is accompanied by a field note. ACC 8661A/60 ",
                  "Subject headings: Topical": "Birds;Brolga;Birdsongs",
                  "Caption for URL": "John Hutchinson's bird songs recorded on 16 September 1965. Part 1;View the finding aid for this collection",
                  "URL": "http://purl.slwa.wa.gov.au/slwa_b3652177_2",
                  "URL2": null
                },
                {
                  "index": 61,
                  "Local system number": "b36521802",
                  "call number": "ACC 8661A/61",
                  "Title": "John Hutchinson's bird songs recorded on 26 February 1966 and 2 March 1966.",
                  "Date": "1966",
                  "Description of physical object": "1 audiotape reel (approximately 15 min.) ",
                  "notes": "Recorded using Fi-Cord 202 portable reel tape recorder.",
                  "Summary": "John Hutchinson is an ornithologist and a birdcall recordist. Tape 4\"13, consists of field recordings of bird calls made at Thangoo Station on 26 February 1966 and Lange Crossing, Derby on 2 March 1966. This tape reel is accompanied by a field note. ",
                  "Subject headings: Topical": "Birds;Honeyeaters;Willy wagtails;Pachycephala rufiventris;Cuckoos;Birdsongs;Birdsongs;Birdsongs",
                  "Caption for URL": "John Hutchinson's bird songs recorded on 26 February 1966 and 2 March 1966. Part 1;View the finding aid for this collection",
                  "URL": "http://purl.slwa.wa.gov.au/slwa_b3652180_2",
                  "URL2": null
                },
                {
                  "index": 62,
                  "Local system number": "b36523343",
                  "call number": "ACC 8661A/62",
                  "Title": "John Hutchinson's bird songs recorded on 2 and 3 March 1966.",
                  "Date": "1966",
                  "Description of physical object": "1 audiotape reel (approximately 15 min.) ",
                  "notes": "Recorded using Fi-Cord 202 portable reel tape recorder.",
                  "Summary": "John Hutchinson is an ornithologist and a birdcall recordist. Tape 4\"/14, consists of field recordings of bird calls made at Lange Crossing, Derby on 2 and 3 March 1966. This tape reel is accompanied by a field note. ACC 8661A/62 ",
                  "Subject headings: Topical": "Birds;Pomatostomus temporalis;Pachycephala rufiventris;Birdsongs;Birdsongs",
                  "Caption for URL": "John Hutchinson's bird songs recorded on 2 and 3 March 1966. Part 1;View the finding aid for this collection",
                  "URL": "http://purl.slwa.wa.gov.au/slwa_b3652334_2",
                  "URL2": null
                },
                {
                  "index": 63,
                  "Local system number": "b36523355",
                  "call number": "ACC 8661A/63",
                  "Title": "John Hutchinson's bird songs recorded on 3 and 5 March 1966.",
                  "Date": "1966",
                  "Description of physical object": "1 audiotape reel (approximately 85 min.) ",
                  "notes": "Recorded using Fi-Cord 202 portable reel tape recorder.",
                  "Summary": "John Hutchinson is an ornithologist and a birdcall recordist. Tape 4\"/15, consists of field recordings of bird calls made at Lange Crossing, Derby on 3 and 5 March 1966. This tape reel is accompanied by a field note. ACC 8661A/63 ",
                  "Subject headings: Topical": "Birds;Magpie lark;Honeyeaters;Bushlarks;Cuckoos;Pomatostomus temporalis;Pachycephala rufiventris;Birdsongs;Birdsongs",
                  "Caption for URL": "John Hutchinson's bird songs recorded on 3 and 5 March 1966. Part 1;View the finding aid for this collection",
                  "URL": "http://purl.slwa.wa.gov.au/slwa_b3652335_2",
                  "URL2": null
                },
                {
                  "index": 64,
                  "Local system number": "b36528171",
                  "call number": "ACC 8661A/64",
                  "Title": "John Hutchinson's bird songs recorded on 4 March 1966.",
                  "Date": "1966",
                  "Description of physical object": "1 audiotape reel (approximately 15 min.) ",
                  "notes": "Recorded using Fi-Cord 202 portable reel tape recorder.",
                  "Summary": "John Hutchinson is an ornithologist and a birdcall recordist. Tape 4\"/16, consists of field recordings of bird calls made upstream from Lange Crossing, Derby on 4 March 1966. This tape reel is accompanied by a field note. ACC 8661A/64 ",
                  "Subject headings: Topical": "Birds;Bushlarks;Pomatostomus temporalis;Birdsongs",
                  "Caption for URL": "John Hutchinson's bird songs recorded on 4 March 1966. Part 1;View the finding aid for this collection",
                  "URL": "http://purl.slwa.wa.gov.au/slwa_b3652817_2",
                  "URL2": null
                },
                {
                  "index": 65,
                  "Local system number": "b36530268",
                  "call number": "ACC 8661A/66",
                  "Title": "John Hutchinson's bird songs recorded on 1, 6, 7, 9 and 19 April 1966.",
                  "Date": "1966",
                  "Description of physical object": "1 audiotape reel (approximately 85 min.) ",
                  "notes": "Recorded using Fi-Cord 202 portable reel tape recorder.",
                  "Summary": "John Hutchinson is an ornithologist and a birdcall recordist. Tape 4\"/18, consists of field recordings of bird calls made at Kununurra on 1, 6, 7, 9 and 19 April 1966. This tape reel is accompanied by a field note. ACC 8661A/66 ",
                  "Subject headings: Topical": "Birds;Mistletoe birds;Honeyeaters;Bushlarks;Crows;Scissors grinder;Pachycephala rufiventris;Birdsongs;Birdsongs",
                  "Caption for URL": "John Hutchinson's bird songs recorded on 1, 6, 7, 9 and 19 April 1966. Part 1",
                  "URL": "http://purl.slwa.wa.gov.au/slwa_b3653026_2",
                  "URL2": null
                },
                {
                  "index": 66,
                  "Local system number": "b3653027x",
                  "call number": "ACC 8661A/67",
                  "Title": "John Hutchinson's bird songs recorded on 19, 20 and 21 April 1966 and 7 and 8 May 1966.",
                  "Date": "1966",
                  "Description of physical object": "1 audiotape reel (approximately 14 min.) ",
                  "notes": "Recorded using Fi-Cord 202 portable reel tape recorder.",
                  "Summary": "John Hutchinson is an ornithologist and a birdcall recordist. Tape 4\"/19, consists of field recordings of bird calls made at Kununurra on 19 April 1966 and at Hart's Crossing, Ord River on 20 April 1966 and at Wild Dog Swamp near Kununurra 30 miles o",
                  "Subject headings: Topical": "Birds;Mudlarks;Bee eaters;Honeyeaters;Doves;Cuckoos;Cockatoos;Mistletoe birds;Crows;Scissors grinder;Reed warblers;Little corellas;Galah;Birdsongs;Birdsongs",
                  "Caption for URL": "John Hutchinson's bird songs recorded on 19, 20 and 21 April 1966 and 7 and 8 May 1966. Part 1",
                  "URL": "http://purl.slwa.wa.gov.au/slwa_b3653027_2",
                  "URL2": null
                },
                {
                  "index": 67,
                  "Local system number": "b36530335",
                  "call number": "ACC 8661A/68",
                  "Title": "John Hutchinson's bird songs recorded on 8, 9 and 15 May 1966.",
                  "Date": "1966",
                  "Description of physical object": "1 audiotape reel (approximately 14 min.) ",
                  "notes": "Recorded using Fi-Cord 202 portable reel tape recorder.",
                  "Summary": "John Hutchinson is an ornithologist and a birdcall recordist. Tape 4\"/20, consists of field recordings of bird calls made at Durham River, Kununurra on 8 and 9 May 1966 and at Sandy Creek Kununurra on 15 May 1966. This tape reel is accompanied by a f",
                  "Subject headings: Topical": "Birds;Willy wagtails;Magpie lark;Pied butcherbirds;Fantails;Doves;Honeyeaters;Mistletoe birds;Friarbirds;Scissors grinder;Bowerbirds;Birdsongs;Birdsongs",
                  "Caption for URL": "John Hutchinson's bird songs recorded on 8, 9 and 15 May 1966. Part 1",
                  "URL": "http://purl.slwa.wa.gov.au/slwa_b3653033_2",
                  "URL2": null
                },
                {
                  "index": 68,
                  "Local system number": "b36530347",
                  "call number": "ACC 8661A/69",
                  "Title": "John Hutchinson's bird songs recorded on 25, 29 and 30 May 1966.",
                  "Date": "1966",
                  "Description of physical object": "1 audiotape reel (approximately 14 min.) ",
                  "notes": "Recorded using Fi-Cord 202 portable reel tape recorder.",
                  "Summary": "John Hutchinson is an ornithologist and a birdcall recordist. Tape 4\"/21, consists of field recordings of bird calls made at Durham River, Kununurra on 25, 29 and 30 May 1966. This tape reel is accompanied by a field note. ACC 8661A/69 ",
                  "Subject headings: Topical": "Birds;Fantails;Doves;Honeyeaters;Birdsongs",
                  "Caption for URL": "John Hutchinson's bird songs recorded on 25, 29 and 30 May 1966. Part 1",
                  "URL": "http://purl.slwa.wa.gov.au/slwa_b3653034_2",
                  "URL2": null
                },
                {
                  "index": 69,
                  "Local system number": "b36532915",
                  "call number": "ACC 8661A/70",
                  "Title": "John Hutchinson's bird songs recorded on 30 May 1966 and 1 and 23 June 1966.",
                  "Date": "1966",
                  "Description of physical object": "1 audiotape reel (approximately14 min.) ",
                  "notes": "Recorded using Fi-Cord 202 portable reel tape recorder.",
                  "Summary": "John Hutchinson is an ornithologist and a birdcall recordist. Tape 4\"/22, consists of field recordings of bird calls made at Durham River, Kununurra on 30 May 1966 and 1 June 1966 and at Gascoyne Research Station, Carnarvon on 23 June 1966. This tape",
                  "Subject headings: Topical": "Birds;Fantails;Magpie lark;Honeyeaters;Kookaburra;Owls;Birdsongs;Birdsongs",
                  "Caption for URL": "John Hutchinson's bird songs recorded on 30 May 1966 and 1 and 23 June 1966. Part 1",
                  "URL": "http://purl.slwa.wa.gov.au/slwa_b3653291_2",
                  "URL2": null
                },
                {
                  "index": 70,
                  "Local system number": "b36532940",
                  "call number": "ACC 8661A/71",
                  "Title": "John Hutchinson's bird songs recorded on 9 December 1966, 24 February 1967 and 4 and 5 March 1967.",
                  "Date": "1967",
                  "Description of physical object": "1 audiotape reel (approximately12 min.) ",
                  "notes": "Recorded using Fi-Cord 202 portable reel tape recorder.",
                  "Summary": "John Hutchinson is an ornithologist and a birdcall recordist. Tape 4\"/23, consists of field recordings of bird calls made at Kununurra on 9 December 1966 and at Gascoyne Research Station, Carnarvon on 24 February 1967 and 4 and 5 March 1967. This tap",
                  "Subject headings: Topical": "Birds;Koels;Pied butcherbirds;Yellow-throated miners;Kookaburra;Mistletoe birds;Whistlers (Birds);Wedgebills;Honeyeaters;Wrens;Birdsongs;Birdsongs",
                  "Caption for URL": "John Hutchinson's bird songs recorded on 9 December 1966, 24 February 1967 and 4 and 5 March 1967. Part 1",
                  "URL": "http://purl.slwa.wa.gov.au/slwa_b3653294_2",
                  "URL2": null
                },
                {
                  "index": 71,
                  "Local system number": "b36545715",
                  "call number": "ACC 8661A/72",
                  "Title": "John Hutchinson's bird songs recorded on 30 June 1966 and 9,10,11 and 13 July 1966 and 9 April 1966.",
                  "Date": "1966",
                  "Description of physical object": "1 audiotape reel (approximately 15 min.) ",
                  "notes": "Recorded using Fi-Cord 202 portable reel tape recorder.",
                  "Summary": "John Hutchinson is an ornithologist and a birdcall recordist. Tape 4\"/24, consists of field recordings of bird calls made at Gascoyne Research Station, Carnarvon on  30 June 1966 and 9, 10,11 and 13 July 1966 and at Mrs Duprets House, Carnarvon on 9 ",
                  "Subject headings: Topical": "Birds;Bee eaters;Hawks;Cockatiels;Honeyeaters;Birdsongs;Birdsongs",
                  "Caption for URL": "John Hutchinson's bird songs recorded on 30 June 1966 and 9,10,11 and 13 July 1966 and 9 April 1966. Part 1",
                  "URL": "http://purl.slwa.wa.gov.au/slwa_b3654571_2",
                  "URL2": null
                },
                {
                  "index": 72,
                  "Local system number": "b36546227",
                  "call number": "ACC 8661A/73",
                  "Title": "John Hutchinson's bird songs recorded on 17 April 1967 and 29 May 1967.",
                  "Date": "1967",
                  "Description of physical object": "1 audiotape reel (approximately 12 min.) ",
                  "notes": "Recorded using Fi-Cord 202 portable reel tape recorder.",
                  "Summary": "John Hutchinson is an ornithologist and a birdcall recordist. Tape 4\"/25, consists of field recordings of bird calls made at Gascoyne Research Station, Carnarvon on 17 April 1967 and at Munkajara, Carnarvon on 29 May 1967. This tape reel is accompani",
                  "Subject headings: Topical": "Birds;Honeyeaters;Scissors grinder;Birdsongs",
                  "Caption for URL": "John Hutchinson's bird songs recorded on 17 April 1967 and 29 May 1967. Part 1",
                  "URL": "http://purl.slwa.wa.gov.au/slwa_b3654622_2",
                  "URL2": null
                },
                {
                  "index": 73,
                  "Local system number": "b36546288",
                  "call number": "ACC 8661A/74",
                  "Title": "John Hutchinson's bird songs recorded on 30 June 1967.",
                  "Date": "1967",
                  "Description of physical object": "1 audiotape reel (approximately 13 min.) ",
                  "notes": "Recorded using Fi-Cord 202 portable reel tape recorder.",
                  "Summary": "John Hutchinson is an ornithologist and a birdcall recordist. Tape 4\"26, consists of field recordings of bird calls made at Wyndham Marsh and Kununurra on 30 June 1967.This tape reel is accompanied by a field note. ACC 8661A/74 ",
                  "Subject headings: Topical": "Birds;Honeyeaters;Great bowerbirds;Birdsongs;Birdsongs",
                  "Caption for URL": "John Hutchinson's bird songs recorded on 30 June 1967. Part 1",
                  "URL": "http://purl.slwa.wa.gov.au/slwa_b3654628_2",
                  "URL2": null
                },
                {
                  "index": 74,
                  "Local system number": "b3654629x",
                  "call number": "ACC 8661A/75",
                  "Title": "John Hutchinson's bird songs recorded on 2 and 4 July 1967.",
                  "Date": "1967",
                  "Description of physical object": "1 audiotape reel (approximately 13 min.) ",
                  "notes": "Recorded using Fi-Cord 202 portable reel tape recorder.",
                  "Summary": "John Hutchinson is an ornithologist and a birdcall recordist. Tape 4\"/27 consists of field recordings of bird calls made at Kununurra on 2 and 4 July 1967.This tape reel is accompanied by a field note. ACC 8661A/75 ",
                  "Subject headings: Topical": "Birds;Great bowerbirds;Birdsongs",
                  "Caption for URL": "John Hutchinson's bird songs recorded on 2 and 4 July 1967. Part 1",
                  "URL": "http://purl.slwa.wa.gov.au/slwa_b3654629_2",
                  "URL2": null
                },
                {
                  "index": 75,
                  "Local system number": "b36546306",
                  "call number": "ACC 8661A/76",
                  "Title": "John Hutchinson's bird songs recorded on 4 July 1967.",
                  "Date": "1967",
                  "Description of physical object": "1 audiotape reel (approximately 12 min., 16 sec.) ",
                  "notes": "Recorded using Fi-Cord 202 portable reel tape recorder.",
                  "Summary": "John Hutchinson is an ornithologist and a birdcall recordist. Tape 4\"/28 consists of field recordings of bird calls made at Kununurra on 4 July 1967. This tape reel is accompanied by a field note. ACC 8661A/76 ",
                  "Subject headings: Topical": "Birds;Great bowerbirds;Lories;Pomatostomus temporalis;Birdsongs",
                  "Caption for URL": "John Hutchinson's bird songs recorded on 4 July 1967. Part 1",
                  "URL": "http://purl.slwa.wa.gov.au/slwa_b3654630_2",
                  "URL2": null
                },
                {
                  "index": 76,
                  "Local system number": "b36546410",
                  "call number": "ACC 8661A/78",
                  "Title": "John Hutchinson's bird songs recorded on 20, 22 and 26 July 1967.",
                  "Date": "1967",
                  "Description of physical object": "1 audiotape reel (approximately 12 min., 5 sec.) ",
                  "notes": "Recorded using Fi-Cord 202 portable reel tape recorder.",
                  "Summary": "John Hutchinson is an ornithologist and a birdcall recordist. Tape 4\"/30 consists of field recordings of bird calls made at Kununurra on  20, 22 and 26 July 1967. This tape reel is accompanied by a field note. ACC 8661A/78 ",
                  "Subject headings: Topical": "Birds;Cockatoos;Crows;Pachycephala rufiventris;Pied butcherbirds;Great bowerbirds;Birdsongs",
                  "Caption for URL": "John Hutchinson's bird songs recorded on 20, 22 and 26 July 1967. Part 1",
                  "URL": "http://purl.slwa.wa.gov.au/slwa_b3654641_2",
                  "URL2": null
                },
                {
                  "index": 77,
                  "Local system number": "b36548480",
                  "call number": "ACC 8661A/77",
                  "Title": "John Hutchinson's bird songs recorded on 7, 11 and 13 July 1967.",
                  "Date": "1967",
                  "Description of physical object": "1 audiotape reel (approximately 11 min., 23 sec.) ",
                  "notes": "Recorded using Fi-Cord 202 portable reel tape recorder.",
                  "Summary": "John Hutchinson is an ornithologist and a birdcall recordist. Tape 4\"/29 consists of field recordings of bird calls made at Kununurra on 7, 11 and 13  July 1967.This tape reel is accompanied by a field note. ACC 8661A/77 ",
                  "Subject headings: Topical": "Birds;Great bowerbirds;Emus;Pied butcherbirds;Birdsongs",
                  "Caption for URL": "John Hutchinson's bird songs recorded on 7, 11 and 13 July 1967. Part 1",
                  "URL": "http://purl.slwa.wa.gov.au/slwa_b3654848_2",
                  "URL2": null
                },
                {
                  "index": 78,
                  "Local system number": "b36548509",
                  "call number": "ACC 8661A/79",
                  "Title": "John Hutchinson's bird songs recorded on 27, 28, 30 and 31 July 1967.",
                  "Date": "1967",
                  "Description of physical object": "1 audiotape reel (approximately 13 min.) ",
                  "notes": "Recorded using Fi-Cord 202 portable reel tape recorder.",
                  "Summary": "John Hutchinson is an ornithologist and a birdcall recordist. Tape 4\"/31 consists of field recordings of bird calls made at Kununurra on  27, 28 and 30 July 1967 and at West side of dam, Kununurra on 31 July 1967.This tape reel is accompanied by a fi",
                  "Subject headings: Topical": "Birds;Kookaburra;Crows;Pachycephala rufiventris;Trillers;Sittellas;Passeriformes;Birdsongs",
                  "Caption for URL": "John Hutchinson's bird songs recorded on 27, 28, 30 and 31 July 1967. Part 1",
                  "URL": "http://purl.slwa.wa.gov.au/slwa_b3654850_2",
                  "URL2": null
                },
                {
                  "index": 79,
                  "Local system number": "b36548522",
                  "call number": "ACC 8661A/80",
                  "Title": "John Hutchinson's bird songs recorded on 6 August 1967, 5 July 1968, 7 August 1968 and 2 and 3 June 1968.",
                  "Date": "1968",
                  "Description of physical object": "1 audiotape reel (approximately 14 min.) ",
                  "notes": "Recorded using Fi-Cord 202 portable reel tape recorder.",
                  "Summary": "John Hutchinson is an ornithologist and a birdcall recordist. Tape 4\"/32 consists of field recordings of bird calls made at Negri River road crossing, East Kimberley on 6 August 1967 and at Durham River, Kununurra on 5 July 1968 and at Kununurra on 7",
                  "Subject headings: Topical": "Birds;Gt bowerbirds;Cockatoos;Magpie lark;Honeyeaters;Pachycephala rufiventris;Doves;Fantails;Gerygone olivacea;Scissor grinder;Pied butcherbirds;Birdsongs;Birdsongs;Birdsongs",
                  "Caption for URL": "John Hutchinson's bird songs recorded on 6 August 1967, 5 July 1968, 7 August 1968 and 2 and 3 June 1968. Part 1",
                  "URL": "http://purl.slwa.wa.gov.au/slwa_b3654852_2",
                  "URL2": null
                },
                {
                  "index": 80,
                  "Local system number": "b3654856x",
                  "call number": "ACC 8661A/81",
                  "Title": "John Hutchinson's bird songs recorded on 8 August 1968.",
                  "Date": "1967",
                  "Description of physical object": "1 audiotape reel (approximately 40 min.) ",
                  "notes": "Recorded using Fi-Cord 202 portable reel tape recorder.",
                  "Summary": "John Hutchinson is an ornithologist and a birdcall recordist. Tape 4\"/33 consists of field recordings of bird calls made at Kununurra on 8 August 1968. This tape reel is accompanied by a field note. ACC 8661A/81 ",
                  "Subject headings: Topical": "Birds;Pied butcherbirds;Birdsongs",
                  "Caption for URL": "John Hutchinson's bird songs recorded on 8 August 1968. Part 1",
                  "URL": "http://purl.slwa.wa.gov.au/slwa_b3654856_2",
                  "URL2": null
                },
                {
                  "index": 81,
                  "Local system number": "b36548613",
                  "call number": "ACC 8661A/82",
                  "Title": "John Hutchinson's bird songs recorded on 8, 9 and 11 August 1968 and 5 September 1968.",
                  "Date": "1968",
                  "Description of physical object": "1 audiotape reel (approximately 12 min.) ",
                  "notes": "Recorded using Fi-Cord 202 portable reel tape recorder.",
                  "Summary": "John Hutchinson is an ornithologist and a birdcall recordist. Tape 4\"/34, consists of field recordings of bird calls made at Kununurra on 8, 9 and 11 August 1968 and 5 September 1968. This tape reel is accompanied by a field note. ACC 8661A/82 ",
                  "Subject headings: Topical": "Birds;Pied butcherbirds;Parrots;Birdsongs",
                  "Caption for URL": "John Hutchinson's bird songs recorded on 8, 9 and 11 August 1968 and 5 September 1968. Part 1",
                  "URL": "http://purl.slwa.wa.gov.au/slwa_b3654861_2",
                  "URL2": null
                },
                {
                  "index": 82,
                  "Local system number": "b36548649",
                  "call number": "ACC 8661A/83",
                  "Title": "John Hutchinson's bird songs recorded on 5, 17, 18 and 19 September 1968.",
                  "Date": "1968",
                  "Description of physical object": "1 audiotape reel (approximately 12 min.) ",
                  "notes": "Recorded using Fi-Cord 202 portable reel tape recorder.",
                  "Summary": "John Hutchinson is an ornithologist and a birdcall recordist. Tape 4\"/35 consists of field recordings of bird calls made at Kununurra on 5, 17, 18 and 19 September 1968. This tape reel is accompanied by a field note. ACC 8661A/83 ",
                  "Subject headings: Topical": "Birds;Pied butcherbirds;Thrushes;Shrike-thrushes;Birdsongs",
                  "Caption for URL": "John Hutchinson's bird songs recorded on 5, 17, 18 and 19 September 1968. Part 1",
                  "URL": "http://purl.slwa.wa.gov.au/slwa_b3654864_2",
                  "URL2": null
                },
                {
                  "index": 83,
                  "Local system number": "b36548650",
                  "call number": "ACC 8661A/84",
                  "Title": "John Hutchinson's bird songs recorded on 20 September 1968.",
                  "Date": "1968",
                  "Description of physical object": "1 audiotape reel (approximately 7 min., 40 sec.)",
                  "notes": "Recorded using Fi-Cord 202 portable reel tape recorder.",
                  "Summary": "John Hutchinson is an ornithologist and a birdcall recordist. Tape 4\"/36 consists of field recordings of bird calls made at Hidden Valley, Kununurra on 20 September 1968. This tape reel is accompanied by a field note. ACC 8661A/84 ",
                  "Subject headings: Topical": "Birds;Pied butcherbirds;Thrushes;Shrike-thrushes;Colluricincla woodwardi;Birdsongs",
                  "Caption for URL": "John Hutchinson's bird songs recorded on 20 September 1968. Part 1",
                  "URL": "http://purl.slwa.wa.gov.au/slwa_b3654865_2",
                  "URL2": null
                },
                {
                  "index": 84,
                  "Local system number": "b36548674",
                  "call number": "ACC 8661A/85",
                  "Title": "John Hutchinson's bird songs recorded on 29 and 30 April 1969 and 6, 9 and 10 July 1969 and 24 February 1970.",
                  "Date": "1970",
                  "Description of physical object": "1 audiotape reel (approximately 7 min., 40 sec.)",
                  "notes": "Recorded using Fi-Cord 202 portable reel tape recorder. Test of pre-amp made by David Gardner.",
                  "Summary": "John Hutchinson is an ornithologist and a birdcall recordist. Tape 4\"/37 consists of field recordings of bird calls made at La Grange  waterhole on 29 and 30 April 1969 and at Exmouth on 6, 9 and 10 July 1969 and at Babbage Island, Carnarvon on 24 Fe",
                  "Subject headings: Topical": "Birds;Pied butcherbirds;Honeyeaters;Bowerbirds;Wedgebills;Zebra finches;Shrike-thrushes;Birdsongs;Birdsongs;Birdsongs",
                  "Caption for URL": "John Hutchinson's bird songs recorded on 29 and 30 April 1969 and 6, 9 and 10 July 1969 and 24 February 1970. Part 1",
                  "URL": "http://purl.slwa.wa.gov.au/slwa_b3654867_2",
                  "URL2": null
                },
                {
                  "index": 85,
                  "Local system number": "b36548716",
                  "call number": "ACC 8661A/88",
                  "Title": "John Hutchinson's bird songs recorded on 25, 26 and 27 July 1975 and 9 June 1975.",
                  "Date": "1975",
                  "Description of physical object": "1 audiotape reel (approximately 43 min.) ",
                  "notes": "Recorded using Nagra IV-S portable stereo 6.35-mm (?? inch)analogue audio tape recorder. ",
                  "Summary": "John Hutchinson is an ornithologist and a birdcall recordist. Tape N2, consists of field recordings of bird calls made at Two Peoples Bay on 25, 26 and 27 July 1975 and at Manberry Station on 9 June 1975. This tape reel is accompanied by a field note",
                  "Subject headings: Topical": "Birds;Scrub-birds;Pied butcherbirds;Whipbirds;Cuckoos;Birdsongs;Birdsongs;Birdsongs",
                  "Caption for URL": "John Hutchinson's bird songs recorded on 25, 26 and 27 July 1975 and 9 June 1975. Part 1",
                  "URL": "http://purl.slwa.wa.gov.au/slwa_b3654871_2",
                  "URL2": null
                },
                {
                  "index": 86,
                  "Local system number": "b36548728",
                  "call number": "ACC 8661A/86",
                  "Title": "John Hutchinson's bird songs recorded on 10 July 1969, 1 October 1969 and 24 February 1970.",
                  "Date": "1969-1970.",
                  "Description of physical object": "1 audiotape reel (approximately 12 min.) ",
                  "notes": "Recorded using Fi-Cord 202 portable reel tape recorder.",
                  "Summary": "John Hutchinson is an ornithologist and a birdcall recordist. Tape 4\"/38 consists of field recordings of bird calls made at Exmouth on 10 July 1969 and at Yeeda Station on 1 October 1969 and at Babbage Island, Carnarvon on 24 February 1970. This tape",
                  "Subject headings: Topical": "Birds;Wedgebills;Zebra finches;Birdsongs;Birdsongs;Birdsongs;Termites",
                  "Caption for URL": "John Hutchinson's bird songs recorded on 10 July 1969, 1 October 1969 and 24 February 1970. Part 1",
                  "URL": "http://purl.slwa.wa.gov.au/slwa_b3654872_2",
                  "URL2": null
                },
                {
                  "index": 87,
                  "Local system number": "b3654873x",
                  "call number": "ACC 8661A/87",
                  "Title": "John Hutchinson's bird songs recorded on 29 May 1975 and 7 June 1975.",
                  "Date": "1970",
                  "Description of physical object": "1 audiotape reel (approximately 32 min.) ",
                  "notes": "Recorded using Nagra IV-S portable stereo 6.35-mm (?? inch) analogue audio tape recorder. Initial test. ",
                  "Summary": "John Hutchinson is an ornithologist and a birdcall recordist. Tape N1, consists of field recordings of bird calls made at Balmoral, in pool at Mardie Station on 25 May 1975 and at Balmoral, creek near Fortescue River on 7 June 1975. This tape reel is",
                  "Subject headings: Topical": "Birds;Pigeons;Honeyeaters;Pied butcherbirds;Willy wagtails;Wedgebills;Zebra finches;Magpie lark;Hawks;Crows;Birdsongs;Birdsongs;Birdsongs",
                  "Caption for URL": "John Hutchinson's bird songs recorded on 29 May 1975 and 7 June 1975. Part 1",
                  "URL": "http://purl.slwa.wa.gov.au/slwa_b3654873_2",
                  "URL2": null
                },
                {
                  "index": 88,
                  "Local system number": "b36548960",
                  "call number": "ACC 8661A/89",
                  "Title": "John Hutchinson's bird songs recorded on 27 and 28 July 1975.",
                  "Date": "1975",
                  "Description of physical object": "1 audiotape reel (approximately 48 min.) ",
                  "notes": "Recorded using Nagra IV-S portable stereo 6.35-mm (?? inch) analogue audio tape recorder. ",
                  "Summary": "John Hutchinson is an ornithologist and a birdcall recordist. Tape N3, consists of field recordings of bird calls made at Two Peoples Bay on 27 and 28 July 1975. This tape reel is accompanied by a field note. ACC 8661A/89 ",
                  "Subject headings: Topical": "Birds;Scrub-birds;Whipbirds;Birdsongs;Birdsongs",
                  "Caption for URL": "John Hutchinson's bird songs recorded on 27and 28 July 1975. Part 1",
                  "URL": "http://purl.slwa.wa.gov.au/slwa_b3654896_2",
                  "URL2": null
                },
                {
                  "index": 89,
                  "Local system number": "b36549010",
                  "call number": "ACC 8661A/101",
                  "Title": "John Hutchinson's bird songs recorded on 17, 19, 24, 25, 28 and 31 January 1976 and 1, 2, 3 and 4 February 1976.",
                  "Date": "1976",
                  "Description of physical object": "1 audiotape reel (approximately 65 min.) ",
                  "notes": "Recorded using Nagra IV-S portable stereo 6.35-mm (?? inch) analogue audio tape recorder. ",
                  "Summary": "John Hutchinson is an ornithologist and a birdcall recordist. Tape N15, consists of field recordings of bird calls made at Bibbulmun Track, Blackwood River Bridge, Balingup on 17, 19, 24, 25 and 28  January 1976 and 1, 2, 3 and 4 February 1976 and at",
                  "Subject headings: Topical": "Birds;Treecreepers;Pachycephala rufiventris;Kookaburra;Whistlers (Birds);Cockatoos;Fantails;Shrike-thrushes;Robins;Willy wagtails;Scissors grinder;Twenty-eight parrots;Kangaroos;Birdsongs;Birdsongs;Birdsongs;Birdsongs",
                  "Caption for URL": "John Hutchinson's bird songs recorded on 17, 19, 24, 25, 28 and 31 January 1976 and 1, 2, 3 and 4 February 1976. Part 1",
                  "URL": "http://purl.slwa.wa.gov.au/slwa_b3654901_2",
                  "URL2": null
                },
                {
                  "index": 90,
                  "Local system number": "b36549022",
                  "call number": "ACC 8661A/90",
                  "Title": "John Hutchinson's bird songs recorded on 28 July 1975 and 29 August 1975.",
                  "Date": "1975",
                  "Description of physical object": "1 audiotape reel (approximately 48 min.) ",
                  "notes": "Recorded using Nagra IV-S portable stereo 6.35-mm (?? inch) analogue audio tape recorder. ",
                  "Summary": "John Hutchinson is an ornithologist and a birdcall recordist. Tape N4, consists of field recordings of bird calls made at Two Peoples Bay on 28 July 1975 and at Wellington Dam Road on 29 August 1975. This tape reel is accompanied by a field note. ACC",
                  "Subject headings: Topical": "Birds;Scrub-birds;Cuckoos;Birdsongs;Birdsongs",
                  "Caption for URL": "John Hutchinson's bird songs recorded on 28 July 1975 and 29 August 1975. Part 1",
                  "URL": "http://purl.slwa.wa.gov.au/slwa_b3654902_2",
                  "URL2": null
                },
                {
                  "index": 91,
                  "Local system number": "b36549046",
                  "call number": "ACC 8661A/91",
                  "Title": "John Hutchinson's bird songs recorded on 11 September 1975.",
                  "Date": "1975",
                  "Description of physical object": "1 audiotape reel (approximately 48 min.) ",
                  "notes": "Recorded using Nagra IV-S portable stereo 6.35-mm (?? inch) analogue audio tape recorder. Not full. Not satisfied with quality of the Agfa tape. ",
                  "Summary": "John Hutchinson is an ornithologist and a birdcall recordist. Tape N5, consists of field recordings of bird calls made at Billyacatting Reserve, Kununoppin on 11 September 1975. This tape reel is accompanied by a field note. ACC 8661A/91 ",
                  "Subject headings: Topical": "Birds;Pomatostomus temporalis;Shrike-thrushes;Honeyeaters;Birdsongs;Birdsongs;Birdsongs",
                  "Caption for URL": "John Hutchinson's bird songs recorded on 11 September 1975. Part 1",
                  "URL": "http://purl.slwa.wa.gov.au/slwa_b3654904_2",
                  "URL2": null
                },
                {
                  "index": 92,
                  "Local system number": "b36549058",
                  "call number": "ACC 8661A/92",
                  "Title": "John Hutchinson's bird songs recorded on 11, 12 and 13 September 1975.",
                  "Date": "1975",
                  "Description of physical object": "1 audiotape reel (approximately 65 min.) ",
                  "notes": "Recorded using Nagra IV-S portable stereo 6.35-mm (?? inch) analogue audio tape recorder. ",
                  "Summary": "John Hutchinson is an ornithologist and a birdcall recordist. Tape N6, consists of field recordings of bird calls made at Billyacatting Reserve, Kununoppin on 11, 12 and 13 September 1975. This tape reel is accompanied by a field note. ACC 8661A/92 ",
                  "Subject headings: Topical": "Birds;Twenty-eight parrots;Bellbirds;Shrike-thrushes;Honeyeaters;Birdsongs;Birdsongs;Birdsongs",
                  "Caption for URL": "John Hutchinson's bird songs recorded on 11, 12 and 13 September 1975. Part 1",
                  "URL": "http://purl.slwa.wa.gov.au/slwa_b3654905_2",
                  "URL2": null
                },
                {
                  "index": 93,
                  "Local system number": "b36549101",
                  "call number": "ACC 8661A/93",
                  "Title": "John Hutchinson's bird songs recorded on 13, 14 and 15 September 1975.",
                  "Date": "1975",
                  "Description of physical object": "1 audiotape reel (approximately 46 min.) ",
                  "notes": "Recorded using Nagra IV-S portable stereo 6.35-mm (?? inch) analogue audio tape recorder. ",
                  "Summary": "John Hutchinson is an ornithologist and a birdcall recordist. Tape N7, consists of field recordings of bird calls made at Billyacatting Reserve, Kununoppin on 13, 14 and 15 September 1975. This tape reel is accompanied by a field note. ACC 8661A/93 ",
                  "Subject headings: Topical": "Birds;Twenty-eight parrots;Galah;Willy wagtails;Shrike-thrushes;Thrushes;Ravens;Galah;Butcherbirds;Honeyeaters;Birdsongs;Birdsongs;Birdsongs",
                  "Caption for URL": "John Hutchinson's bird songs recorded on 13, 14 and 15 September 1975. Part 1",
                  "URL": "http://purl.slwa.wa.gov.au/slwa_b3654910_2",
                  "URL2": null
                },
                {
                  "index": 94,
                  "Local system number": "b36549125",
                  "call number": "ACC 8661A/94",
                  "Title": "John Hutchinson's bird songs recorded on 3, 8, 9 and 28 October 1975.",
                  "Date": "1975",
                  "Description of physical object": "1 audiotape reel (approximately16 min.) ",
                  "notes": "Recorded using Nagra IV-S portable stereo 6.35-mm (?? inch) analogue audio tape recorder. ",
                  "Summary": "John Hutchinson is an ornithologist and a birdcall recordist. Tape N8, consists of field recordings of bird calls made at Mullalyup on 3 October 1975 and Windmill Gully Rd, Grimwade on 8 and 9 October 1975 and Blackwood River Bridge on Bibbulmun Trac",
                  "Subject headings: Topical": "Birds;Twenty-eight parrots;Wrens;Shrike-thrushes;Birdsongs;Birdsongs;Birdsongs",
                  "Caption for URL": "John Hutchinson's bird songs recorded on 3, 8, 9 and 28 October 1975. Part 1",
                  "URL": "http://purl.slwa.wa.gov.au/slwa_b3654912_2",
                  "URL2": null
                },
                {
                  "index": 95,
                  "Local system number": "b36549150",
                  "call number": "ACC 8661A/95",
                  "Title": "John Hutchinson's bird songs recorded on 28 and 31 October 1975.",
                  "Date": "1975",
                  "Description of physical object": "1 audiotape reel (approximately 16 min.) ",
                  "notes": "Recorded using Nagra IV-S portable stereo 6.35-mm (?? inch) analogue audio tape recorder. ",
                  "Summary": "John Hutchinson is an ornithologist and a birdcall recordist. Tape N9, consists of field recordings of bird calls made at Blackwood River Bridge, Nannup Rd on 28 and 31 October 1975. This tape reel is accompanied by a field note. ACC 8661A/95 ",
                  "Subject headings: Topical": "Birds;Ravens;Honeyeaters;Shrike-thrushes;Whistlers (Birds);Fantails;Magpies;Birdsongs;Birdsongs",
                  "Caption for URL": "John Hutchinson's bird songs recorded on 28 and 31 October 1975. Part 1",
                  "URL": "http://purl.slwa.wa.gov.au/slwa_b3654915_2",
                  "URL2": null
                },
                {
                  "index": 96,
                  "Local system number": "b36554960",
                  "call number": "ACC 8661A/96",
                  "Title": "John Hutchinson's bird songs recorded on 3, 4, 5 and 6 November 1975.",
                  "Date": "1975",
                  "Description of physical object": "1 audiotape reel (approximately 65 min.) ",
                  "notes": "Recorded using Nagra IV-S portable stereo 6.35-mm (?? inch) analogue audio tape recorder. ",
                  "Summary": "John Hutchinson is an ornithologist and a birdcall recordist. Tape N10, consists of field recordings of bird calls made at Wheelbridge Rd, Mullalyup on 3 November 1975 and at Balingup Brook on 4, 5 and 6 November 1975. This tape reel is accompanied b",
                  "Subject headings: Topical": "Birds;Ravens;Honeyeaters;Pachycephala rufiventris;Pardalotes;Whistlers (Birds);Fantails;Magpies;Warblers;Sylviidae;Crickets;Birdsongs;Birdsongs",
                  "Caption for URL": "John Hutchinson's bird songs recorded on 3, 4, 5 and 6 November 1975. Part 1",
                  "URL": "http://purl.slwa.wa.gov.au/slwa_b3655496_2",
                  "URL2": null
                },
                {
                  "index": 97,
                  "Local system number": "b36556385",
                  "call number": "ACC 8661A/97",
                  "Title": "John Hutchinson's bird songs recorded on 6, 8, and 9 November 1975 and 2 and 4 January 1976.",
                  "Date": "1975-1976.",
                  "Description of physical object": "1 audiotape reel (approximately 14 min.) ",
                  "notes": "Recorded using Nagra IV-S portable stereo 6.35-mm (?? inch) analogue audio tape recorder. ",
                  "Summary": "John Hutchinson is an ornithologist and a birdcall recordist. Tape N11, consists of field recordings of bird calls made at Balingup Brook on 6 November 1975 and at Bibbulmun Track, Blackwood River Bridge, Balingup on 8 November 1975 and 2 and 4 Janua",
                  "Subject headings: Topical": "Birds;Ravens;Honeyeaters;Pachycephala rufiventris;Pardalotes;Scissors grinder;Kookaburra;Wattlebirds;Whistlers (Birds);Fantails;Robins;Magpies;Warblers;Sylviidae;Wattlebirds;Frogs;Birdsongs;Birdsongs",
                  "Caption for URL": "John Hutchinson's bird songs recorded on 6, 8, and 9 November 1975 and 2 and 4 January 1976. Part 1",
                  "URL": "http://purl.slwa.wa.gov.au/slwa_b3655638_2",
                  "URL2": null
                },
                {
                  "index": 98,
                  "Local system number": "b36563158",
                  "call number": "ACC 8661A/99",
                  "Title": "John Hutchinson's bird songs recorded on 11, 12, 13 and 14 January 1976.",
                  "Date": "1976",
                  "Description of physical object": "1 audiotape reel (approximately 49 min.) ",
                  "notes": "Recorded using Nagra IV-S portable stereo 6.35-mm (?? inch) analogue audio tape recorder. ",
                  "Summary": "John Hutchinson is an ornithologist and a birdcall recordist. Tape N13, consists of field recordings of bird calls made at  Bibbulmun Track, Blackwood River Bridge on Nannup Rd, Balingup on 11, 12, 13 and 14 January 1976. This tape reel is accompanie",
                  "Subject headings: Topical": "Birds;Treecreepers;Pachycephala rufiventris;Kookaburra;Whistlers (Birds);Birdsongs;Birdsongs",
                  "Caption for URL": "John Hutchinson's bird songs recorded on 11, 12, 13 and 14 January 1976. Part 1",
                  "URL": "http://purl.slwa.wa.gov.au/slwa_b3656315_2",
                  "URL2": null
                },
                {
                  "index": 99,
                  "Local system number": "b36563171",
                  "call number": "ACC 8661A/100",
                  "Title": "John Hutchinson's bird songs recorded on 14, 15, 16 and 17 January 1976.",
                  "Date": "1976",
                  "Description of physical object": "1 audiotape reel (approximately 49 min.) ",
                  "notes": "Recorded using Nagra IV-S portable stereo 6.35-mm (?? inch) analogue audio tape recorder. ",
                  "Summary": "John Hutchinson is an ornithologist and a birdcall recordist. Tape N14, consists of field recordings of bird calls made at  Bibbulmun Track, Blackwood River Bridge on Nannup Rd, Balingup on 14, 15, 16 and 17 January 1976. This tape reel is accompanie",
                  "Subject headings: Topical": "Birds;Treecreepers;Pachycephala rufiventris;Kookaburra;Whistlers (Birds);Birdsongs;Birdsongs",
                  "Caption for URL": "John Hutchinson's bird songs recorded on 14, 15, 16 and 17 January 1976. Part 1",
                  "URL": "http://purl.slwa.wa.gov.au/slwa_b3656317_2",
                  "URL2": null
                },
                {
                  "index": 100,
                  "Local system number": "b36564096",
                  "call number": "ACC 8661A/102",
                  "Title": "John Hutchinson's bird songs recorded on 7, 11, 14 February 1976 and 3, 4, 23, 24, 27, 29 and 30 March 1976 and 1 and 5 April 1976.",
                  "Date": "1976",
                  "Description of physical object": "1 audiotape reel (approximately 65 min.) ",
                  "notes": "Recorded using Nagra IV-S portable stereo 6.35-mm (?? inch) analogue audio tape recorder. ",
                  "Summary": "John Hutchinson is an ornithologist and a birdcall recordist. Tape N16, consists of field recordings of bird calls made at Bibbulmun Track, Balingup on 7 February 1976 and at Windmill Gully Rd, Grimwade on 11 February 1976 and at Donnybrook on 14 Feb",
                  "Subject headings: Topical": "Birds;Wattlebirds;Kookaburra;Whistlers (Birds);Cockatoos;Ravens;Magpies;Kangaroos;Birdsongs;Birdsongs;Birdsongs;Birdsongs;Birdsongs;Birdsongs;Birdsongs;Birdsongs",
                  "Caption for URL": "John Hutchinson's bird songs recorded on 7, 11, 14 February 1976 and 3, 4, 23, 24, 27, 29 and 30 March 1976 and 1 and 5 April 1976. Part 1",
                  "URL": "http://purl.slwa.wa.gov.au/slwa_b3656409_2",
                  "URL2": null
                },
                {
                  "index": 101,
                  "Local system number": "b36626004",
                  "call number": "ACC 8661A/103",
                  "Title": "John Hutchinson's bird songs recorded on 7, 8, 17 and 30 April 1976 and 3 May 1976.",
                  "Date": "1976",
                  "Description of physical object": "1 audiotape reel (approximately 49 min.) ",
                  "notes": "Recorded using Nagra IV-S portable stereo 6.35-mm (?? inch) analogue audio tape recorder. ",
                  "Summary": "John Hutchinson is an ornithologist and a birdcall recordist. Tape N17, consists of field recordings of bird calls made Wright's Cottage, Balingup on 7 April 1976 and at Mead's farm , Balingup on 8 April 1976 and at Wright's Bridge, Balingup on 17 Ap",
                  "Subject headings: Topical": "Birds;Wattlebirds;Twenty-eight parrots;Zosterops lateralis;Weebills;Whistlers (birds);Magpies;Ducks;Swamphens;Willy wagtails;Water birds;Pigs;Sheep;Frogs;Kangaroos;Horses;Birdsongs;Birdsongs;Birdsongs",
                  "Caption for URL": "John Hutchinson's bird songs recorded on 7, 8, 17 and 30 April 1976 and 3 May 1976. Part 1",
                  "URL": "http://purl.slwa.wa.gov.au/slwa_b3662600_2",
                  "URL2": null
                },
                {
                  "index": 102,
                  "Local system number": "b36626028",
                  "call number": "ACC 8661A/104",
                  "Title": "John Hutchinson's bird songs recorded on 20, 22 and 26 April 1976.",
                  "Date": "1976",
                  "Description of physical object": "1 audiotape reel (approximately 25 min.) ",
                  "notes": "Recorded using Nagra IV-S portable stereo 6.35-mm (?? inch) analogue audio tape recorder. ",
                  "Summary": "John Hutchinson is an ornithologist and a birdcall recordist. Tape N18, consists of field recordings of bird calls made Wright's Bridge, Balingup on 20 April 1976 and at Wright's Cottage, Balingup on 22 April 1976 and at Moulton's Piggery, Balingup o",
                  "Subject headings: Topical": "Birds;Water birds;Scissors grinder;Whistlers (Birds);Willy wagtails;Ravens;Magpies;Warblers;Pigs;Dogs;Roosters;Birdsongs;Birdsongs;Birdsongs",
                  "Caption for URL": "John Hutchinson's bird songs recorded on 20, 22 and 26 April 1976. Part 1",
                  "URL": "http://purl.slwa.wa.gov.au/slwa_b3662602_2",
                  "URL2": null
                },
                {
                  "index": 103,
                  "Local system number": "b36632727",
                  "call number": "ACC 8661A/105",
                  "Title": "John Hutchinson's bird songs recorded on 3 and 4 May 1976 and 1, 20 and 21 September 1976.",
                  "Date": "1976",
                  "Description of physical object": "1 audiotape reel (approximately 48 min.) ",
                  "notes": "Recorded using Nagra IV-S portable stereo 6.35-mm (?? inch) analogue audio tape recorder. ",
                  "Summary": "John Hutchinson is an ornithologist and a birdcall recordist. Tape N19, consists of field recordings of bird calls made at Moulton's Piggery, Balingup on 3 and 4 May 1976 and at Geeranning Rock, Bonnie Rock on 1 September 1976 and at Dryandra on 20 a",
                  "Subject headings: Topical": "Birds;Swamphens;Kookaburra;Honeyeaters;Shrike-thrushes;Ducks;Magpie lark;Warblers;Frogs;Western Australia;Birdsongs;Birdsongs;Birdsongs",
                  "Caption for URL": "John Hutchinson's bird songs recorded on 3 and 4 May 1976 and 1, 20 and 21 September 1976. Part 1",
                  "URL": "http://purl.slwa.wa.gov.au/slwa_b3663272_2",
                  "URL2": null
                },
                {
                  "index": 104,
                  "Local system number": "b36632776",
                  "call number": "ACC 8661A/106",
                  "Title": "John Hutchinson's bird songs recorded on 21 and 22 September 1976.",
                  "Date": "1976",
                  "Description of physical object": "1 audiotape reel (approximately 32 min.) ",
                  "notes": "Recorded using Nagra IV-S portable stereo 6.35-mm (?? inch) analogue audio tape recorder. ",
                  "Summary": "John Hutchinson is an ornithologist and a birdcall recordist. Tape N20, consists of field recordings of bird calls made at Dryandra on 21 and 22 September 1976. This tape reel is accompanied by a field note. ACC 8661A/106 ",
                  "Subject headings: Topical": "Birds;Whistlers (Birds);Cuckoos;Pardalotes;Ravens;Fantails;Shrike-thrushes;Kangaroos;zWestern Australia;Birdsongs",
                  "Caption for URL": "John Hutchinson's bird songs recorded on 21 and 22 September 1976. Part 1",
                  "URL": "http://purl.slwa.wa.gov.au/slwa_b3663277_2",
                  "URL2": null
                },
                {
                  "index": 105,
                  "Local system number": "b36632855",
                  "call number": "ACC 8661A/107",
                  "Title": "John Hutchinson's bird songs recorded on 25, 26 and 29 September 1976 and 2 October 1976.",
                  "Date": "1976",
                  "Description of physical object": "1 audiotape reel (approximately 65 min.) ",
                  "notes": "Recorded using Nagra IV-S portable stereo 6.35-mm (?? inch) analogue audio tape recorder. ",
                  "Summary": "John Hutchinson is an ornithologist and a birdcall recordist. Tape N21, consists of field recordings of bird calls made at Balingup on 25 and 26 September 1976 and at Pemberton on 29 September 1976 and at Wright's Bridge on 2 October 1976. This tape ",
                  "Subject headings: Topical": "Birds;Whistlers (Birds);Cuckoos;Willy wagtails;Warblers;Ravens;Fantails;Magpies;Cuckoo-shrikes;Twenty-eight parrots;Frogs;Birdsongs;Birdsongs;Birdsongs",
                  "Caption for URL": "John Hutchinson's bird songs recorded on 25, 26 and 29 September 1976 and 2 October 1976. Part 1",
                  "URL": "http://purl.slwa.wa.gov.au/slwa_b3663285_2",
                  "URL2": null
                },
                {
                  "index": 106,
                  "Local system number": "b36632879",
                  "call number": "ACC 8661A/108",
                  "Title": "John Hutchinson's bird songs recorded on 6 October 1976.",
                  "Date": "1976",
                  "Description of physical object": "1 audiotape reel (approximately 3 min., 30 sec.) ",
                  "notes": "Recorded using Nagra IV-S portable stereo 6.35-mm (?? inch) analogue audio tape recorder. Test of Sennheiser Electret Microphone in Blackwood River. Then 2 AKG D202 stereo microphones.",
                  "Summary": "John Hutchinson is an ornithologist and a birdcall recordist. Tape N22, consists of field recordings of bird calls made at Wright's Bridge on 6 October 1976. This tape reel is accompanied by a field note. ACC 8661A/108 ",
                  "Subject headings: Topical": "Birds;Whistlers (Birds);Willy wagtails;Frogs;Birdsongs",
                  "Caption for URL": "John Hutchinson's bird songs recorded on 6 October 1976. Part 1",
                  "URL": "http://purl.slwa.wa.gov.au/slwa_b3663287_2",
                  "URL2": null
                },
                {
                  "index": 107,
                  "Local system number": "b36632880",
                  "call number": "ACC 8661A/109",
                  "Title": "John Hutchinson's bird songs recorded on 4, 7, 11, 12 and 21 October 1976.",
                  "Date": "1976",
                  "Description of physical object": "1 audiotape reel (approximately 25 min.) ",
                  "notes": "Recorded using Nagra IV-S portable stereo 6.35-mm (?? inch) analogue audio tape recorder. ",
                  "Summary": "John Hutchinson is an ornithologist and a birdcall recordist. Tape N23, consists of field recordings of bird calls made at Blackwood River, Lewana, Wright's Bridge on 4 and 7 October 1976 and at Donnybrook Sunklands, Sabina River on 11 October 1976 a",
                  "Subject headings: Topical": "Birds;Kookaburra;Fantails;Magpies;Shrike-thrushes;Wrens;Honeyeaters;Bee eaters;Water birds;Pardalotes;Cuckoos;Warblers;Whistlers (Birds);Willy wagtails;Ravens;Frogs;Birdsongs;Birdsongs;Birdsongs;Birdsongs;Birdsongs",
                  "Caption for URL": "John Hutchinson's bird songs recorded on 4, 7, 11, 12 and 21 October 1976. Part 1",
                  "URL": "http://purl.slwa.wa.gov.au/slwa_b3663288_2",
                  "URL2": null
                },
                {
                  "index": 108,
                  "Local system number": "b3663332x",
                  "call number": "ACC 8661A/110",
                  "Title": "John Hutchinson's bird songs recorded on 21, 22, 23, 24 and 31 October 1976 and 4 November 1976.",
                  "Date": "1976",
                  "Description of physical object": "1 audiotape reel (approximately 25 min.) ",
                  "notes": "Recorded using Nagra IV-S portable stereo 6.35-mm (?? inch) analogue audio tape recorder. ",
                  "Summary": "John Hutchinson is an ornithologist and a birdcall recordist. Tape N24, consists of field recordings of bird calls made at Sabina River 21, 22,23 and 24 October 1976 and at Wellington Mills on 31 October 1976 and at Benger Swamp on 4 November 1976 . ",
                  "Subject headings: Topical": "Birds;Tree Martins;Magpies;Shrike-thrushes;Wrens;Kingfishers;Honeyeaters;Currawongs;Corellas;Pardalotes;Cuckoos;Cockatoos;Warblers;Reed warblers;Ravens;Frogs;Birdsongs;Birdsongs;Birdsongs;Birdsongs",
                  "Caption for URL": "John Hutchinson's bird songs recorded on 21, 22, 23, 24 and 31 October 1976 and 4 November 1976. Part 1",
                  "URL": "http://purl.slwa.wa.gov.au/slwa_b3663332_2",
                  "URL2": null
                },
                {
                  "index": 109,
                  "Local system number": "b36633355",
                  "call number": "ACC 8661A/111",
                  "Title": "John Hutchinson's bird songs recorded on 4, 5, 6, 9 and 14 November 1976.",
                  "Date": "1976",
                  "Description of physical object": "1 audiotape reel (approximately 40 min.) ",
                  "notes": "Recorded using Nagra IV-S portable stereo 6.35-mm (?? inch) analogue audio tape recorder. ",
                  "Summary": "John Hutchinson is an ornithologist and a birdcall recordist. Tape N25, consists of field recordings of bird calls made at Benger Swamp on 4, 5, 6 and 9 November 1976 and at Wright's Bridge on 14 November 1976. This tape reel is accompanied by a fiel",
                  "Subject headings: Topical": "Birds;Butcherbirds;Reed warblers;Ravens;Egretta;Herons;Willy wagtails;Honeyeaters;Coots;Whistlers (Birds);Frogs;Crickets;Birdsongs;Birdsongs",
                  "Caption for URL": "John Hutchinson's bird songs recorded on 4, 5, 6, 9 and 14 November 1976. Part 1",
                  "URL": "http://purl.slwa.wa.gov.au/slwa_b3663335_2",
                  "URL2": null
                },
                {
                  "index": 110,
                  "Local system number": "b36636423",
                  "call number": "ACC 8661A/112",
                  "Title": "John Hutchinson's bird songs recorded on 14, 15, 17, 18, 19 and 20 November 1976.",
                  "Date": "1976",
                  "Description of physical object": "1 audiotape reel (approximately 65 min.) ",
                  "notes": "Recorded using Nagra IV-S portable stereo 6.35-mm (?? inch) analogue audio tape recorder. ",
                  "Summary": "John Hutchinson is an ornithologist and a birdcall recordist. Tape N26, consists of field recordings of bird calls made at Wrights Bridge on 14-15 and 17-20 November 1976. This tape reel is accompanied by a field note. ACC 8661A/112.",
                  "Subject headings: Topical": "Birds;Butcherbirds;Reed warblers;Ravens;Fantails;Kookaburra;Herons;Wattlebirds;Shrike-thrushes;Honey eaters;Bee eaters;Twenty-eight parrots;Wrens;Treecreepers;Pachycephala rufiventris;Whistlers (Birds);Kangaroos;Crickets;Birdsongs;Birdsongs",
                  "Caption for URL": "John Hutchinson's bird songs recorded on 14, 15, 17, 18, 19 and 20 November 1976. Part 1",
                  "URL": "http://purl.slwa.wa.gov.au/slwa_b3663642_2",
                  "URL2": null
                },
                {
                  "index": 111,
                  "Local system number": "b36636484",
                  "call number": "ACC 8661A/113",
                  "Title": "John Hutchinson's bird songs recorded on 6, 20, 24 and 27 November 1976 and 4 December 1976.",
                  "Date": "1976",
                  "Description of physical object": "1 audiotape reel (approximately 64 min.) ",
                  "notes": "Recorded using Nagra IV-S portable stereo 6.35-mm (?? inch) analogue audio tape recorder. Some use of D.P.4 microphones. ",
                  "Summary": "John Hutchinson is an ornithologist and a birdcall recordist. Tape N27, consists of field recordings of bird calls made at Wright's Bridge on 20 and 27 November 1976 and 4 December 1976 and at Wellington Mills on 24 November 1976 and at Balingup on 6",
                  "Subject headings: Topical": "Birds;Thornbills;Ravens;Fantails;Kookaburra;Scissors grinder;Honey eaters;Wrens;Cuckoos;Pachycephala rufiventris;Whistlers (Birds);Bees;Birdsongs;Birdsongs;Birdsongs;Birdsongs",
                  "Caption for URL": "John Hutchinson's bird songs recorded on 6, 20, 24 and 27 November 1976 and 4 December 1976. Part 1",
                  "URL": "http://purl.slwa.wa.gov.au/slwa_b3663648_2",
                  "URL2": null
                },
                {
                  "index": 112,
                  "Local system number": "b36636502",
                  "call number": "ACC 8661A/114",
                  "Title": "John Hutchinson's bird songs recorded on 7 December 1976.",
                  "Date": "1976",
                  "Description of physical object": "1 audiotape reel (approximately 1 min.) ",
                  "notes": "Recorded using Nagra IV-S portable stereo 6.35-mm (?? inch) analogue audio tape recorder.",
                  "Summary": "John Hutchinson is an ornithologist and a birdcall recordist. Tape N28, consists of field recordings of bird calls made at Manjimup on 7 December 1976. This tape reel is accompanied by a field note. ACC 8661A/114 ",
                  "Subject headings: Topical": "Birds;Reed warblers;Coots;Birdsongs",
                  "Caption for URL": "John Hutchinson's bird songs recorded on 7 December 1976. Part 1",
                  "URL": "http://purl.slwa.wa.gov.au/slwa_b3663650_2",
                  "URL2": null
                },
                {
                  "index": 113,
                  "Local system number": "b36636538",
                  "call number": "ACC 8661A/115",
                  "Title": "John Hutchinson's bird songs recorded on 7 December 1976.",
                  "Date": "1976",
                  "Description of physical object": "1 audiotape reel (approximately 8 min.) ",
                  "notes": "Recorded using Nagra IV-S portable stereo 6.35-mm (?? inch) analogue audio tape recorder.",
                  "Summary": "John Hutchinson is an ornithologist and a birdcall recordist. Tape N29, consists of field recordings of bird calls made at Manjimup on 7 December 1976. This tape reel is accompanied by a field note. ACC 8661A/115 ",
                  "Subject headings: Topical": "Birds;Reed warblers;Frogs;Birdsongs",
                  "Caption for URL": "John Hutchinson's bird songs recorded on 7 December 1976. Part 1",
                  "URL": "http://purl.slwa.wa.gov.au/slwa_b3663653_2",
                  "URL2": null
                },
                {
                  "index": 114,
                  "Local system number": "b36636551",
                  "call number": "ACC 8661A/116",
                  "Title": "John Hutchinson's bird songs recorded on 7 December 1976.",
                  "Date": "1976",
                  "Description of physical object": "1 audiotape reel (approximately 12 min.) ",
                  "notes": "Recorded using Nagra IV-S portable stereo 6.35-mm (?? inch) analogue audio tape recorder.",
                  "Summary": "John Hutchinson is an ornithologist and a birdcall recordist. Tape N30, consists of field recordings of bird calls made at Manjimup on 7 December 1976. This tape reel is accompanied by a field note. ACC 8661A/116 ",
                  "Subject headings: Topical": "Birds;Reed warblers;Ravens;Kookaburra;Birdsongs",
                  "Caption for URL": "John Hutchinson's bird songs recorded on 7 December 1976. Part 1",
                  "URL": "http://purl.slwa.wa.gov.au/slwa_b3663655_2",
                  "URL2": null
                },
                {
                  "index": 115,
                  "Local system number": "b36636575",
                  "call number": "ACC 8661A/117",
                  "Title": "John Hutchinson's bird songs recorded on 18, 21, 22 and 23 December 1976.",
                  "Date": "1976",
                  "Description of physical object": "1 audiotape reel (approximately 12 min.) ",
                  "notes": "Recorded using Nagra IV-S portable stereo 6.35-mm (?? inch) analogue audio tape recorder.",
                  "Summary": "John Hutchinson is an ornithologist and a birdcall recordist. Tape N31, consists of field recordings of bird calls made at Wright's Bridge on 18 December 1976 and at Greenbushes on 21, 22 and 23 December 1976. This tape reel is accompanied by a field",
                  "Subject headings: Topical": "Birds;Zosterops lateralis;Willy wagtails;Twenty-eight parrots;Ravens;Wrens;Kookaburra;Sheep;Birdsongs;Birdsongs",
                  "Caption for URL": "John Hutchinson's bird songs recorded on 18, 21, 22 and 23 December 1976. Part 1",
                  "URL": "http://purl.slwa.wa.gov.au/slwa_b3663657_2",
                  "URL2": null
                },
                {
                  "index": 116,
                  "Local system number": "b36646829",
                  "call number": "ACC 8661A/118",
                  "Title": "John Hutchinson's bird songs recorded on 23 December 1976 and 3, 5, 14, 23, 25, 27, 28 and 30 January 1977.",
                  "Date": "1976-1977.",
                  "Description of physical object": "1 audiotape reel (approximately 24 min.) ",
                  "notes": "Recorded using Nagra IV-S portable stereo 6.35-mm (?? inch) analogue audio tape recorder.",
                  "Summary": "John Hutchinson is an ornithologist and a birdcall recordist. Tape N32, consists of field recordings of bird calls made at Greenbushes on 23 December 1976 and 14 January 1977 and at Balingup on 3 and 5 January 1977 and at Grimwade on 23, 25, 27, 28 a",
                  "Subject headings: Topical": "Birds;Zosterops lateralis;Willy wagtails;Twenty-eight parrots;Wrens;Geese;Robins;Coots;Magpie lark;Water birds;Kookaburra;Frogs;Birdsongs;Birdsongs;Birdsongs",
                  "Caption for URL": "John Hutchinson's bird songs recorded on 23 December 1976 and 3, 5, 14, 23, 25, 27, 28 and 30 January 1977. Part 1",
                  "URL": "http://purl.slwa.wa.gov.au/slwa_b3664682_2",
                  "URL2": null
                },
                {
                  "index": 117,
                  "Local system number": "b36650973",
                  "call number": "ACC 8661A/119",
                  "Title": "John Hutchinson's bird songs recorded on 30 January 1977 and 3, 6 and 7 February 1977.",
                  "Date": "1977",
                  "Description of physical object": "1 audiotape reel (approximately 32 min.) ",
                  "notes": "Recorded using Nagra IV-S portable stereo 6.35-mm (?? inch) analogue audio tape recorder.",
                  "Summary": "John Hutchinson is an ornithologist and a birdcall recordist. Tape N33, consists of field recordings of bird calls made at Mullalyup on 30 January 1977 and at Balingup on 3 February 1977 and at Grimwade on  6 and 7 February 1977. This tape reel is ac",
                  "Subject headings: Topical": "Birds;Willy wagtails;Twenty-eight parrots;Ravens;Robins;Birdsongs;Birdsongs;Birdsongs",
                  "Caption for URL": "John Hutchinson's bird songs recorded on 30 January 1977 and 3, 6 and 7 February 1977. Part 1",
                  "URL": "http://purl.slwa.wa.gov.au/slwa_b3665097_2",
                  "URL2": null
                },
                {
                  "index": 118,
                  "Local system number": "b36651631",
                  "call number": "ACC 8661A/120",
                  "Title": "John Hutchinson's bird songs recorded on 10, 16, 25, 27 and 28 February 1977 and 30 April 1977.",
                  "Date": "1977",
                  "Description of physical object": "1 audiotape reel (approximately 20 min.) ",
                  "notes": "Recorded using Nagra IV-S portable stereo 6.35-mm (?? inch) analogue audio tape recorder.",
                  "Summary": "John Hutchinson is an ornithologist and a birdcall recordist. Tape N34, consists of field recordings of bird calls made at Mullalyup on 10, 25, 27 and 28 February 1977 and at Balingup on 16 February 1977 and at Manjimup on 30 April 1977. This tape re",
                  "Subject headings: Topical": "Birds;Willy wagtails;Twenty-eight parrots;Ravens;Water birds;Magpie lark;Magpies;Geese;Robins;Cattle;Birdsongs;Birdsongs;Birdsongs",
                  "Caption for URL": "John Hutchinson's bird songs recorded on 10 16 25 27 and 28  February 1977 and 30 April 1977. Part 1",
                  "URL": "http://purl.slwa.wa.gov.au/slwa_b3665163_2",
                  "URL2": null
                },
                {
                  "index": 119,
                  "Local system number": "b36651655",
                  "call number": "ACC 8661A/121",
                  "Title": "John Hutchinson's bird songs recorded on 1 May 1977 and 27 June 1977.",
                  "Date": "1977",
                  "Description of physical object": "1 audiotape reel (approximately 16 min.) ",
                  "notes": "Recorded using Nagra IV-S portable stereo 6.35-mm (?? inch) analogue audio tape recorder.",
                  "Summary": "John Hutchinson is an ornithologist and a birdcall recordist. Tape N35, consists of field recordings of bird calls made at Manjimup on 1 May 1977 and at Wilga on 27 June 1977. This tape reel is accompanied by a field note. ACC 8661A/121 ",
                  "Subject headings: Topical": "Birds;Willy wagtails;Twenty-eight parrots;Ravens;Water birds;Magpie lark;Magpies;Geese;Ducks;Robins;Martins (Birds);Birdsongs;Birdsongs",
                  "Caption for URL": "John Hutchinson's bird songs recorded on 1 May 1977 and 27 June 1977. Part 1",
                  "URL": "http://purl.slwa.wa.gov.au/slwa_b3665165_2",
                  "URL2": null
                },
                {
                  "index": 120,
                  "Local system number": "b36651667",
                  "call number": "ACC 8661A/122",
                  "Title": "John Hutchinson's bird songs recorded on 27 June 1977.",
                  "Date": "1977",
                  "Description of physical object": "1 audiotape reel (approximately 16 min.) ",
                  "notes": "Recorded using Nagra IV-S portable stereo 6.35-mm (?? inch) analogue audio tape recorder.",
                  "Summary": "John Hutchinson is an ornithologist and a birdcall recordist. Tape N36, consists of field recordings of bird calls made at Wilga on 27 June 1977. This tape reel is accompanied by a field note. ACC 8661A/122 ",
                  "Subject headings: Topical": "Birds;Ducks;Birdsongs",
                  "Caption for URL": "John Hutchinson's bird songs recorded on 27 June 1977. Part 1",
                  "URL": "http://purl.slwa.wa.gov.au/slwa_b3665166_2",
                  "URL2": null
                },
                {
                  "index": 121,
                  "Local system number": "b36653123",
                  "call number": "ACC 8661A/123",
                  "Title": "John Hutchinson's bird songs recorded on 29 July 1977.",
                  "Date": "1977",
                  "Description of physical object": "1 audiotape reel (approximately 15 min. 30 sec.) ",
                  "notes": "Recorded using Nagra IV-S portable stereo 6.35-mm (?? inch) analogue audio tape recorder.",
                  "Summary": "John Hutchinson is an ornithologist and a birdcall recordist. Tape N37, consists of field recordings of bird calls made at Yardie Creek, Exmouth on 29 July 1977. This tape reel is accompanied by a field note. ACC 8661A/123 ",
                  "Subject headings: Topical": "Birds;Crows;Honeyeaters;Galah;Bowerbirds;Kangaroos;Birdsongs",
                  "Caption for URL": "John Hutchinson's bird songs recorded on 29 July 1977. Part 1",
                  "URL": "http://purl.slwa.wa.gov.au/slwa_b3665312_2",
                  "URL2": null
                },
                {
                  "index": 122,
                  "Local system number": "b36653330",
                  "call number": "ACC 8661A/124",
                  "Title": "John Hutchinson's bird songs recorded on 29 July 1977 and 17 and 18 August 1977.",
                  "Date": "1977",
                  "Description of physical object": "1 audiotape reel (approximately 14 min.) ",
                  "notes": "Recorded using Nagra IV-S portable stereo 6.35-mm (?? inch) analogue audio tape recorder.",
                  "Summary": "John Hutchinson is an ornithologist and a birdcall recordist. Tape N38, consists of field recordings of bird calls made at Yardie Creek, Exmouth on 29 July 1977 and at La Grange Spring on 17 and 18 August 1977. This tape reel is accompanied by a fiel",
                  "Subject headings: Topical": "Birds;Magpie lark;Vanellus miles;Brolga;Reed warblers;Bowerbirds;Cows;Frogs;Crickets;Birdsongs;Birdsongs",
                  "Caption for URL": "John Hutchinson's bird songs recorded on 29 July 1977 and 17 and 18 August 1977. Part 1",
                  "URL": "http://purl.slwa.wa.gov.au/slwa_b3665333_2",
                  "URL2": null
                },
                {
                  "index": 123,
                  "Local system number": "b3665338x",
                  "call number": "ACC 8661A/125",
                  "Title": "John Hutchinson's bird songs recorded on 10 and 11 August 1977.",
                  "Date": "1977",
                  "Description of physical object": "1 audiotape reel (approximately 12 min.) ",
                  "notes": "Recorded using Nagra IV-S portable stereo 6.35-mm (?? inch) analogue audio tape recorder.",
                  "Summary": "John Hutchinson is an ornithologist and a birdcall recordist. Tape N39, consists of field recordings of bird calls made at Meda Station in the Kimberleys on 10 and 11 August 1977. This tape reel is accompanied by a field note. ACC 8661A/125 ",
                  "Subject headings: Topical": "Birds;Honeyeaters;Friarbirds;Scissors grinder;Doves;Pied butcherbirds;Birdsongs;Birdsongs",
                  "Caption for URL": "John Hutchinson's bird songs recorded on 10 and 11 August 1977. Part 1",
                  "URL": "http://purl.slwa.wa.gov.au/slwa_b3665338_2",
                  "URL2": null
                },
                {
                  "index": 124,
                  "Local system number": "b36653548",
                  "call number": "ACC 8661A/126",
                  "Title": "John Hutchinson's bird songs recorded on 11 August 1977.",
                  "Date": "1977",
                  "Description of physical object": "1 audiotape reel (approximately 13 min.) ",
                  "notes": "Recorded using Nagra IV-S portable stereo 6.35-mm (?? inch) analogue audio tape recorder.",
                  "Summary": "John Hutchinson is an ornithologist and a birdcall recordist. Tape N40, consists of field recordings of bird calls made at Meda Station in the Kimberleys on 11 August 1977. This tape reel is accompanied by a field note. ACC 8661A/126 ",
                  "Subject headings: Topical": "Birds;Honeyeaters;Crows;Bowerbirds;Pied butcherbirds;Birdsongs",
                  "Caption for URL": "John Hutchinson's bird songs recorded on 11 August 1977. Part 1",
                  "URL": "http://purl.slwa.wa.gov.au/slwa_b3665354_2",
                  "URL2": null
                },
                {
                  "index": 125,
                  "Local system number": "b36653561",
                  "call number": "ACC 8661A/127",
                  "Title": "John Hutchinson's bird songs recorded on 11, 12, 14 and 15 August 1977.",
                  "Date": "1977",
                  "Description of physical object": "1 audiotape reel (approximately 23 min.) ",
                  "notes": "Recorded using Nagra IV-S portable stereo 6.35-mm (?? inch) analogue audio tape recorder.",
                  "Summary": "John Hutchinson is an ornithologist and a birdcall recordist. Tape N41, consists of field recordings of bird calls made at Meda Station in the Kimberleys on 11 August 1977 and at May River in the Kimberleys on 12 August 1977 and at Yeeda Station on 1",
                  "Subject headings: Topical": "Birds;Honeyeaters;Peaceful doves;Little corellas;Friarbirds;Cockatoos;Bowerbirds;Pied butcherbirds;Scissors grinder;Birdsongs;Birdsongs;Birdsongs;Birdsongs",
                  "Caption for URL": "John Hutchinson's bird songs recorded on 11 12 14 and 15 August 1977. Part 1",
                  "URL": "http://purl.slwa.wa.gov.au/slwa_b3665356_2",
                  "URL2": null
                },
                {
                  "index": 126,
                  "Local system number": "b36653627",
                  "call number": "ACC 8661A/128",
                  "Title": "John Hutchinson's bird songs recorded on 18 and 20 August 1977.",
                  "Date": "1977",
                  "Description of physical object": "1 audiotape reel (approximately 22 min.) ",
                  "notes": "Recorded using Nagra IV-S portable stereo 6.35-mm (?? inch) analogue audio tape recorder.",
                  "Summary": "John Hutchinson is an ornithologist and a birdcall recordist. Tape N42, consists of field recordings of bird calls made at La Grange Spring in the Kimberleys on 18 August 1977 and at Yule River , Port Hedland on 20 August 1977.  This tape reel is acc",
                  "Subject headings: Topical": "Birds;Honeyeaters;Vanellus miles;Brolgas;Friarbirds;Reed warblers;Bowerbirds;Water birds;Birdsongs;Birdsongs;Birdsongs",
                  "Caption for URL": "John Hutchinson's bird songs recorded on 18 and 20 August 1977. Part 1",
                  "URL": "http://purl.slwa.wa.gov.au/slwa_b3665362_2",
                  "URL2": null
                },
                {
                  "index": 127,
                  "Local system number": "b36653676",
                  "call number": "ACC 8661A/130",
                  "Title": "John Hutchinson's bird songs recorded on 24 and 25 August 1977.",
                  "Date": "1977",
                  "Description of physical object": "1 audiotape reel (approximately 16 min.) ",
                  "notes": "Recorded using Nagra IV-S portable stereo 6.35-mm (?? inch) analogue audio tape recorder.",
                  "Summary": "John Hutchinson is an ornithologist and a birdcall recordist. Tape N44, consists of field recordings of bird calls made at Bodathana Station Hot Bore, Carnarvon on 24 August 1977 and at Brickhouse Station, Carnarvon on 25 August 1977.  This tape reel",
                  "Subject headings: Topical": "Birds;Honeyeaters;Crows;Birdsongs;Birdsongs",
                  "Caption for URL": "John Hutchinson's bird songs recorded on 24 and 25 August 1977. Part 1",
                  "URL": "http://purl.slwa.wa.gov.au/slwa_b3665367_2",
                  "URL2": null
                },
                {
                  "index": 128,
                  "Local system number": "b36653688",
                  "call number": "ACC 8661A/129",
                  "Title": "John Hutchinson's bird songs recorded on 20, 22, 23 and 24 August 1977.",
                  "Date": "1977",
                  "Description of physical object": "1 audiotape reel (approximately 21 min.) ",
                  "notes": "Recorded using Nagra IV-S portable stereo 6.35-mm (?? inch) analogue audio tape recorder.",
                  "Summary": "John Hutchinson is an ornithologist and a birdcall recordist. Tape N43, consists of field recordings of bird calls made at Yule River, Port Hedland on 20 August 1977 and at Fortescue River on 22 August 1977 and at Yanrey River on 23 August 1977 and a",
                  "Subject headings: Topical": "Birds;Honeyeaters;Thrushes;Galah;Magpie lark;Goshawk;Wedgebill;Willy wagtail;Crows;Birdsongs;Birdsongs;Birdsongs",
                  "Caption for URL": "John Hutchinson's bird songs recorded on 20 22 23 and 24 August 1977. Part 1",
                  "URL": "http://purl.slwa.wa.gov.au/slwa_b3665368_2",
                  "URL2": null
                },
                {
                  "index": 129,
                  "Local system number": "b36653755",
                  "call number": "ACC 8661A/131",
                  "Title": "John Hutchinson's bird songs recorded on 26 and 27 August 1977 and 9 September 1977.",
                  "Date": "1977",
                  "Description of physical object": "1 audiotape reel (approximately 16 min.) ",
                  "notes": "Recorded using Nagra IV-S portable stereo 6.35-mm (?? inch) analogue audio tape recorder.",
                  "Summary": "John Hutchinson is an ornithologist and a birdcall recordist. Tape N45, consists of field recordings of bird calls made at Wooramel Station on 26 August 1977 and at Murchison River on 27 August 1977 and  at Greenbushes on 9 September 1977.  This tape",
                  "Subject headings: Topical": "Birds;Galah;Crows;Warblers;Magpies;Birdsongs;Birdsongs;Birdsongs",
                  "Caption for URL": "John Hutchinson's bird songs recorded on 26 and 27 August 1977 and 9 September 1977. Part 1",
                  "URL": "http://purl.slwa.wa.gov.au/slwa_b3665375_2",
                  "URL2": null
                },
                {
                  "index": 130,
                  "Local system number": "b36653767",
                  "call number": "ACC 8661A/132",
                  "Title": "John Hutchinson's bird songs recorded on 9 September 1977.",
                  "Date": "1977",
                  "Description of physical object": "1 audiotape reel (approximately 22 min.)",
                  "notes": "Recorded using Nagra IV-S portable stereo 6.35-mm (?? inch) analogue audio tape recorder.",
                  "Summary": "John Hutchinson is an ornithologist and a birdcall recordist. Tape N46, consists of field recordings of bird calls made at Greenbushes on 9 September 1977.  This tape reel is accompanied by a field note. ACC 8661A/132 ",
                  "Subject headings: Topical": "Birds;Magpies;Birdsongs",
                  "Caption for URL": "John Hutchinson's bird songs recorded on 9 September 1977. Part 1",
                  "URL": "http://purl.slwa.wa.gov.au/slwa_b3665376_2",
                  "URL2": null
                },
                {
                  "index": 131,
                  "Local system number": "b36653809",
                  "call number": "ACC 8661A/133",
                  "Title": "John Hutchinson's bird songs recorded on 11, 12, 18 and 20 September 1977.",
                  "Date": "1977",
                  "Description of physical object": "1 audiotape reel (approximately 35 min.)",
                  "notes": "Recorded using Nagra IV-S portable stereo 6.35-mm (?? inch) analogue audio tape recorder.",
                  "Summary": "John Hutchinson is an ornithologist and a birdcall recordist. Tape N47, consists of field recordings of bird calls made at Greenbushes on 11, 12, 18 and 20 September 1977.  This tape reel is accompanied by a field note. ACC 8661A/133 ",
                  "Subject headings: Topical": "Birds;Magpies;Scissors grinder;Birdsongs",
                  "Caption for URL": "John Hutchinson's bird songs recorded on 11 12 18 and 20 September 1977. Part 1",
                  "URL": "http://purl.slwa.wa.gov.au/slwa_b3665380_2",
                  "URL2": null
                },
                {
                  "index": 132,
                  "Local system number": "b36653834",
                  "call number": "ACC 8661A/134",
                  "Title": "John Hutchinson's bird songs recorded on 20, 23 and 25 September 1977.",
                  "Date": "1977",
                  "Description of physical object": "1 audiotape reel (approximately 15 min.) ",
                  "notes": "Recorded using Nagra IV-S portable stereo 6.35-mm (?? inch) analogue audio tape recorder.",
                  "Summary": "John Hutchinson is an ornithologist and a birdcall recordist. Tape N48, consists of field recordings of bird calls made at Greenbushes on 20 and 23 September 1977 and at Wright's Bridge on 25 September 1977.  This tape reel is accompanied by a field ",
                  "Subject headings: Topical": "Birds;Magpies;Willy wagtail;Magpie lark;Frogs;Birdsongs;Birdsongs;Birdsongs",
                  "Caption for URL": "John Hutchinson's bird songs recorded on 20 23 and 25 September 1977. Part 1",
                  "URL": "http://purl.slwa.wa.gov.au/slwa_b3665383_2",
                  "URL2": null
                },
                {
                  "index": 133,
                  "Local system number": "b36653883",
                  "call number": "ACC 8661A/135",
                  "Title": "John Hutchinson's bird songs recorded on 25 September 1977.",
                  "Date": "1977",
                  "Description of physical object": "1 audiotape reel (approximately 28 min.) ",
                  "notes": "Recorded using Nagra IV-S portable stereo 6.35-mm (?? inch) analogue audio tape recorder.",
                  "Summary": "John Hutchinson is an ornithologist and a birdcall recordist. Tape N49, consists of field recordings of bird calls made at Wright's Bridge on 25 September 1977.  This tape reel is accompanied by a field note. ACC 8661A/135 ",
                  "Subject headings: Topical": "Frogs;Frogs",
                  "Caption for URL": "John Hutchinson's bird songs recorded on 25 September 1977. Part 1",
                  "URL": "http://purl.slwa.wa.gov.au/slwa_b3665388_2",
                  "URL2": null
                },
                {
                  "index": 134,
                  "Local system number": "b36653925",
                  "call number": "ACC 8661A/136",
                  "Title": "John Hutchinson's bird songs recorded on 14 October 1977.",
                  "Date": "1977",
                  "Description of physical object": "1 audiotape reel (approximately 14 min.) ",
                  "notes": "Recorded using Nagra IV-S portable stereo 6.35-mm (?? inch) analogue audio tape recorder.",
                  "Summary": "John Hutchinson is an ornithologist and a birdcall recordist. Tape N50, consists of field recordings of bird calls made at Greenbushes on 14 October 1977.  This tape reel is accompanied by a field note. ACC 8661A/136 ",
                  "Subject headings: Topical": "Birds;Magpies;Kookaburra;Robins;Birdsongs",
                  "Caption for URL": "John Hutchinson's bird songs recorded on 14 October 1977. Part 1",
                  "URL": "http://purl.slwa.wa.gov.au/slwa_b3665392_2",
                  "URL2": null
                },
                {
                  "index": 135,
                  "Local system number": "b36653949",
                  "call number": "ACC 8661A/137",
                  "Title": "John Hutchinson's bird songs recorded on 14 and 15 October 1977.",
                  "Date": "1977",
                  "Description of physical object": "1 audiotape reel (approximately 23 min.)",
                  "notes": "Recorded using Nagra IV-S portable stereo 6.35-mm (?? inch) analogue audio tape recorder.",
                  "Summary": "John Hutchinson is an ornithologist and a birdcall recordist. Tape N51, consists of field recordings of bird calls made at Greenbushes on 14 and 15 October 1977.  This tape reel is accompanied by a field note. ACC 8661A/137 ",
                  "Subject headings: Topical": "Birds;Magpies;Frogs;Birdsongs",
                  "Caption for URL": "John Hutchinson's bird songs recorded on 14 and 15 October 1977. Part 1",
                  "URL": "http://purl.slwa.wa.gov.au/slwa_b3665394_2",
                  "URL2": null
                },
                {
                  "index": 136,
                  "Local system number": "b36653950",
                  "call number": "ACC 8661A/138",
                  "Title": "John Hutchinson's bird songs recorded on 15 and 16 October 1977.",
                  "Date": "1977",
                  "Description of physical object": "1 audiotape reel (approximately 15 min.)",
                  "notes": "Recorded using Nagra IV-S portable stereo 6.35-mm (?? inch) analogue audio tape recorder.",
                  "Summary": "John Hutchinson is an ornithologist and a birdcall recordist. Tape N52, consists of field recordings of bird calls made at Greenbushes on 15 and 16 October 1977.  This tape reel is accompanied by a field note. ACC 8661A/138 ",
                  "Subject headings: Topical": "Birds;Twenty-eight parrots;Ravens;Magpies;Honeyeaters;Scissors grinder;Robins;Kookaburra;Frogs;Birdsongs",
                  "Caption for URL": "John Hutchinson's bird songs recorded on 15 and 16 October 1977. Part 1",
                  "URL": "http://purl.slwa.wa.gov.au/slwa_b3665395_2",
                  "URL2": null
                },
                {
                  "index": 137,
                  "Local system number": "b36653962",
                  "call number": "ACC 8661A/139",
                  "Title": "John Hutchinson's bird songs recorded on 16, 18, 26 and 29 October 1977.",
                  "Date": "1977",
                  "Description of physical object": "1 audiotape reel (approximately 16 min.)",
                  "notes": "Recorded using Nagra IV-S portable stereo 6.35-mm (?? inch) analogue audio tape recorder.",
                  "Summary": "John Hutchinson is an ornithologist and a birdcall recordist. Tape N53, consists of field recordings of bird calls made at Greenbushes on 16, 18 and 26 October 1977 and at Manjimup on 29 October 1977.  This tape reel is accompanied by a field note. A",
                  "Subject headings: Topical": "Birds;Pardalotes;Songlarks;Twenty-eight parrots;Honeyeaters;Scissors grinder;Robins;Wrens;Birdsongs;Birdsongs",
                  "Caption for URL": "John Hutchinson's bird songs recorded on 16 18 26 and 29 October 1977. Part 1",
                  "URL": "http://purl.slwa.wa.gov.au/slwa_b3665396_2",
                  "URL2": null
                },
                {
                  "index": 138,
                  "Local system number": "b36654218",
                  "call number": "ACC 8661A/140",
                  "Title": "John Hutchinson's bird songs recorded on 29 October 1977 and 1 November 1977.",
                  "Date": "1977",
                  "Description of physical object": "1 audiotape reel (approximately 25 min.)",
                  "notes": "Recorded using Nagra IV-S portable stereo 6.35-mm (?? inch) analogue audio tape recorder.",
                  "Summary": "John Hutchinson is an ornithologist and a birdcall recordist. Tape N54, consists of field recordings of bird calls made at One Tree Bridge, Manjimup on 29 October 1977 and at Greenbushes on 1 November 1977.  This tape reel is accompanied by a field n",
                  "Subject headings: Topical": "Birds;Whistlers (Birds);Wrens;Honeyeaters;Robins;Magpies;Birdsongs;Birdsongs",
                  "Caption for URL": "John Hutchinson's bird songs recorded on 29 October 1977 and 1 November 1977. Part 1",
                  "URL": "http://purl.slwa.wa.gov.au/slwa_b3665421_2",
                  "URL2": null
                },
                {
                  "index": 139,
                  "Local system number": "b36654279",
                  "call number": "ACC 8661A/141",
                  "Title": "John Hutchinson's bird songs recorded on 1, 2, 3 and 4 November 1977.",
                  "Date": "1977",
                  "Description of physical object": "1 audiotape reel (approximately 19 min.)",
                  "notes": "Recorded using Nagra IV-S portable stereo 6.35-mm (?? inch) analogue audio tape recorder.",
                  "Summary": "John Hutchinson is an ornithologist and a birdcall recordist. Tape N55, consists of field recordings of bird calls made at Greenbushes on 1, 2, 3 and 4 November 1977.  This tape reel is accompanied by a field note. ACC 8661A/141 ",
                  "Subject headings: Topical": "Birds;Songlarks;Cockatoos;Honeyeaters;Scissor grinder;Twenty-eight parrots;Frogs;Birdsongs",
                  "Caption for URL": "John Hutchinson's bird songs recorded on 1 2 3 and 4 November 1977. Part 1",
                  "URL": "http://purl.slwa.wa.gov.au/slwa_b3665427_2",
                  "URL2": null
                },
                {
                  "index": 140,
                  "Local system number": "b36654358",
                  "call number": "ACC 8661A/142",
                  "Title": "John Hutchinson's bird songs recorded on 11, 12 and 17 November 1977.",
                  "Date": "1977",
                  "Description of physical object": "1 audiotape reel (approximately 13 min.)",
                  "notes": "Recorded using Nagra IV-S portable stereo 6.35-mm (?? inch) analogue audio tape recorder.",
                  "Summary": "John Hutchinson is an ornithologist and a birdcall recordist. Tape N56, consists of field recordings of bird calls made at Northcliffe on 11 and 12 November 1977 and at Boyanup on 17 November 1977.  This tape reel is accompanied by a field note. ACC ",
                  "Subject headings: Topical": "Birds;Thornbills;Kookaburra;Warblers;Wrens;Shrike-thrushes;Birdsongs;Birdsongs",
                  "Caption for URL": "John Hutchinson's bird songs recorded on 11 12 and 17 November 1977. Part 1",
                  "URL": "http://purl.slwa.wa.gov.au/slwa_b3665435_2",
                  "URL2": null
                },
                {
                  "index": 141,
                  "Local system number": "b36654371",
                  "call number": "ACC 8661A/143",
                  "Title": "John Hutchinson's bird songs recorded on 17, 20 and 21 November 1977.",
                  "Date": "1977",
                  "Description of physical object": "1 audiotape reel (approximately 10 min.)",
                  "notes": "Recorded using Nagra IV-S portable stereo 6.35-mm (?? inch) analogue audio tape recorder.",
                  "Summary": "John Hutchinson is an ornithologist and a birdcall recordist. Tape N57, consists of field recordings of bird calls made at Boyanup on 17 November 1977 and at Lewana Park, Balingup on 20 and 21 November 1977.  This tape reel is accompanied by a field ",
                  "Subject headings: Topical": "Birds;Magpies;Zosterops lateralis;Cuckoos;Honeyeaters;Frogs;Birdsongs;Birdsongs",
                  "Caption for URL": "John Hutchinson's bird songs recorded on 17 20 and 21 November 1977. Part 1",
                  "URL": "http://purl.slwa.wa.gov.au/slwa_b3665437_2",
                  "URL2": null
                },
                {
                  "index": 142,
                  "Local system number": "b36654401",
                  "call number": "ACC 8661A/144",
                  "Title": "John Hutchinson's bird songs recorded on 21, 29 and 30 November 1977.",
                  "Date": "1977",
                  "Description of physical object": "1 audiotape reel (approximately 20 min.)",
                  "notes": "Recorded using Nagra IV-S portable stereo 6.35-mm (?? inch) analogue audio tape recorder.",
                  "Summary": "John Hutchinson is an ornithologist and a birdcall recordist. Tape N58, consists of field recordings of bird calls made at Lewana Park, Balingup on  21, 29 and 30 November 1977. This tape reel is accompanied by a field note. ACC 8661A/144 ",
                  "Subject headings: Topical": "Birds;Magpies;Zosterops lateralis;Robins;Honeyeaters;Twenty-eight parrots;Frogs;Birdsongs",
                  "Caption for URL": "John Hutchinson's bird songs recorded on 21 29 and 30 November 1977. Part 1",
                  "URL": "http://purl.slwa.wa.gov.au/slwa_b3665440_2",
                  "URL2": null
                },
                {
                  "index": 143,
                  "Local system number": "b36654437",
                  "call number": "ACC 8661A/145",
                  "Title": "John Hutchinson's bird songs recorded on 30 November 1977 and 1 December 1977.",
                  "Date": "1977",
                  "Description of physical object": "1 audiotape reel (approximately 18 min.)",
                  "notes": "Recorded using Nagra IV-S portable stereo 6.35-mm (?? inch) analogue audio tape recorder.",
                  "Summary": "John Hutchinson is an ornithologist and a birdcall recordist. Tape N59, consists of field recordings of bird calls made at Lewana Park, Balingup on  30 November 1977 and 1 December 1977. This tape reel is accompanied by a field note. ACC 8661A/145 ",
                  "Subject headings: Topical": "Birds;Magpies;Honeyeaters;Twenty-eight parrots;Frogs;Birdsongs",
                  "Caption for URL": "John Hutchinson's bird songs recorded on 30 November 1977 and 1 December 1977. Part 1",
                  "URL": "http://purl.slwa.wa.gov.au/slwa_b3665443_2",
                  "URL2": null
                },
                {
                  "index": 144,
                  "Local system number": "b36654474",
                  "call number": "ACC 8661A/146",
                  "Title": "John Hutchinson's bird songs recorded on 1, 5 and 6 December 1977.",
                  "Date": "1977",
                  "Description of physical object": "1 audiotape reel (approximately 17 min.)",
                  "notes": "Recorded using Nagra IV-S portable stereo 6.35-mm (?? inch) analogue audio tape recorder.",
                  "Summary": "John Hutchinson is an ornithologist and a birdcall recordist. Tape N60, consists of field recordings of bird calls made at Greenbushes on 3 and 5 December 1977 and at Lewana Park, Balingup on 6 December 1977.  This tape reel is accompanied by a field",
                  "Subject headings: Topical": "Birds;Songlarks;Ravens;Herons;Cuckoo-shrikes;Willy wagtails;Thornbills;Fantails;Honeyeaters;Twenty-eight parrots;Frogs;Birdsongs;Birdsongs",
                  "Caption for URL": "John Hutchinson's bird songs recorded on 1 5 and 6 December 1977. Part 1",
                  "URL": "http://purl.slwa.wa.gov.au/slwa_b3665447_2",
                  "URL2": null
                },
                {
                  "index": 145,
                  "Local system number": "b36709943",
                  "call number": "ACC 8661A/147",
                  "Title": "John Hutchinson's bird songs recorded on 6, 7 and 9 December 1977.",
                  "Date": "1977",
                  "Description of physical object": "1 audiotape reel (approximately 7 min.)",
                  "notes": "Recorded using Nagra IV-S portable stereo 6.35-mm (?? inch) analogue audio tape recorder.",
                  "Summary": "John Hutchinson is an ornithologist and a birdcall recordist. Tape N61, consists of field recordings of bird calls made at Lewana Park, Balingup on 6, 7 and 9 December 1977.  This tape reel is accompanied by a field note. ACC 8661A/147.",
                  "Subject headings: Topical": "Birds;Whistlers (Birds);Twenty-eight parrots;Zosterops lateralis;Magpies;Kookaburra;Honeyeaters;Frogs;Birdsongs;Birdsongs",
                  "Caption for URL": "John Hutchinson's bird songs recorded on 6 7 and 9 December 1977. Part 1",
                  "URL": "http://purl.slwa.wa.gov.au/slwa_b3670994_2",
                  "URL2": null
                },
                {
                  "index": 146,
                  "Local system number": "b36725304",
                  "call number": "ACC 8661A/148",
                  "Title": "John Hutchinson's bird songs recorded on 9 and 10 December 1977.",
                  "Date": "1977",
                  "Description of physical object": "1 audiotape reel (approximately 8 min.)",
                  "notes": "Recorded using Nagra IV-S portable stereo 6.35-mm (?? inch) analogue audio tape recorder.",
                  "Summary": "Hutchinson is an ornithologist and a birdcall recordist. Tape N62, consists of field recordings of bird calls made at Lewana Park, Balingup on 9 and 10 December 1977. This tape reel is accompanied by a field note. ACC 8661A/148 ",
                  "Subject headings: Topical": "Birds;Trills;Honeyeaters;Thornbills;Frogs;Birdsongs",
                  "Caption for URL": "John Hutchinson's bird songs recorded on 9 and 10 December 1977. Part 1",
                  "URL": "http://purl.slwa.wa.gov.au/slwa_b3672530_2",
                  "URL2": null
                },
                {
                  "index": 147,
                  "Local system number": "b36798757",
                  "call number": "ACC 8661A/149",
                  "Title": "John Hutchinson's bird songs recorded on 10 December 1977 and 4 January 1978.",
                  "Date": "1977-1978.",
                  "Description of physical object": "1 audiotape reel (approximately 14 min.)",
                  "notes": "Recorded using Nagra IV-S portable stereo 6.35-mm (?? inch) analogue audio tape recorder.",
                  "Summary": "John Hutchinson is an ornithologist and a birdcall recordist. Tape N63, consists of field recordings of bird calls made at Lewana Park, Balingup on 10 December 1977 and 4 January 1978. This tape reel is accompanied by a field note. ACC 8661A/149.",
                  "Subject headings: Topical": "Birds;Willy wagtails;Honeyeaters;Crickets;Birdsongs",
                  "Caption for URL": "John Hutchinson's bird songs recorded on 10 December 1977 and 4 January 1978. Part 1",
                  "URL": "http://purl.slwa.wa.gov.au/slwa_b3679875_2",
                  "URL2": null
                },
                {
                  "index": 148,
                  "Local system number": "b36798873",
                  "call number": "ACC 8661A/150",
                  "Title": "John Hutchinson's bird songs recorded on 6 May 1978 and 7 and 10 June 1978.",
                  "Date": "1977",
                  "Description of physical object": "1 audiotape reel (approximately 24 min.) ",
                  "notes": "Recorded using Nagra IV-S portable stereo 6.35-mm (?? inch) analogue audio tape recorder.",
                  "Summary": "John Hutchinson is an ornithologist and a birdcall recordist. Tape N64, consists of field recordings of bird calls made at Norseman on 6 May 1978 and Glasshouse Mountains, Queensland on 7 June 1978 and Moggill Forest, Queensland 10 June 1978. This ta",
                  "Subject headings: Topical": "Birds;Willy wagtails;Honeyeaters;Currawongs;Whistlers (Bird);Wrens;Robins;Kookaburra;Treecreepers;Birdsongs;Birdsongs;Birdsongs;Birdsongs",
                  "Caption for URL": "John Hutchinson's bird songs recorded on 6 May 1978 and 7 and 10 June 1978. Part 1",
                  "URL": "http://purl.slwa.wa.gov.au/slwa_b3679887_2",
                  "URL2": null
                },
                {
                  "index": 149,
                  "Local system number": "b37103246",
                  "call number": "ACC 8661A/151",
                  "Title": "John Hutchinson's bird songs recorded on 10 June 1978 and 28 April 1980.",
                  "Date": "1978-1980.",
                  "Description of physical object": "1 audiotape reel (approximately 24 min.) ",
                  "notes": "Recorded using Nagra IV-S portable stereo 6.35-mm (?? inch) analogue audio tape recorder.",
                  "Summary": "John Hutchinson is an ornithologist and a birdcall recordist. Tape N65, consists of field recordings of bird calls made at Moggill Forest, Queensland 10 June 1978 and O'Reilly's waterhole, Queensland on 28 April 1980.  This tape reel is accompanied b",
                  "Subject headings: Topical": "Birds;Whipbirds;Peaceful doves;Silvereyes;Whistlers (Birds);Shrike-thrushes;Magpies;Pachycephala rufiventris;Treecreepers;Crows;Pardalotes;Honeyeaters ;Pigeons;Thrushes;Cuckoo-shrikes;Honeyeaters;Scrubwrens;Thornbills;Pardalotes;Birdsongs;Birdsongs",
                  "Caption for URL": "John Hutchinson's bird songs recorded on 10 June 1978 and 28 April 1980. Part 1",
                  "URL": "http://purl.slwa.wa.gov.au/slwa_b3710324_2",
                  "URL2": null
                },
                {
                  "index": 150,
                  "Local system number": "b37103593",
                  "call number": "ACC 8661A/153",
                  "Title": "John Hutchinson's bird songs recorded on 28 and 29 April 1980.",
                  "Date": "1980",
                  "Description of physical object": "1 audiotape reel (approximately 23 min,) ",
                  "notes": "Recorded using Nagra IV-S portable stereo 6.35-mm (?? inch) analogue audio tape recorder.",
                  "Summary": "John Hutchinson is an ornithologist and a birdcall recordist. Tape N67, consists of field recordings of bird calls made at O'Reilly's waterhole, Queensland on 28 and 29 April 1980. This tape reel is accompanied by a field note. Some birdsongs edited ",
                  "Subject headings: Topical": "Birds;Whipbirds;Honeyeaters;Warblers;Scrubwrens;Silvereyes;Fantails;Wrens;Robins;Birdsongs",
                  "Caption for URL": "John Hutchinson's bird songs recorded on 28 and 29 April 1980. Part 1",
                  "URL": "http://purl.slwa.wa.gov.au/slwa_b3710359_2",
                  "URL2": null
                },
                {
                  "index": 151,
                  "Local system number": "b37320531",
                  "call number": "ACC 8661A/156",
                  "Title": "John Hutchinson's bird songs recorded on 11 and 12 May 1980.",
                  "Date": "1980",
                  "Description of physical object": "1 audiotape reel (approximately 27 min.) ",
                  "notes": "Recorded using Nagra IV-S portable stereo 6.35-mm (?? inch) analogue audio tape recorder. ",
                  "Summary": "John Hutchinson is an ornithologist and a birdcall recordist. Tape N70, consists of field recordings of bird calls made at Moggill Forest, Queensland on 11 and 12 May 1980.  This tape reel is accompanied by a field note. ACC 8661A/156 ",
                  "Subject headings: Topical": "Birds;Bellbirds;Whipbirds;Ravens;Kookaburra;Cuckoos;Butcherbirds;Helicopters;Birdsongs",
                  "Caption for URL": "John Hutchinson's bird songs recorded on 11 and 12 May 1980. Part 1",
                  "URL": "http://purl.slwa.wa.gov.au/slwa_b3732053_2",
                  "URL2": null
                },
                {
                  "index": 152,
                  "Local system number": "b37320610",
                  "call number": "ACC 8661A/157",
                  "Title": "John Hutchinson's bird songs recorded on 12, 13 and 18 May 1980.",
                  "Date": "1980",
                  "Description of physical object": "1 audiotape reel (approximately 28 min.) ",
                  "notes": "Recorded using Nagra IV-S portable stereo 6.35-mm (?? inch) analogue audio tape recorder. ",
                  "Summary": "John Hutchinson is an ornithologist and a birdcall recordist. Tape N71, consists of field recordings of bird calls made at Moggill Forest, Queensland on 12 and 13 May 1980 and at Green Mountains, Queensland on 18 May 1980.  This tape reel is accompan",
                  "Subject headings: Topical": "Birds;Thrushes;Whipbirds;Kookaburra;Cuckoos;Honeyeaters;Crows;Thornbills;Birdsongs;Birdsongs",
                  "Caption for URL": "John Hutchinson's bird songs recorded on 12 13 and 18 May 1980. Part 1",
                  "URL": "http://purl.slwa.wa.gov.au/slwa_b3732061_2",
                  "URL2": null
                },
                {
                  "index": 153,
                  "Local system number": "b37321018",
                  "call number": "ACC 8661A/158",
                  "Title": "John Hutchinson's bird songs recorded on 14 May 1980.",
                  "Date": "1980",
                  "Description of physical object": "1 audiotape reel (approximately 18 min.) ",
                  "notes": "Recorded using Nagra IV-S portable stereo 6.35-mm (?? inch) analogue audio tape recorder. ",
                  "Summary": "John Hutchinson is an ornithologist and a birdcall recordist. Tape N72, consists of field recordings of bird calls made at Moggill Forest, Queensland on 14 May 1980.  This tape reel is accompanied by a field note. ACC 8661A/158 ",
                  "Subject headings: Topical": "Birds;Robins;Honeyeaters;Kookaburra;Whipbirds;Honeyeaters;Whistlers (Birds) ;Bee eaters;Warblers;Birdsongs",
                  "Caption for URL": "John Hutchinson's bird songs recorded on 14 May 1980. Part 1",
                  "URL": "http://purl.slwa.wa.gov.au/slwa_b3732101_2",
                  "URL2": null
                },
                {
                  "index": 154,
                  "Local system number": "b37327835",
                  "call number": "ACC 8661A/159",
                  "Title": "John Hutchinson's bird songs recorded on 18 and 19 May 1980.",
                  "Date": "1980",
                  "Description of physical object": "1 audiotape reel (approximately 27 min.) ",
                  "notes": "Recorded using Nagra IV-S portable stereo 6.35-mm (?? inch) analogue audio tape recorder. ",
                  "Summary": "John Hutchinson is an ornithologist and a birdcall recordist. Tape N73, consists of field recordings of bird calls made at Green Mountains, Queensland on 18 and 19  May 1980.  This tape reel is accompanied by a field note. ACC 8661A/159.",
                  "Subject headings: Topical": "Birds;Chowchillas;Whipbirds;Birdsongs",
                  "Caption for URL": "John Hutchinson's bird songs recorded on 18 and 19 May 1980. Part 1",
                  "URL": "http://purl.slwa.wa.gov.au/slwa_b3732783_2",
                  "URL2": null
                },
                {
                  "index": 155,
                  "Local system number": "b37328293",
                  "call number": "ACC 8661A/160",
                  "Title": "John Hutchinson's bird songs recorded on 19, 20 and 21 May 1980.",
                  "Date": "1980",
                  "Description of physical object": "1 audiotape reel (approximately 19 min.) ",
                  "notes": "Recorded using Nagra IV-S portable stereo 6.35-mm (?? inch) analogue audio tape recorder. ",
                  "Summary": "John Hutchinson is an ornithologist and a birdcall recordist. Tape N74, consists of field recordings of bird calls made at Green Mountains, Queensland 19, 20 and 21  May 1980.  This tape reel is accompanied by a field note. ACC 8661A/160 ",
                  "Subject headings: Topical": "Birds;Robins;Whipbirds;Honeyeaters;Birdsongs",
                  "Caption for URL": "John Hutchinson's bird songs recorded on 19 20 and 21 May 1980. Part 1",
                  "URL": "http://purl.slwa.wa.gov.au/slwa_b3732829_2",
                  "URL2": null
                },
                {
                  "index": 156,
                  "Local system number": "b37330214",
                  "call number": "ACC 8661A/161",
                  "Title": "John Hutchinson's bird songs recorded on 22 and 23 May 1980.",
                  "Date": "1980",
                  "Description of physical object": "1 audiotape reel (approximately 28 min.) ",
                  "notes": "Recorded using Nagra IV-S portable stereo 6.35-mm (?? inch) analogue audio tape recorder. Also test of condenser microphone C451E.  ",
                  "Summary": "John Hutchinson is an ornithologist and a birdcall recordist. Tape N75, consists of field recordings of bird calls made at Green Mountains, Queensland on 22 and 23  May 1980.  This tape reel is accompanied by a field note. ACC 8661A/161 ",
                  "Subject headings: Topical": "Birds;Chowchillas;Whipbirds;Honeyeaters;Catbird;Ravens;Bellbirds;Parrots;Birdsongs",
                  "Caption for URL": "John Hutchinson's bird songs recorded on 22 and 23 May 1980. Part 1",
                  "URL": "http://purl.slwa.wa.gov.au/slwa_b3733021_2",
                  "URL2": null
                },
                {
                  "index": 157,
                  "Local system number": "b37332235",
                  "call number": "ACC 8661A/162",
                  "Title": "John Hutchinson's bird songs recorded on 31 May 1980 and 1 June 1980.",
                  "Date": "1980",
                  "Description of physical object": "1 audiotape reel (approximately 20 min.) ",
                  "notes": "Recorded using Nagra IV-S portable stereo 6.35-mm (?? inch) analogue audio tape recorder. Also test of condenser microphone C451E.  ",
                  "Summary": "John Hutchinson is an ornithologist and a birdcall recordist. Tape N76, consists of field recordings of bird calls made at Moggill Forest, Queensland  on 31  May 1980 and 1 June 1980.  This tape reel is accompanied by a field note. ACC 8661A/162 ",
                  "Subject headings: Topical": "Birds;Whipbirds;Honeyeaters;Crows;Treecreepers;Bellbirds;Parrots;Birdsongs",
                  "Caption for URL": "John Hutchinson's bird songs recorded on 31 May 1980 and 1 June 1980. Part 1",
                  "URL": "http://purl.slwa.wa.gov.au/slwa_b3733223_2",
                  "URL2": null
                },
                {
                  "index": 158,
                  "Local system number": "b3733251x",
                  "call number": "ACC 8661A/163",
                  "Title": "John Hutchinson's bird songs recorded on 1 and 2 June 1980.",
                  "Date": "1980",
                  "Description of physical object": "1 audiotape reel (approximately 15 min.) ",
                  "notes": "Recorded using Nagra IV-S portable stereo 6.35-mm (?? inch) analogue audio tape recorder. ",
                  "Summary": "John Hutchinson is an ornithologist and a birdcall recordist. Tape N77, consists of field recordings of bird calls made at Moggill Forest, Queensland  on  1 and 2 June 1980.  This tape reel is accompanied by a field note. ACC 8661A/163 ",
                  "Subject headings: Topical": "Birds;Whipbirds;Honeyeaters;Crows;Treecreepers;Wrens;Friarbirds;Birdsongs",
                  "Caption for URL": "John Hutchinson's bird songs recorded on 1 and 2 June 1980. Part 1",
                  "URL": "http://purl.slwa.wa.gov.au/slwa_b3733251_2",
                  "URL2": null
                },
                {
                  "index": 159,
                  "Local system number": "b37332569",
                  "call number": "ACC 8661A/164",
                  "Title": "John Hutchinson's bird songs recorded on 2 and 3 June 1980.",
                  "Date": "1980",
                  "Description of physical object": "1 audiotape reel (approximately 18 min.) ",
                  "notes": "Recorded using Nagra IV-S portable stereo 6.35-mm (?? inch) analogue audio tape recorder. ",
                  "Summary": "John Hutchinson is an ornithologist and a birdcall recordist. Tape N78, consists of field recordings of bird calls made at Moggill Forest, Queensland  on  2 and 3 June 1980.  This tape reel is accompanied by a field note. ACC 8661A/164 ",
                  "Subject headings: Topical": "Birds;Whipbirds;Honeyeaters;Bellbirds;Birdsongs",
                  "Caption for URL": "John Hutchinson's bird songs recorded on 2 and 3 June 1980. Part 1",
                  "URL": "http://purl.slwa.wa.gov.au/slwa_b3733256_2",
                  "URL2": null
                },
                {
                  "index": 160,
                  "Local system number": "b37358807",
                  "call number": "ACC 8661A/165",
                  "Title": "John Hutchinson's bird songs recorded on 3 June 1980.",
                  "Date": "1980",
                  "Description of physical object": "1 audiotape reel (approximately 15 min.) ",
                  "notes": "Recorded using Nagra IV-S portable stereo 6.35-mm (?? inch) analogue audio tape recorder. ",
                  "Summary": "John Hutchinson is an ornithologist and a birdcall recordist. Tape N79, consists of field recordings of bird calls made at Moggill Forest, Queensland  on  3 June 1980.  This tape reel is accompanied by a field note. ACC 8661A/165 ",
                  "Subject headings: Topical": "Birds;Whipbirds;Bellbirds;Birdsongs",
                  "Caption for URL": "John Hutchinson's bird songs recorded on 3 June 1980. Part 1",
                  "URL": "http://purl.slwa.wa.gov.au/slwa_b3735880_2",
                  "URL2": null
                },
                {
                  "index": 161,
                  "Local system number": "b37360553",
                  "call number": "ACC 8661A/166",
                  "Title": "John Hutchinson's bird songs recorded on 4 June 1980.",
                  "Date": "1980",
                  "Description of physical object": "1 audiotape reel (approximately 12 min.) ",
                  "notes": "Recorded using Nagra IV-S portable stereo 6.35-mm (?? inch) analogue audio tape recorder. ",
                  "Summary": "John Hutchinson is an ornithologist and a birdcall recordist. Tape N80, consists of field recordings of bird calls made at Moggill Forest, Queensland  on  4 June 1980.  This tape reel is accompanied by a field note. ACC 8661A/166  ",
                  "Subject headings: Topical": "Birds;Whipbirds;Bellbirds;Birdsongs",
                  "Caption for URL": "John Hutchinson's bird songs recorded on 4 June 1980. Part 1",
                  "URL": "http://purl.slwa.wa.gov.au/slwa_b3736055_2",
                  "URL2": null
                },
                {
                  "index": 162,
                  "Local system number": "b37361028",
                  "call number": "ACC 8661A/167",
                  "Title": "John Hutchinson's bird songs recorded on 8 June 1980.",
                  "Date": "1980",
                  "Description of physical object": "1 audiotape reel (approximately 22 min.) ",
                  "notes": "Recorded using Nagra IV-S portable stereo 6.35-mm (?? inch) analogue audio tape recorder. ",
                  "Summary": "John Hutchinson is an ornithologist and a birdcall recordist. Tape N81, consists of field recordings of bird calls made at Moggill Forest, Queensland  on  8 June 1980.  This tape reel is accompanied by a field note. ACC 8661A/167 ",
                  "Subject headings: Topical": "Birds;Treecreepers;Kookaburra;Honeyeaters;Whipbirds;Whistlers (Birds);Birdsongs",
                  "Caption for URL": "John Hutchinson's bird songs recorded on 8 June 1980. Part 1",
                  "URL": "http://purl.slwa.wa.gov.au/slwa_b3736102_2",
                  "URL2": null
                },
                {
                  "index": 163,
                  "Local system number": "b37361107",
                  "call number": "ACC 8661A/168",
                  "Title": "John Hutchinson's bird songs recorded on 8 June 1980.",
                  "Date": "1980",
                  "Description of physical object": "1 audiotape reel (approximately 25 min.) ",
                  "notes": "Recorded using Nagra IV-S portable stereo 6.35-mm (?? inch) analogue audio tape recorder. ",
                  "Summary": "John Hutchinson is an ornithologist and a birdcall recordist. Tape N82, consists of field recordings of bird calls made at Moggill Forest, Queensland  on  6 June 1980.  This tape reel is accompanied by a field note. ACC 8661A/168 ",
                  "Subject headings: Topical": "Birds;Crows;Kookaburra;Honeyeaters;Currawongs;Birdsongs",
                  "Caption for URL": "John Hutchinson's bird songs recorded on 9 June 1980. Part 1",
                  "URL": "http://purl.slwa.wa.gov.au/slwa_b3736110_2",
                  "URL2": null
                },
                {
                  "index": 164,
                  "Local system number": "b37361132",
                  "call number": "ACC 8661A/169",
                  "Title": "John Hutchinson's bird songs recorded on 9, 10 and 11 June 1980.",
                  "Date": "1980",
                  "Description of physical object": "1 audiotape reel (approximately 30 min.) ",
                  "notes": "Recorded using Nagra IV-S portable stereo 6.35-mm (?? inch) analogue audio tape recorder. ",
                  "Summary": "John Hutchinson is an ornithologist and a birdcall recordist. Tape N83, consists of field recordings of bird calls made at Moggill Forest, Queensland  on  9, 10 and 11 June 1980.  This tape reel is accompanied by a field note. ACC 8661A/169 ",
                  "Subject headings: Topical": "Birds;Honeyeaters;Fantails;Thornbills;Birdsongs",
                  "Caption for URL": "John Hutchinson's bird songs recorded on 9 10 and 11 June 1980. Part 1",
                  "URL": "http://purl.slwa.wa.gov.au/slwa_b3736113_2",
                  "URL2": null
                },
                {
                  "index": 165,
                  "Local system number": "b3736134x",
                  "call number": "ACC 8661A/170",
                  "Title": "John Hutchinson's bird songs recorded on 11 and 12 June 1980.",
                  "Date": "1980",
                  "Description of physical object": "1 audiotape reel (approximately 20 min.) ",
                  "notes": "Recorded using Nagra IV-S portable stereo 6.35-mm (?? inch) analogue audio tape recorder. ",
                  "Summary": "John Hutchinson is an ornithologist and a birdcall recordist. Tape N84, consists of field recordings of bird calls made at Moggill Forest, Queensland  on  11 and 12 June 1980.  This tape reel is accompanied by a field note. ACC 8661A/170 ",
                  "Subject headings: Topical": "Birds;Whipbirds;Horses;Honeyeaters;Fantails;Kookaburra;Birdsongs",
                  "Caption for URL": "John Hutchinson's bird songs recorded on 11 and 12 June 1980. Part 1",
                  "URL": "http://purl.slwa.wa.gov.au/slwa_b3736134_2",
                  "URL2": null
                },
                {
                  "index": 166,
                  "Local system number": "b37361545",
                  "call number": "ACC 8661A/171",
                  "Title": "John Hutchinson's bird songs recorded on 12, 13 and 17 June 1980.",
                  "Date": "1980",
                  "Description of physical object": "1 audiotape reel (approximately 30 min.) ",
                  "notes": "Recorded using Nagra IV-S portable stereo 6.35-mm (?? inch) analogue audio tape recorder. ",
                  "Summary": "John Hutchinson is an ornithologist and a birdcall recordist. Tape N85, consists of field recordings of bird calls made at Moggill Forest, Queensland  on 12, 13 and 17 June 1980.  This tape reel is accompanied by a field note. ACC 8661A/171 ",
                  "Subject headings: Topical": "Birds;Whipbirds;Honeyeaters;Fantails;Thrushes;Bee eaters;Birdsongs",
                  "Caption for URL": "John Hutchinson's bird songs recorded on 12 13 and 17 June 1980. Part 1",
                  "URL": "http://purl.slwa.wa.gov.au/slwa_b3736154_2",
                  "URL2": null
                },
                {
                  "index": 167,
                  "Local system number": "b37361569",
                  "call number": "ACC 8661A/172",
                  "Title": "John Hutchinson's bird songs recorded on 17, 18, 19 and 21 June 1980.",
                  "Date": "1980",
                  "Description of physical object": "1 audiotape reel (approximately 18 min.) ",
                  "notes": "Recorded using Nagra IV-S portable stereo 6.35-mm (?? inch) analogue audio tape recorder. ",
                  "Summary": "John Hutchinson is an ornithologist and a birdcall recordist. Tape N86, consists of field recordings of bird calls made at Moggill Forest, Queensland  on 17, 18, 19 and 21 June 1980.  This tape reel is accompanied by a field note. ACC 8661A/172 ",
                  "Subject headings: Topical": "Birds;Airplanes;Honeyeaters;Parrots;Bellbirds;Birdsongs",
                  "Caption for URL": "John Hutchinson's bird songs recorded on 17 18 19 and 21 June 1980. Part 1",
                  "URL": "http://purl.slwa.wa.gov.au/slwa_b3736156_2",
                  "URL2": null
                },
                {
                  "index": 168,
                  "Local system number": "b37361570",
                  "call number": "ACC 8661A/173",
                  "Title": "John Hutchinson's bird songs recorded on 21 and 22 June 1980.",
                  "Date": "1980",
                  "Description of physical object": "1 audiotape reel (approximately 10 min.) ",
                  "notes": "Recorded using Nagra IV-S portable stereo 6.35-mm (?? inch) analogue audio tape recorder. ",
                  "Summary": "John Hutchinson is an ornithologist and a birdcall recordist. Tape N87, consists of field recordings of bird calls made at Moggill Forest, Queensland  on 21 and 22 June 1980.  This tape reel is accompanied by a field note. ACC 8661A/173 ",
                  "Subject headings: Topical": "Birds;Whipbirds;Bellbirds;Birdsongs",
                  "Caption for URL": "John Hutchinson's bird songs recorded on 21 and 22 June 1980. Part 1",
                  "URL": "http://purl.slwa.wa.gov.au/slwa_b3736157_2",
                  "URL2": null
                },
                {
                  "index": 169,
                  "Local system number": "b37361582",
                  "call number": "ACC 8661A/174",
                  "Title": "John Hutchinson's bird songs recorded on 22, 24 and 24 June 1980.",
                  "Date": "1980",
                  "Description of physical object": "1 audiotape reel (approximately 18 min.) ",
                  "notes": "Recorded using Nagra IV-S portable stereo 6.35-mm (?? inch) analogue audio tape recorder. ",
                  "Summary": "John Hutchinson is an ornithologist and a birdcall recordist. Tape N88, consists of field recordings of bird calls made at Moggill Forest, Queensland  on  22, 23 and 24  June 1980.  This tape reel is accompanied by a field note. ACC 8661A/174 ",
                  "Subject headings: Topical": "Birds;Bellbirds;Whipbirds;Treecreepers;Honeyeaters;Birdsongs",
                  "Caption for URL": "John Hutchinson's bird songs recorded on 22 24 and 24 June 1980. Part 1",
                  "URL": "http://purl.slwa.wa.gov.au/slwa_b3736158_2",
                  "URL2": null
                },
                {
                  "index": 170,
                  "Local system number": "b37405421",
                  "call number": "ACC 8661A/175",
                  "Title": "John Hutchinson's bird songs recorded on 24 and 26 June 1980.",
                  "Date": "1980",
                  "Description of physical object": "1 audiotape reel (approximately 13 min.) ",
                  "notes": "Recorded using Nagra IV-S portable stereo 6.35-mm (?? inch) analogue audio tape recorder. ",
                  "Summary": "John Hutchinson is an ornithologist and a birdcall recordist. Tape N89, consists of field recordings of bird calls made at Moggill Forest, Queensland  on 24 and 26  June 1980.  This tape reel is accompanied by a field note. ACC 8661A/175 ",
                  "Subject headings: Topical": "Birds;Bellbirds;Whipbirds;Treecreepers;Honeyeaters;Parrots;Birdsongs",
                  "Caption for URL": "John Hutchinson's bird songs recorded on 24 and 26 June 1980. Part 1",
                  "URL": "http://purl.slwa.wa.gov.au/slwa_b3740542_2",
                  "URL2": null
                },
                {
                  "index": 171,
                  "Local system number": "b37405433",
                  "call number": "ACC 8661A/176",
                  "Title": "John Hutchinson's bird songs recorded on 26 and 27 June 1980 and 3 July 1980.",
                  "Date": "1980",
                  "Description of physical object": "1 audiotape reel (approximately 30 min.) ",
                  "notes": "Recorded using Nagra IV-S portable stereo 6.35-mm (?? inch) analogue audio tape recorder. ",
                  "Summary": "John Hutchinson is an ornithologist and a birdcall recordist. Tape N90, consists of field recordings of bird calls made at Moggill Forest, Queensland  on 26 and 27  June 1980 and 3 July 1980.  This tape reel is accompanied by a field note. ACC 8661A/",
                  "Subject headings: Topical": "Birds;Bellbirds;Whipbirds;Honeyeaters;Birdsongs",
                  "Caption for URL": "John Hutchinson's bird songs recorded on 26 and 27 June 1980 and 3 July 1980. Part 1",
                  "URL": "http://purl.slwa.wa.gov.au/slwa_b3740543_2",
                  "URL2": null
                },
                {
                  "index": 172,
                  "Local system number": "b37425079",
                  "call number": "ACC 8661A/177",
                  "Title": "John Hutchinson's bird songs recorded on 3 and 13 July 1980.",
                  "Date": "1980",
                  "Description of physical object": "1 audiotape reel (approximately 22 min.) ",
                  "notes": "Recorded using Nagra IV-S portable stereo 6.35-mm (?? inch) analogue audio tape recorder. ",
                  "Summary": "John Hutchinson is an ornithologist and a birdcall recordist. Tape N91, consists of field recordings of bird calls made at Moggill Forest, Queensland  on 3 July 1980 and at Conondale Range, Queensland on 13 July 1980.  This tape reel is accompanied b",
                  "Subject headings: Topical": "Birds;Treecreepers;Whipbirds;Honeyeaters;Robins;Birdsongs;Birdsongs",
                  "Caption for URL": "John Hutchinson's bird songs recorded on 3 and 13 July 1980. Part 1",
                  "URL": "http://purl.slwa.wa.gov.au/slwa_b3742507_2",
                  "URL2": null
                },
                {
                  "index": 173,
                  "Local system number": "b37425110",
                  "call number": "ACC 8661A/178",
                  "Title": "John Hutchinson's bird songs recorded on 13, 14 and 16 July 1980.",
                  "Date": "1980",
                  "Description of physical object": "1 audiotape reel (approximately 17 min.) ",
                  "notes": "Recorded using Nagra IV-S portable stereo 6.35-mm (?? inch) analogue audio tape recorder. ",
                  "Summary": "John Hutchinson is an ornithologist and a birdcall recordist. Tape N92, consists of field recordings of bird calls made at Conondale Range, Queensland on 13, 14 and 16  July 1980.  This tape reel is accompanied by a field note. ACC 8661A/178 ",
                  "Subject headings: Topical": "Birds;Crows;Catbird;Honeyeaters;Cockatoos;Birdsongs",
                  "Caption for URL": "John Hutchinson's bird songs recorded on 13 14 and 16 July 1980. Part 1",
                  "URL": "http://purl.slwa.wa.gov.au/slwa_b3742511_2",
                  "URL2": null
                },
                {
                  "index": 174,
                  "Local system number": "b3742516x",
                  "call number": "ACC 8661A/179",
                  "Title": "John Hutchinson's bird songs recorded on 16 and 17 July 1980.",
                  "Date": "1980",
                  "Description of physical object": "1 audiotape reel (approximately 9 min.) ",
                  "notes": "Recorded using Nagra IV-S portable stereo 6.35-mm (?? inch) analogue audio tape recorder. ",
                  "Summary": "John Hutchinson is an ornithologist and a birdcall recordist. Tape N93, consists of field recordings of bird calls made at Conondale Range, Queensland on 16 and 17 July 1980.  This tape reel is accompanied by a field note. ACC 8661A/179 ",
                  "Subject headings: Topical": "Birds;Crows;Treecreepers;Honeyeaters;Thrushes;Logrunners;Birdsongs",
                  "Caption for URL": "John Hutchinson's bird songs recorded on 16 and 17 July 1980. Part 1",
                  "URL": "http://purl.slwa.wa.gov.au/slwa_b3742516_2",
                  "URL2": null
                },
                {
                  "index": 175,
                  "Local system number": "b37428901",
                  "call number": "ACC 8661A/180",
                  "Title": "John Hutchinson's bird songs recorded on 17 July 1980.",
                  "Date": "1980",
                  "Description of physical object": "1 audiotape reel (approximately 20 min.) ",
                  "notes": "Recorded using Nagra IV-S portable stereo 6.35-mm (?? inch) analogue audio tape recorder. ",
                  "Summary": "John Hutchinson is an ornithologist and a birdcall recordist. Tape N94, consists of field recordings of bird calls made at Conondale Range, Queensland on 17 July 1980.  This tape reel is accompanied by a field note. ACC 8661A/180 ",
                  "Subject headings: Topical": "Birds;Crows;Cockatoos;Treecreepers;Honeyeaters;Thrushes;Whipbirds;Catbird;Birdsongs",
                  "Caption for URL": "John Hutchinson's bird songs recorded on 17 July 1980. Part 1",
                  "URL": "http://purl.slwa.wa.gov.au/slwa_b3742890_2",
                  "URL2": null
                },
                {
                  "index": 176,
                  "Local system number": "b37435693",
                  "call number": "ACC 8661A/181",
                  "Title": "John Hutchinson's bird songs recorded on 17 July 1980.",
                  "Date": "1980",
                  "Description of physical object": "1 audiotape reel (approximately 10 min.) ",
                  "notes": "Recorded using Nagra IV-S portable stereo 6.35-mm (?? inch) analogue audio tape recorder. ",
                  "Summary": "John Hutchinson is an ornithologist and a birdcall recordist. Tape N95, consists of field recordings of bird calls made at Conondale Range, Queensland on 17 July 1980.  This tape reel is accompanied by a field note. ACC 8661A/181 ",
                  "Subject headings: Topical": "Birds;Treecreepers;Honeyeaters;Warblers;Whipbirds;Scrubwrens Catbird;Birdsongs",
                  "Caption for URL": "John Hutchinson's bird songs recorded on 17 July 1980. Part 1",
                  "URL": "http://purl.slwa.wa.gov.au/slwa_b3743569_2",
                  "URL2": null
                },
                {
                  "index": 177,
                  "Local system number": "b37453786",
                  "call number": "ACC 8661A/182",
                  "Title": "John Hutchinson's bird songs recorded on 18 July 1980.",
                  "Date": "1980",
                  "Description of physical object": "1 audiotape reel (approximately 14 min.) ",
                  "notes": "Recorded using Nagra IV-S portable stereo 6.35-mm (?? inch) analogue audio tape recorder. ",
                  "Summary": "John Hutchinson is an ornithologist and a birdcall recordist. Tape N96, consists of field recordings of bird calls made at Conondale Range, Queensland on 18 July 1980.  This tape reel is accompanied by a field note. ACC 8661A/182 ",
                  "Subject headings: Topical": "Birds;Honeyeaters;Thornbills;Thrushes;Birdsongs",
                  "Caption for URL": "John Hutchinson's bird songs recorded on 18 July 1980. Part 1",
                  "URL": "http://purl.slwa.wa.gov.au/slwa_b3745378_2",
                  "URL2": null
                },
                {
                  "index": 178,
                  "Local system number": "b37453877",
                  "call number": "ACC 8661A/183",
                  "Title": "John Hutchinson's bird songs recorded on 18, 23 and 24 July 1980.",
                  "Date": "1980",
                  "Description of physical object": "1 audiotape reel (approximately 28 min.) ",
                  "notes": "Recorded using Nagra IV-S portable stereo 6.35-mm (?? inch) analogue audio tape recorder. ",
                  "Summary": "John Hutchinson is an ornithologist and a birdcall recordist. Tape N97, consists of field recordings of bird calls made at Conondale Range, Queensland on 18, 23 and 24  July 1980.  This tape reel is accompanied by a field note. ACC 8661A/183 ",
                  "Subject headings: Topical": "Birds;Treecreepers;Honeyeaters;Warblers;Whipbirds;Crows;Birdsongs",
                  "Caption for URL": "John Hutchinson's bird songs recorded on 18 23 and 24 July 1980. Part 1",
                  "URL": "http://purl.slwa.wa.gov.au/slwa_b3745387_2",
                  "URL2": null
                },
                {
                  "index": 179,
                  "Local system number": "b37453944",
                  "call number": "ACC 8661A/184",
                  "Title": "John Hutchinson's bird songs recorded on 24 July 1980 and 4 and 5 August 1980.",
                  "Date": "1980",
                  "Description of physical object": "1 audiotape reel (approximately 14 min.) ",
                  "notes": "Recorded using Nagra IV-S portable stereo 6.35-mm (?? inch) analogue audio tape recorder. ",
                  "Summary": "John Hutchinson is an ornithologist and a birdcall recordist. Tape N98, consists of field recordings of bird calls made at Conondale Range, Queensland on 24  July 1980 and 4 and 5 August 1980.  This tape reel is accompanied by a field note. ACC 8661A",
                  "Subject headings: Topical": "Birds;Treecreepers;Honeyeaters;Warblers;Fantails;Robins;Catbird;Thrushes;Birdsongs",
                  "Caption for URL": "John Hutchinson's bird songs recorded on 24 July 1980 and 4 and 5 August 1980. Part 1",
                  "URL": "http://purl.slwa.wa.gov.au/slwa_b3745394_2",
                  "URL2": null
                },
                {
                  "index": 180,
                  "Local system number": "b37454535",
                  "call number": "ACC 8661A/185",
                  "Title": "John Hutchinson's bird songs recorded on 6, 7, 8 and 9 August 1980.",
                  "Date": "1980",
                  "Description of physical object": "1 audiotape reel (approximately 12 min.) ",
                  "notes": "Recorded using Nagra IV-S portable stereo 6.35-mm (?? inch) analogue audio tape recorder. ",
                  "Summary": "John Hutchinson is an ornithologist and a birdcall recordist. Tape N99, consists of field recordings of bird calls made at Conondale Range, Queensland on 6, 7, 8 and 9 August 1980.  This tape reel is accompanied by a field note. ACC 8661A/185 ",
                  "Subject headings: Topical": "Birds;Flycatchers;Catbird;Whipbirds;Fantails;Cuckoos;Thrushes;Birdsongs",
                  "Caption for URL": "John Hutchinson's bird songs recorded on 6 7 8 and 9 August 1980. Part 1",
                  "URL": "http://purl.slwa.wa.gov.au/slwa_b3745453_2",
                  "URL2": null
                },
                {
                  "index": 181,
                  "Local system number": "b37454559",
                  "call number": "ACC 8661A/186",
                  "Title": "John Hutchinson's bird songs recorded on 10, 11 and 12 August 1980.",
                  "Date": "1980",
                  "Description of physical object": "1 audiotape reel (approximately 12 min.) ",
                  "notes": "Recorded using Nagra IV-S portable stereo 6.35-mm (?? inch) analogue audio tape recorder. ",
                  "Summary": "John Hutchinson is an ornithologist and a birdcall recordist. Tape N100, consists of field recordings of bird calls made at Conondale Range, Queensland on 10, 11 and 12 August 1980.  This tape reel is accompanied by a field note. ACC 8661A/186 ",
                  "Subject headings: Topical": "Birds;Cockatoos;Whipbirds;Warblers;Crows;Thrushes;Honeyeaters;Birdsongs",
                  "Caption for URL": "John Hutchinson's bird songs recorded on 10 11 and 12 August 1980. Part 1",
                  "URL": "http://purl.slwa.wa.gov.au/slwa_b3745455_2",
                  "URL2": null
                },
                {
                  "index": 182,
                  "Local system number": "b3745464x",
                  "call number": "ACC 8661A/187",
                  "Title": "John Hutchinson's bird songs recorded on 12 and 13 August 1980.",
                  "Date": "1980",
                  "Description of physical object": "1 audiotape reel (approximately 10 min.) ",
                  "notes": "Recorded using Nagra IV-S portable stereo 6.35-mm (?? inch) analogue audio tape recorder. ",
                  "Summary": "John Hutchinson is an ornithologist and a birdcall recordist. Tape N101, consists of field recordings of bird calls made at Conondale Range, Queensland on 12 and 13 August 1980.  This tape reel is accompanied by a field note. ACC 8661A/187 ",
                  "Subject headings: Topical": "Birds;Cockatoos;Robins;Warblers;Crows;Fantails;Honeyeaters;Birdsongs",
                  "Caption for URL": "John Hutchinson's bird songs recorded on 12 and 13 August 1980. Part 1",
                  "URL": "http://purl.slwa.wa.gov.au/slwa_b3745464_2",
                  "URL2": null
                },
                {
                  "index": 183,
                  "Local system number": "b37454651",
                  "call number": "ACC 8661A/188",
                  "Title": "John Hutchinson's bird songs recorded on 13 August 1980.",
                  "Date": "1980",
                  "Description of physical object": "1 audiotape reel (approximately 5 min.) ",
                  "notes": "Recorded using Nagra IV-S portable stereo 6.35-mm (?? inch) analogue audio tape recorder. ",
                  "Summary": "John Hutchinson is an ornithologist and a birdcall recordist. Tape N102, consists of field recordings of bird calls made at Conondale Range, Queensland on 13 August 1980.  This tape reel is accompanied by a field note. ACC 8661A/188 ",
                  "Subject headings: Topical": "Birds;Flycatchers;Robins;Warblers;Currawongs;Fantails;Birdsongs",
                  "Caption for URL": "John Hutchinson's bird songs recorded on 13 August 1980. Part 1",
                  "URL": "http://purl.slwa.wa.gov.au/slwa_b3745465_2",
                  "URL2": null
                },
                {
                  "index": 184,
                  "Local system number": "b37455278",
                  "call number": "ACC 8661A/189",
                  "Title": "John Hutchinson's bird songs recorded on 14 August 1980 and 16 and 18 August 1981.",
                  "Date": "1980-1981.",
                  "Description of physical object": "1 audiotape reel (approximately 13 min.) ",
                  "notes": "Recorded using Nagra IV-S portable stereo 6.35-mm (?? inch) analogue audio tape recorder. Includes recording of noise levels and channel.  ",
                  "Summary": "John Hutchinson is an ornithologist and a birdcall recordist. Tape N103, consists of field recordings of bird calls made at Conondale Range, Queensland on 14 August 1980 and at Cooloola National Park, Queensland on 16 and 18 August 1981.  This tape r",
                  "Subject headings: Topical": "Birds;Parrots;Warblers;Honeyeaters;Drongos;Birdsongs;Birdsongs",
                  "Caption for URL": "John Hutchinson's bird songs recorded on 14 August 1980 and 16 and 18 August 1981. Part 1",
                  "URL": "http://purl.slwa.wa.gov.au/slwa_b3745527_2",
                  "URL2": null
                },
                {
                  "index": 185,
                  "Local system number": "b3745528x",
                  "call number": "ACC 8661A/190",
                  "Title": "John Hutchinson's bird songs recorded on 18 and 19 August 1981.",
                  "Date": "1981",
                  "Description of physical object": "1 audiotape reel (approximately 14 min.) ",
                  "notes": "Recorded using Nagra IV-S portable stereo 6.35-mm (?? inch) analogue audio tape recorder. ",
                  "Summary": "John Hutchinson is an ornithologist and a birdcall recordist. Tape N104, consists of field recordings of bird calls made at Cooloola National Park, Queensland on 18 and 19 August 1981.  This tape reel is accompanied by a field note. ACC 8661A/190. Th",
                  "Subject headings: Topical": "Birds;Lories;Friarbirds;Crows;Honeyeaters;Drongos;Birdsongs",
                  "Caption for URL": "John Hutchinson's bird songs recorded on 18 and 19 August 1981. Part 1",
                  "URL": "http://purl.slwa.wa.gov.au/slwa_b3745528_2",
                  "URL2": null
                },
                {
                  "index": 186,
                  "Local system number": "b37461412",
                  "call number": "ACC 8661A/191",
                  "Title": "John Hutchinson's bird songs recorded on 20 August 1981.",
                  "Date": "1981",
                  "Description of physical object": "1 audiotape reel (approximately 10 min.) ",
                  "notes": "Recorded using Nagra IV-S portable stereo 6.35-mm (?? inch) analogue audio tape recorder. ",
                  "Summary": "John Hutchinson is an ornithologist and a birdcall recordist. Tape N105, consists of field recordings of bird calls made at Cooloola National Park, Queensland on 20 August 1981.  This tape reel is accompanied by a field note. ACC 8661A/191. ",
                  "Subject headings: Topical": "Birds;Doves;Crows;Honeyeaters;Parrots;Cuckoos;Birdsongs",
                  "Caption for URL": "John Hutchinson's bird songs recorded on 20 August 1981. Part 1",
                  "URL": "http://purl.slwa.wa.gov.au/slwa_b3746141_2",
                  "URL2": null
                },
                {
                  "index": 187,
                  "Local system number": "b37461436",
                  "call number": "ACC 8661A/192",
                  "Title": "John Hutchinson's bird songs recorded on 20 and 21 August 1981. ",
                  "Date": "1981",
                  "Description of physical object": "1 audiotape reel (approximately 10 min.) ",
                  "notes": "Recorded using Nagra IV-S portable stereo 6.35-mm (?? inch) analogue audio tape recorder. ",
                  "Summary": "John Hutchinson is an ornithologist and a birdcall recordist. Tape N106, consists of field recordings of bird calls made at Cooloola National Park, Queensland on 20 and 21 August 1981.  This tape reel is accompanied by a field note. ACC 8661A/192. Th",
                  "Subject headings: Topical": "Birds;Friarbirds;Crows;Honeyeaters;Robins;Cockatoos;Whistlers (Birds);Birdsongs",
                  "Caption for URL": "John Hutchinson's bird songs recorded on 20 and 21 August 1981. Part 1",
                  "URL": "http://purl.slwa.wa.gov.au/slwa_b3746143_2",
                  "URL2": null
                },
                {
                  "index": 188,
                  "Local system number": "b3746145x",
                  "call number": "ACC 8661A/193",
                  "Title": "John Hutchinson's bird songs recorded on 23 and 24 August 1981. ",
                  "Date": "1981",
                  "Description of physical object": "1 audiotape reel (approximately 15 min.) ",
                  "notes": "Recorded using Nagra IV-S portable stereo 6.35-mm (?? inch) analogue audio tape recorder. ",
                  "Summary": "John Hutchinson is an ornithologist and a birdcall recordist. Tape N107, consists of field recordings of bird calls made at Cooloola National Park, Queensland on 23 and 24 August 1981.  This tape reel is accompanied by a field note. ACC 8661A/193. Th",
                  "Subject headings: Topical": "Birds;Friarbirds;Crows;Honeyeaters;Thrushes;Cockatoos;Whistlers (Birds);Birdsongs",
                  "Caption for URL": "John Hutchinson's bird songs recorded on 23 and 24 August 1981. Part 1",
                  "URL": "http://purl.slwa.wa.gov.au/slwa_b3746145_2",
                  "URL2": null
                },
                {
                  "index": 189,
                  "Local system number": "b37461497",
                  "call number": "ACC 8661A/194",
                  "Title": "John Hutchinson's bird songs recorded on 24 and 28 August 1981 and 3 and 4 September 1981. ",
                  "Date": "1981",
                  "Description of physical object": "1 audiotape reel (approximately 20 min.) ",
                  "notes": "Recorded using Nagra IV-S portable stereo 6.35-mm (?? inch) analogue audio tape recorder. ",
                  "Summary": "John Hutchinson is an ornithologist and a birdcall recordist. Tape N108, consists of field recordings of bird calls made at Cooloola National Park, Queensland on 24 August 1981 and at O'Reilley's Caravan Park, Queensland on 28 August 1981 and 3 and 4",
                  "Subject headings: Topical": "Birds;Currawongs;Bowerbirds;Honeyeaters;Thrushes;Cuckoos;Crows;Logrunners;Whipbirds;Robins;Birdsongs;Birdsongs",
                  "Caption for URL": "John Hutchinson's bird songs recorded on 24 and 28 August 1981 and 3 and 4 September 1981. Part 1",
                  "URL": "http://purl.slwa.wa.gov.au/slwa_b3746149_2",
                  "URL2": null
                },
                {
                  "index": 190,
                  "Local system number": "b37461576",
                  "call number": "ACC 8661A/195",
                  "Title": "John Hutchinson's bird songs recorded on 4 September 1981. ",
                  "Date": "1981",
                  "Description of physical object": "1 audiotape reel (approximately 29 min.) ",
                  "notes": "Recorded using Nagra IV-S portable stereo 6.35-mm (?? inch) analogue audio tape recorder. ",
                  "Summary": "John Hutchinson is an ornithologist and a birdcall recordist. Tape N109, consists of field recordings of bird calls made at O'Reilley's Caravan Park, Queensland on 4 September 1981.  This tape reel is accompanied by a field note. ACC 8661A/195. There",
                  "Subject headings: Topical": "Birds;Birdsongs",
                  "Caption for URL": "John Hutchinson's bird songs recorded on 4 September 1981. Part 1",
                  "URL": "http://purl.slwa.wa.gov.au/slwa_b3746157_2",
                  "URL2": null
                },
                {
                  "index": 191,
                  "Local system number": "b37461588",
                  "call number": "ACC 8661A/196",
                  "Title": "John Hutchinson's bird songs recorded on 5 and 6 September 1981. ",
                  "Date": "1981",
                  "Description of physical object": "1 audiotape reel (approximately 21 min.) ",
                  "notes": "Recorded using Nagra IV-S portable stereo 6.35-mm (?? inch) analogue audio tape recorder. ",
                  "Summary": "John Hutchinson is an ornithologist and a birdcall recordist. Tape N110, consists of field recordings of bird calls made at O'Reilley's Caravan Park, Queensland on 5 and 6 September 1981.  This tape reel is accompanied by a field note. ACC 8661A/196.",
                  "Subject headings: Topical": "Birds;Crows;Honeyeaters;Warblers;Birdsongs",
                  "Caption for URL": "John Hutchinson's bird songs recorded on 5 and 6 September 1981. Part 1",
                  "URL": "http://purl.slwa.wa.gov.au/slwa_b3746158_2",
                  "URL2": null
                },
                {
                  "index": 192,
                  "Local system number": "b37461606",
                  "call number": "ACC 8661A/198",
                  "Title": "John Hutchinson's bird songs recorded on 7 and 8 September 1981.",
                  "Date": "1981",
                  "Description of physical object": "1 audiotape reel (approximately 15 min.) ",
                  "notes": "Recorded using Nagra IV-S portable stereo 6.35-mm (?? inch) analogue audio tape recorder. ",
                  "Summary": "John Hutchinson is an ornithologist and a birdcall recordist. Tape N112, consists of field recordings of bird calls made at the dam at O'Reilley's Caravan Park, Queensland on 7 and 8 September 1981.  This tape reel is accompanied by a field note. ACC",
                  "Subject headings: Topical": "Birds;Parrots;Crows;Cockatoos;Thornbills;Currawongs;Whipbirds;Fantails;Robins;Dingo;Birdsongs",
                  "Caption for URL": "John Hutchinson's bird songs recorded on 7 and 8 September 1981. Part 1",
                  "URL": "http://purl.slwa.wa.gov.au/slwa_b3746160_2",
                  "URL2": null
                },
                {
                  "index": 193,
                  "Local system number": "b37461631",
                  "call number": "ACC 8661A/197",
                  "Title": "John Hutchinson's bird songs recorded on 6 and 7 September 1981.",
                  "Date": "1981",
                  "Description of physical object": "1 audiotape reel (approximately 32 min.) ",
                  "notes": "Recorded using Nagra IV-S portable stereo 6.35-mm (?? inch) analogue audio tape recorder. ",
                  "Summary": "John Hutchinson is an ornithologist and a birdcall recordist. Tape N111, consists of field recordings of bird calls made at the dam at O'Reilley's Caravan Park, Queensland on 6 and 7 September 1981.  This tape reel is accompanied by a field note. ACC",
                  "Subject headings: Topical": "Birds;Thornbills;Whipbirds;Fantails;Robins;Warblers;Crows;Birdsongs",
                  "Caption for URL": "John Hutchinson's bird songs recorded on 6 and 7 September 1981. Part 1",
                  "URL": "http://purl.slwa.wa.gov.au/slwa_b3746163_2",
                  "URL2": null
                },
                {
                  "index": 194,
                  "Local system number": "b37461643",
                  "call number": "ACC 8661A/199",
                  "Title": "John Hutchinson's bird songs recorded on 8 and 9 September 1981.",
                  "Date": "1981",
                  "Description of physical object": "1 audiotape reel (approximately 12 min.) ",
                  "notes": "Recorded using Nagra IV-S portable stereo 6.35-mm (?? inch) analogue audio tape recorder. ",
                  "Summary": "John Hutchinson is an ornithologist and a birdcall recordist. Tape N113, consists of field recordings of bird calls made at the dam at O'Reilley's Caravan Park, Queensland on 8 and 9 September 1981.  This tape reel is accompanied by a field note. ACC",
                  "Subject headings: Topical": "Birds;Lyrebirds;Logrunners;Treecreepers;Warblers;Whistlers (Birds);Flycatchers;Birdsongs",
                  "Caption for URL": "John Hutchinson's bird songs recorded on 8 and 9 September 1981. Part 1",
                  "URL": "http://purl.slwa.wa.gov.au/slwa_b3746164_2",
                  "URL2": null
                },
                {
                  "index": 195,
                  "Local system number": "b37461680",
                  "call number": "ACC 8661A/200",
                  "Title": "John Hutchinson's bird songs recorded on 10, 20 and 21 September 1981.",
                  "Date": "1981",
                  "Description of physical object": "1 audiotape reel (approximately 22 min.) ",
                  "notes": "Recorded using Nagra IV-S portable stereo 6.35-mm (?? inch) analogue audio tape recorder. ",
                  "Summary": "John Hutchinson is an ornithologist and a birdcall recordist. Tape N114, consists of field recordings of bird calls made at the dam at O'Reilley's Caravan Park, Queensland on 10 September 1981 and Cooloola, Queensland on 20 and 21 September 1981. Thi",
                  "Subject headings: Topical": "Birds;Bowerbirds;Logrunners;Currawongs;Parrots;Friarbirds;Pied butcherbirds;Robins;Honeyeaters;Thrushes;Brolga;Birdsongs;Birdsongs",
                  "Caption for URL": "John Hutchinson's bird songs recorded on 10 20 and 21 September 1981. Part 1",
                  "URL": "http://purl.slwa.wa.gov.au/slwa_b3746168_2",
                  "URL2": null
                },
                {
                  "index": 196,
                  "Local system number": "b37525554",
                  "call number": "ACC 8661A/201",
                  "Title": "John Hutchinson's bird songs recorded on 21 and 22 September 1981.",
                  "Date": "1981",
                  "Description of physical object": "1 audiotape reel (approximately 13 min.) ",
                  "notes": "Recorded using Nagra IV-S portable stereo 6.35-mm (?? inch) analogue audio tape recorder. ",
                  "Summary": "John Hutchinson is an ornithologist and a birdcall recordist. Tape N115, consists of field recordings of bird calls made at Cooloola, Queensland on 21 and 22 September 1981.  This tape reel is accompanied by a field note. ACC 8661A/201. There is a di",
                  "Subject headings: Topical": "Birds;Friarbirds;Pied butcherbirds;Honeyeaters;Willy wagtails;Birdsongs",
                  "Caption for URL": "John Hutchinson's bird songs recorded on 21 and 22 September 1981.",
                  "URL": "http://purl.slwa.wa.gov.au/slwa_b3752555_2",
                  "URL2": null
                },
                {
                  "index": 197,
                  "Local system number": "b37525566",
                  "call number": "ACC 8661A/202",
                  "Title": "John Hutchinson's bird songs recorded on 22, 23 and 24 September 1981.",
                  "Date": "1981",
                  "Description of physical object": "1 audiotape reel (approximately 17 min.) ",
                  "notes": "Recorded using Nagra IV-S portable stereo 6.35-mm (?? inch) analogue audio tape recorder. ",
                  "Summary": "John Hutchinson is an ornithologist and a birdcall recordist. Tape N116, consists of field recordings of bird calls made at Cooloola, Queensland on 22, 23 and 24 September 1981.  This tape reel is accompanied by a field note. ACC 8661A/202. There is ",
                  "Subject headings: Topical": "Birds;Honeyeaters;Pied butcherbirds;Whipbirds;Cockatoos;Crows;Thrushes;Birdsongs",
                  "Caption for URL": "John Hutchinson's bird songs recorded on 22, 23 and 24 September 1981. Part 1",
                  "URL": "http://purl.slwa.wa.gov.au/slwa_b3752556_2",
                  "URL2": null
                },
                {
                  "index": 198,
                  "Local system number": "b3752558x",
                  "call number": "ACC 8661A/203",
                  "Title": "John Hutchinson's bird songs recorded on 24 and 25 September 1981.",
                  "Date": "1981",
                  "Description of physical object": "1 audiotape reel (approximately 8 min.) ",
                  "notes": "Recorded using Nagra IV-S portable stereo 6.35-mm (?? inch) analogue audio tape recorder. ",
                  "Summary": "John Hutchinson is an ornithologist and a birdcall recordist. Tape N117, consists of field recordings of bird calls made at Cooloola, Queensland on  24 and 25 September 1981.  This tape reel is accompanied by a field note. ACC 8661A/203. There is a d",
                  "Subject headings: Topical": "Birds;Honeyeaters;Friarbirds;Doves;Silvereyes;Thrushes;Birdsongs",
                  "Caption for URL": "John Hutchinson's bird songs recorded on 24 and 25 September 1981. Part 1",
                  "URL": "http://purl.slwa.wa.gov.au/slwa_b3752558_2",
                  "URL2": null
                },
                {
                  "index": 199,
                  "Local system number": "b3752561x",
                  "call number": "ACC 8661A/204",
                  "Title": "John Hutchinson's bird songs recorded on 25, 26 and 27 September 1981.",
                  "Date": "1981",
                  "Description of physical object": "1 audiotape reel (approximately 17 min.) ",
                  "notes": "Recorded using Nagra IV-S portable stereo 6.35-mm (?? inch) analogue audio tape recorder. ",
                  "Summary": "John Hutchinson is an ornithologist and a birdcall recordist. Tape N118, consists of field recordings of bird calls made at Cooloola, Queensland on  25, 26 and 27 September 1981.  This tape reel is accompanied by a field note. ACC 8661A/204. There is",
                  "Subject headings: Topical": "Birds;Cuckoo-shrikes;Parrots;Pied butcherbirds;Honeyeaters;Friarbirds;Wrens;Thrushes;Warblers;Thornbills;Birdsongs",
                  "Caption for URL": "John Hutchinson's bird songs recorded on 25, 26 and 27 September 1981. Part 1",
                  "URL": "http://purl.slwa.wa.gov.au/slwa_b3752561_2",
                  "URL2": null
                },
                {
                  "index": 200,
                  "Local system number": "b37525694",
                  "call number": "ACC 8661A/205",
                  "Title": "John Hutchinson's bird songs recorded on 28 and 29 September 1981.",
                  "Date": "1981",
                  "Description of physical object": "1 audiotape reel (approximately 17 min.) ",
                  "notes": "Recorded using Nagra IV-S portable stereo 6.35-mm (?? inch) analogue audio tape recorder. ",
                  "Summary": "John Hutchinson is an ornithologist and a birdcall recordist. Tape N119, consists of field recordings of bird calls made at Cooloola, Noosa Plains, Queensland on  28 and 29 September 1981.  This tape reel is accompanied by a field note. ACC 8661A/205",
                  "Subject headings: Topical": "Birds;Cockatoos;Parrots;Pied butcherbirds;Honeyeaters;Friarbirds;Wrens;Dingo;Birdsongs",
                  "Caption for URL": "John Hutchinson's bird songs recorded on 28 and 29 September 1981. Part 1",
                  "URL": "http://purl.slwa.wa.gov.au/slwa_b3752569_2",
                  "URL2": null
                },
                {
                  "index": 201,
                  "Local system number": "b37525736",
                  "call number": "ACC 8661A/206",
                  "Title": "John Hutchinson's bird songs recorded on 29 and 30 September 1981.",
                  "Date": "1981",
                  "Description of physical object": "1 audiotape reel (approximately 6 min.) ",
                  "notes": "Recorded using Nagra IV-S portable stereo 6.35-mm (?? inch) analogue audio tape recorder. ",
                  "Summary": "John Hutchinson is an ornithologist and a birdcall recordist. Tape N120, consists of field recordings of bird calls made at Cooloola, Queensland on  29 and 30 September 1981.  This tape reel is accompanied by a field note. ACC 8661A/206. There is a d",
                  "Subject headings: Topical": "Birds;Crows;Parrots;Honeyeaters;Friarbirds;Birdsongs",
                  "Caption for URL": "John Hutchinson's bird songs recorded on 29 and 30 September 1981. Part 1",
                  "URL": "http://purl.slwa.wa.gov.au/slwa_b3752573_2",
                  "URL2": null
                },
                {
                  "index": 202,
                  "Local system number": "b37525773",
                  "call number": "ACC 8661A/207",
                  "Title": "John Hutchinson's bird songs recorded on 30 September 1981 and 1 October 1981.",
                  "Date": "1981",
                  "Description of physical object": "1 audiotape reel (approximately 7 min.) ",
                  "notes": "Recorded using Nagra IV-S portable stereo 6.35-mm (?? inch) analogue audio tape recorder. ",
                  "Summary": "John Hutchinson is an ornithologist and a birdcall recordist. Tape N121, consists of field recordings of bird calls made at Cooloola, National Park, Queensland on 30 September 1981 and 1 October 1981.  This tape reel is accompanied by a field note. A",
                  "Subject headings: Topical": "Birds;Lories;Thrushes;Honeyeaters;Friarbirds;Coucals;Birdsongs",
                  "Caption for URL": "John Hutchinson's bird songs recorded on 30 September 1981 and 1 October 1981. Part 1",
                  "URL": "http://purl.slwa.wa.gov.au/slwa_b3752577_2",
                  "URL2": null
                },
                {
                  "index": 203,
                  "Local system number": "b37525815",
                  "call number": "ACC 8661A/208",
                  "Title": "John Hutchinson's bird songs recorded on 1 October 1981.",
                  "Date": "1981",
                  "Description of physical object": "1 audiotape reel (approximately 28 min.) ",
                  "notes": "Recorded using Nagra IV-S portable stereo 6.35-mm (?? inch) analogue audio tape recorder. ",
                  "Summary": "John Hutchinson is an ornithologist and a birdcall recordist. Tape N122, consists of field recordings of bird calls made at Cooloola, Sandplain, Queensland on 1 October 1981.  This tape reel is accompanied by a field note. ACC 8661A/208. There is a d",
                  "Subject headings: Topical": "Birds;Lories;Thrushes;Honeyeaters;Friarbirds;Whistlers (Birds);Flycatchers;Birdsongs",
                  "Caption for URL": "John Hutchinson's bird songs recorded on 1 October 1981. Part 1",
                  "URL": "http://purl.slwa.wa.gov.au/slwa_b3752581_2",
                  "URL2": null
                },
                {
                  "index": 204,
                  "Local system number": "b37525840",
                  "call number": "ACC 8661A/209",
                  "Title": "John Hutchinson's bird songs recorded on 1 and 2 October 1981.",
                  "Date": "1981",
                  "Description of physical object": "1 audiotape reel (approximately 16 min.) ",
                  "notes": "Recorded using Nagra IV-S portable stereo 6.35-mm (?? inch) analogue audio tape recorder. ",
                  "Summary": "John Hutchinson is an ornithologist and a birdcall recordist. Tape N123, consists of field recordings of bird calls made at Cooloola, National Park, Queensland on 1 and 2 October 1981.  This tape reel is accompanied by a field note. ACC 8661A/209. Th",
                  "Subject headings: Topical": "Birds;Lories;Thrushes;Honeyeaters;Friarbirds;Cockatoos;Flycatchers;Butcherbirds;Coucals;Parrots;Rosellas (Birds);Birdsongs",
                  "Caption for URL": "John Hutchinson's bird songs recorded on 1 and 2 October 1981. Part 1",
                  "URL": "http://purl.slwa.wa.gov.au/slwa_b3752584_2",
                  "URL2": null
                },
                {
                  "index": 205,
                  "Local system number": "b37526030",
                  "call number": "ACC 8661A/210",
                  "Title": "John Hutchinson's bird songs recorded on 2, 3, 4 and 5 October 1981.",
                  "Date": "1981",
                  "Description of physical object": "1 audiotape reel (approximately 27 min.) ",
                  "notes": "Recorded using Nagra IV-S portable stereo 6.35-mm (?? inch) analogue audio tape recorder. ",
                  "Summary": "John Hutchinson is an ornithologist and a birdcall recordist. Tape N124, consists of field recordings of bird calls made at Cooloola, Queensland on 2, 3, 4 and 5 October 1981.  This tape reel is accompanied by a field note. ACC 8661A/210. There is a ",
                  "Subject headings: Topical": "Birds;Drongos;Thrushes;Honeyeaters;Friarbirds;Cockatoos;Flycatchers;Butcherbirds;Kookaburra;Magpies;Warblers;Kingfishers;Birdsongs",
                  "Caption for URL": "John Hutchinson's bird songs recorded on 2, 3, 4 and 5 October 1981. Part 1",
                  "URL": "http://purl.slwa.wa.gov.au/slwa_b3752603_2",
                  "URL2": null
                },
                {
                  "index": 206,
                  "Local system number": "b37526091",
                  "call number": "ACC 8661A/211",
                  "Title": "John Hutchinson's bird songs recorded on 5 October 1981 and 30 and 31 August 1983.",
                  "Date": "1981-1983.",
                  "Description of physical object": "1 audiotape reel (approximately 28 min.) ",
                  "notes": "Recorded using Nagra IV-S portable stereo 6.35-mm (?? inch) analogue audio tape recorder. ",
                  "Summary": "John Hutchinson is an ornithologist and a birdcall recordist. Tape N125, consists of field recordings of bird calls made at Cooloola, Noosa Flats, Queensland on  5 October 1981 and Tully Jungle, Queensland on 30 and 31 August 1983.  This tape reel is",
                  "Subject headings: Topical": "Birds;Crows;Lories;Cockatoos;Friarbirds;Lyrebirds;Whistlers (Birds);Thrushes;Whipbirds;Catbird;Pigeons;Birdsongs;Birdsongs",
                  "Caption for URL": "John Hutchinson's bird songs recorded on 5 October 1981 and 30 and 31 August 1983. Part 1",
                  "URL": "http://purl.slwa.wa.gov.au/slwa_b3752609_2",
                  "URL2": null
                },
                {
                  "index": 207,
                  "Local system number": "b37562861",
                  "call number": "ACC 8661A/244",
                  "Title": "John Hutchinson's bird songs recorded on 11, 14 and 15 November 1984.",
                  "Date": "1984",
                  "Description of physical object": "1 audiotape reel (approximately 21 min.) ",
                  "notes": "Recorded using Nagra IV-S portable stereo 6.35-mm (?? inch) analogue audio tape recorder. ",
                  "Summary": "John Hutchinson is an ornithologist and a birdcall recordist. Tape N158, consists of field recordings of bird calls made at Dryandra, Western Australia on 13, 14 and 15 November 1984.  This tape reel is accompanied by a field note. ACC 8661A/244.  ",
                  "Subject headings: Topical": "Birds;Malleefowl;Robins;Birdsongs",
                  "Caption for URL": "John Hutchinson's bird songs recorded on 11, 14 and 15 November 1984. Part 1",
                  "URL": "http://purl.slwa.wa.gov.au/slwa_b3756286_2",
                  "URL2": null
                },
                {
                  "index": 208,
                  "Local system number": "b37563014",
                  "call number": "ACC 8661A/249",
                  "Title": "John Hutchinson's bird songs recorded on 13 and 15 July 1986.",
                  "Date": "1986",
                  "Description of physical object": "1 audiotape reel (approximately 29 min.) ",
                  "notes": "Recorded using Nagra IV-S portable stereo 6.35-mm (?? inch) analogue audio tape recorder. ",
                  "Summary": "John Hutchinson is an ornithologist and a birdcall recordist. Tape N163, consists of field recordings of bird calls made at Roebuck Plains, Broome, Western Australia on 13 July 1986   and at Fitzroy River pool, Western Australia on 15 July 1986.  Thi",
                  "Subject headings: Topical": "Birds;Butcherbirds;Honeyeaters;Whistlers (Birds);Willy wagtails;Drongos;Parrots;Birdsongs;Birdsongs",
                  "Caption for URL": "John Hutchinson's bird songs recorded on 13 and 15 July 1986. Part 1",
                  "URL": "http://purl.slwa.wa.gov.au/slwa_b3756301_2",
                  "URL2": null
                },
                {
                  "index": 209,
                  "Local system number": "b37563087",
                  "call number": "ACC 8661A/249A",
                  "Title": "John Hutchinson's bird songs recorded on 21 July 1986.",
                  "Date": "1986",
                  "Description of physical object": "1 audiotape reel (approximately 23 min.) ",
                  "notes": "Recorded using Nagra IV-S portable stereo 6.35-mm (?? inch) analogue audio tape recorder. ",
                  "Summary": "John Hutchinson is an ornithologist and a birdcall recordist. Tape N164, consists of field recordings of bird calls made at Mankajara, Derby, Western Australia on 21 July 1986. This tape reel is accompanied by a field note. ACC 8661A/249A.  ",
                  "Subject headings: Topical": "Birds;Kookaburra;Honeyeaters;Friarbirds;Mynahs;Manorinas;Cockatoos;Birdsongs",
                  "Caption for URL": "John Hutchinson's bird songs recorded on 21 July 1986. Part 1",
                  "URL": "http://purl.slwa.wa.gov.au/slwa_b3756308_2",
                  "URL2": null
                },
                {
                  "index": 210,
                  "Local system number": "b37563191",
                  "call number": "ACC 8661A/250",
                  "Title": "John Hutchinson's bird songs recorded on 21 and 22 July 1986.",
                  "Date": "1986",
                  "Description of physical object": "1 audiotape reel (approximately 19 min.) ",
                  "notes": "Recorded using Nagra IV-S portable stereo 6.35-mm (?? inch) analogue audio tape recorder. ",
                  "Summary": "John Hutchinson is an ornithologist and a birdcall recordist. Tape N165, consists of field recordings of bird calls made at Mankajara, Derby, Western Australia on 21 July 1986 and at Lennard River, Windjana Gorge 20k, Western Australia on 22 July 198",
                  "Subject headings: Topical": "Birds;Friarbirds;Honeyeaters;Pomatostomus temporalis;Mynahs;Manorinas;Doves;Willy wagtails;Thrushes;Magpie lark;Crows;Jacky Winter (Bird);Birdsongs;Birdsongs;Birdsongs",
                  "Caption for URL": "John Hutchinson's bird songs recorded on 21 and 22 July 1986. Part 1",
                  "URL": "http://purl.slwa.wa.gov.au/slwa_b3756319_2",
                  "URL2": null
                },
                {
                  "index": 211,
                  "Local system number": "b37612876",
                  "call number": "ACC 8661A/260",
                  "Title": "John Hutchinson's bird songs recorded on 27 August 1986, 18 and 21 February 1987 and 2 March 1987.",
                  "Date": "1986-1987.",
                  "Description of physical object": "1 audiotape reel  (approximately 25 min.) ",
                  "notes": "Recorded using Nagra IV-S portable stereo 6.35-mm (?? inch) analogue audio tape recorder.",
                  "Summary": "John Hutchinson is an ornithologist and a birdcall recordist. Tape N175, consists of field recordings of bird calls made at Cooloola, Queensland 27 August 1986 and at Balingup, Western Australia on 18 and 21 February 1987 and at Shannon River, karri ",
                  "Subject headings: Topical": "Birds;Birds;Bee eaters;Fantails;Cockatoos;Cockatoos;Birdsongs;Birdsongs",
                  "Caption for URL": "John Hutchinson's bird songs recorded on 27 August 1986, 18 and 21 February 1987 and 2 March 1987. Part 1",
                  "URL": "http://purl.slwa.wa.gov.au/slwa_b3761287_2",
                  "URL2": null
                },
                {
                  "index": 212,
                  "Local system number": "b37612943",
                  "call number": "ACC 8661A/261",
                  "Title": "John Hutchinson's bird songs recorded on 2 and 3 March 1987.",
                  "Date": "1987",
                  "Description of physical object": "1 audiotape reel  (approximately 19 min.) ",
                  "notes": "Recorded using Nagra IV-S portable stereo 6.35-mm (?? inch) analogue audio tape recorder.",
                  "Summary": "John Hutchinson is an ornithologist and a birdcall recordist. Tape N176, consists of field recordings of bird calls made at the Shannon River karri forest, Curtin Road, Western Australia on 2 and 3 March 1987. This tape reel is accompanied by a field",
                  "Subject headings: Topical": "Birds;Wrens;Honeyeaters;Fantails;Wattlebirds;Pomatostomidae;Birdsongs",
                  "Caption for URL": "John Hutchinson's bird songs recorded on 2 and 3 March 1987. Part 1",
                  "URL": "http://purl.slwa.wa.gov.au/slwa_b3761294_2",
                  "URL2": null
                },
                {
                  "index": 213,
                  "Local system number": "b37612967",
                  "call number": "ACC 8661A/262",
                  "Title": "John Hutchinson's bird songs recorded on 3 March 1987.",
                  "Date": "1987",
                  "Description of physical object": "1 audiotape reel  (approximately 19 min.) ",
                  "notes": "Recorded using Nagra IV-S portable stereo 6.35-mm (?? inch) analogue audio tape recorder.",
                  "Summary": "John Hutchinson is an ornithologist and a birdcall recordist. Tape N177, consists of field recordings of bird calls made at karri forest, Curtin Rd, Shannon River, Western Australia on 3 March 1987. This tape reel is accompanied by a field note. ACC ",
                  "Subject headings: Topical": "Birds;Fantails;Thrushes;Honeyeaters;Wattlebirds;Birdsongs",
                  "Caption for URL": "John Hutchinson's bird songs recorded on 3 March 1987. Part 1",
                  "URL": "http://purl.slwa.wa.gov.au/slwa_b3761296_2",
                  "URL2": null
                },
                {
                  "index": 214,
                  "Local system number": "b37612992",
                  "call number": "ACC 8661A/263",
                  "Title": "John Hutchinson's bird songs recorded on 3 and 6 March 1987. ",
                  "Date": "1987",
                  "Description of physical object": "1 audiotape reel (approximately 29 min.) ",
                  "notes": "Recorded using Nagra IV-S portable stereo 6.35-mm (?? inch) analogue audio tape recorder.",
                  "Summary": "John Hutchinson is an ornithologist and a birdcall recordist. Tape N178, consists of field recordings of bird calls made at karri forest, Curtin Rd, Shannon River, Western Australia on 3 March 1987 and at Ledge Beach, Albany, Western Australia on 6 M",
                  "Subject headings: Topical": "Birds;Hawks;Wattlebirds;Honeyeaters;Whistlers (Birds);Budgerigar;Butcherbirds;Birdsongs;Birdsongs",
                  "Caption for URL": "John Hutchinson's bird songs recorded on 3 and 6 March 1987. Part 1",
                  "URL": "http://purl.slwa.wa.gov.au/slwa_b3761299_2",
                  "URL2": null
                },
                {
                  "index": 215,
                  "Local system number": "b37613078",
                  "call number": "ACC 8661A/264",
                  "Title": "John Hutchinson's bird songs recorded on 6 and 7 March 1987.",
                  "Date": "1987",
                  "Description of physical object": "1 audiotape reel (approximately 27 min.) ",
                  "notes": "Recorded using Nagra IV-S portable stereo 6.35-mm (?? inch) analogue audio tape recorder.",
                  "Summary": "John Hutchinson is an ornithologist and a birdcall recordist. Tape N179, consists of field recordings of bird calls made at Ledge Beach, Albany, Western Australia on 6 and 7 March 1987. This tape reel is accompanied by a field note. ACC 8661A/264. ",
                  "Subject headings: Topical": "Birds;Cockatoos;Fantails;Twenty-eight parrots;Wrens;Birdsongs",
                  "Caption for URL": "John Hutchinson's bird songs recorded on 6 and 7 March 1987. Part 1",
                  "URL": "http://purl.slwa.wa.gov.au/slwa_b3761307_2",
                  "URL2": null
                },
                {
                  "index": 216,
                  "Local system number": "b37613157",
                  "call number": "ACC 8661A/266",
                  "Title": "John Hutchinson's bird songs recorded on 9 March 1987.",
                  "Date": "1987",
                  "Description of physical object": "1 audiotape reel (approximately 26 min.) ",
                  "notes": "Recorded using Nagra IV-S portable stereo 6.35-mm (?? inch) analogue audio tape recorder.",
                  "Summary": "John Hutchinson is an ornithologist and a birdcall recordist. Tape N181, consists of field recordings of bird calls made at karri forest,  Shannon Basin, Western Australia on 9 March 1987 . This tape reel is accompanied by a field note. ACC 8661A/266",
                  "Subject headings: Topical": "Birds;Ravens;Wattlebirds;Sittellas;Birdsongs",
                  "Caption for URL": "John Hutchinson's bird songs recorded on 9 March 1987. Part 1",
                  "URL": "http://purl.slwa.wa.gov.au/slwa_b3761315_2",
                  "URL2": null
                },
                {
                  "index": 217,
                  "Local system number": "b37613170",
                  "call number": "ACC 8661A/267",
                  "Title": "John Hutchinson's bird songs recorded in March 1987.",
                  "Date": "1987",
                  "Description of physical object": "1 audiotape reel (approximately 27 min.) ",
                  "notes": "Recorded using Nagra IV-S portable stereo 6.35-mm (?? inch) analogue audio tape recorder.",
                  "Summary": "John Hutchinson is an ornithologist and a birdcall recordist. Tape N182, consists of field recordings of bird calls made at karri forest,  Upper Shannon Road, Western Australia in  March 1987. This tape reel is accompanied by a field note. ACC 8661A/",
                  "Subject headings: Topical": "Birds;Honeyeaters;Hawks;Wattlebirds;Birdsongs",
                  "Caption for URL": "John Hutchinson's bird songs recorded in March 1987. Part 1",
                  "URL": "http://purl.slwa.wa.gov.au/slwa_b3761317_2",
                  "URL2": null
                },
                {
                  "index": 218,
                  "Local system number": "b37613200",
                  "call number": "ACC 8661A/268",
                  "Title": "John Hutchinson's bird songs recorded in March 1987.",
                  "Date": "1987",
                  "Description of physical object": "1 audiotape reel (approximately 29 min.) ",
                  "notes": "Recorded using Nagra IV-S portable stereo 6.35-mm (?? inch) analogue audio tape recorder.",
                  "Summary": "John Hutchinson is an ornithologist and a birdcall recordist. Tape N183, consists of field recordings of bird calls made at Shannon Basin, via Manjimup, Western Australia in  March 1987 and at boat landing on creek bed at Donnelly River, Western Aust",
                  "Subject headings: Topical": "Birds;Honeyeaters;Fantails;Wattlebirds;Cuckoos;Parrots;Ravens;Birdsongs;Birdsongs",
                  "Caption for URL": "John Hutchinson's bird songs recorded in March 1987. Part 1",
                  "URL": "http://purl.slwa.wa.gov.au/slwa_b3761320_2",
                  "URL2": null
                },
                {
                  "index": 219,
                  "Local system number": "b37613315",
                  "call number": "ACC 8661A/269",
                  "Title": "John Hutchinson's bird songs recorded on 26 and 27 March 1987.",
                  "Date": "1987",
                  "Description of physical object": "1 audiotape reel (approximately 23 min.) ",
                  "notes": "Recorded using Nagra IV-S portable stereo 6.35-mm (?? inch) analogue audio tape recorder.",
                  "Summary": "John Hutchinson is an ornithologist and a birdcall recordist. Tape N184, consists of field recordings of bird calls made at boat landing at creek, Manjimup, Western Australia on  26 March 1987 and near lake, Mungalup?, Moores Farm, South Coast Wester",
                  "Subject headings: Topical": "Birds;Honeyeaters;Whistlers (Birds);Thrushes;Wrens;Currawongs;Ravens;Birdsongs;Birdsongs",
                  "Caption for URL": "John Hutchinson's bird songs recorded on 26 and 27 March 1987. Part 1",
                  "URL": "http://purl.slwa.wa.gov.au/slwa_b3761331_2",
                  "URL2": null
                },
                {
                  "index": 220,
                  "Local system number": "b37613339",
                  "call number": "ACC 8661A/270",
                  "Title": "John Hutchinson's bird songs recorded on 28 March 1987 and 25 April 1987.",
                  "Date": "1987",
                  "Description of physical object": "1 audiotape reel (approximately 26 min.) ",
                  "notes": "Recorded using Nagra IV-S portable stereo 6.35-mm (?? inch) analogue audio tape recorder.",
                  "Summary": "John Hutchinson is an ornithologist and a birdcall recordist. Tape N185, consists of field recordings of bird calls made at Centre Rd Camp, Deep River, Walpole, Western Australia on  28 March 1987 and at Shannon River Basin, Deeside Rd, Western Austr",
                  "Subject headings: Topical": "Birds;Jacky Winter (Bird);Thornbills;Warblers;Currawongs;Parrots;Hawks;Honeyeaters;Sittellas;Birdsongs;Birdsongs",
                  "Caption for URL": "John Hutchinson's bird songs recorded on 28 March 1987 and 25 April 1987. Part 1",
                  "URL": "http://purl.slwa.wa.gov.au/slwa_b3761333_2",
                  "URL2": null
                },
                {
                  "index": 221,
                  "Local system number": "b37613352",
                  "call number": "ACC 8661A/271",
                  "Title": "John Hutchinson's bird songs recorded on 26 April 1987 and 5 and 6 September 1987.",
                  "Date": "1987",
                  "Description of physical object": "1 audiotape reel (approximately 22 min.) ",
                  "notes": "Recorded using Nagra IV-S portable stereo 6.35-mm (?? inch) analogue audio tape recorder.",
                  "Summary": "John Hutchinson is an ornithologist and a birdcall recordist. Tape N186, consists of field recordings of bird calls made at  Shannon River Basin, Western Australia on 26 April 1987 and at Scott River Bridge, South Coast Western Australia on 5 and 6 S",
                  "Subject headings: Topical": "Birds;Sittellas;Wattlebirds;Thrushes;Honeyeaters;Crows;Fantails;Birdsongs;Birdsongs",
                  "Caption for URL": "John Hutchinson's bird songs recorded on 26 April 1987 and 5 and 6 September 1987. Part 1",
                  "URL": "http://purl.slwa.wa.gov.au/slwa_b3761335_2",
                  "URL2": null
                },
                {
                  "index": 222,
                  "Local system number": "b37613364",
                  "call number": "ACC 8661A/272",
                  "Title": "John Hutchinson's bird songs recorded on 6 September 1987.",
                  "Date": "1987",
                  "Description of physical object": "1 audiotape reel (approximately 11 min.) ",
                  "notes": "Recorded using Nagra IV-S portable stereo 6.35-mm (?? inch) analogue audio tape recorder.",
                  "Summary": "John Hutchinson is an ornithologist and a birdcall recordist. Tape N187, consists of field recordings of bird calls made at  Scott River bridge, South Coast Western Australia on 6 September 1987. This tape reel is accompanied by a field note. ACC 866",
                  "Subject headings: Topical": "Birds;Honeyeaters;Fantails;Magpies;Birdsongs",
                  "Caption for URL": "John Hutchinson's bird songs recorded on 6 September 1987. Part 1",
                  "URL": "http://purl.slwa.wa.gov.au/slwa_b3761336_2",
                  "URL2": null
                },
                {
                  "index": 223,
                  "Local system number": "b37613388",
                  "call number": "ACC 8661A/273",
                  "Title": "John Hutchinson's bird songs recorded on 6 September 1987.",
                  "Date": "1987",
                  "Description of physical object": "1 audiotape reel (approximately 27 min.) ",
                  "notes": "Recorded using Nagra IV-S portable stereo 6.35-mm (?? inch) analogue audio tape recorder.",
                  "Summary": "John Hutchinson is an ornithologist and a birdcall recordist. Tape N188, consists of field recordings of bird calls made at  Scott River Bridge, South Coast Western Australia on 6 September 1987. This tape reel is accompanied by a field note. ACC 866",
                  "Subject headings: Topical": "Birds;Honeyeaters;Whistlers (Birds);Cuckoos;Currawongs;Wattlebirds;Birdsongs",
                  "Caption for URL": "John Hutchinson's bird songs recorded on 6 September 1987. Part 1",
                  "URL": "http://purl.slwa.wa.gov.au/slwa_b3761338_2",
                  "URL2": null
                },
                {
                  "index": 224,
                  "Local system number": "b3761339x",
                  "call number": "ACC 8661A/274",
                  "Title": "John Hutchinson's bird songs recorded on 6 and 7 September 1987. ",
                  "Date": "1987",
                  "Description of physical object": "1 audiotape reel (approximately 17 min.) ",
                  "notes": "Recorded using Nagra IV-S portable stereo 6.35-mm (?? inch) analogue audio tape recorder.",
                  "Summary": "John Hutchinson is an ornithologist and a birdcall recordist. Tape N189, consists of field recordings of bird calls made at  Scott River National Park on 6 and 7 September 1987 and Boranup Karri Forest, Western Australia on 7 September 1987. This tap",
                  "Subject headings: Topical": "Birds;Cockatoos;Wattlebirds;Kookaburra;Butcherbirds;Ravens;Sittellas;Honeyeaters;Birdsongs;Birdsongs",
                  "Caption for URL": "John Hutchinson's bird songs recorded on 6 and 7 September 1987. Part 1",
                  "URL": "http://purl.slwa.wa.gov.au/slwa_b3761339_2",
                  "URL2": null
                },
                {
                  "index": 225,
                  "Local system number": "b37613480",
                  "call number": "ACC 8661A/275",
                  "Title": "John Hutchinson's bird songs recorded on 6, 7 and 8 September 1987. ",
                  "Date": "1987",
                  "Description of physical object": "1 audiotape reel (approximately 40 min.) ",
                  "notes": "Recorded using Nagra IV-S portable stereo 6.35-mm (?? inch) analogue audio tape recorder.",
                  "Summary": "John Hutchinson is an ornithologist and a birdcall recordist. Tape N190, consists of field recordings of bird calls made at  Scott River National Park, South Coast Western Australia on 6 and 7 September 1987 and Boranup Karri Forest, Western Australi",
                  "Subject headings: Topical": "Birds;Cockatoos;Wattlebirds;Kookaburra;Ravens;Sittellas;Honeyeaters;Parrots;Whistlers (Birds);Birdsongs;Birdsongs",
                  "Caption for URL": "John Hutchinson's bird songs recorded on 6, 7 and 8 September 1987. Part 1",
                  "URL": "http://purl.slwa.wa.gov.au/slwa_b3761348_2",
                  "URL2": null
                },
                {
                  "index": 226,
                  "Local system number": "b37613509",
                  "call number": "ACC 8661A/276",
                  "Title": "John Hutchinson's bird songs recorded on 8 September 1987. ",
                  "Date": "1987",
                  "Description of physical object": "1 audiotape reel (approximately 29 min.) ",
                  "notes": "Recorded using Nagra IV-S portable stereo 6.35-mm (?? inch) analogue audio tape recorder.",
                  "Summary": "John Hutchinson is an ornithologist and a birdcall recordist. Tape N191, consists of field recordings of bird calls made at  Boranup Karri Forest, Western Australia on 8 September 1987. This tape reel is accompanied by a field note. ACC 8661A/276. ",
                  "Subject headings: Topical": "Birds;Wattlebirds;Kookaburra;Sittellas;Parrots;Whistlers (Birds);Honeyeaters;Hawks;Birdsongs",
                  "Caption for URL": "John Hutchinson's bird songs recorded on 8 September 1987. Part 1",
                  "URL": "http://purl.slwa.wa.gov.au/slwa_b3761350_2",
                  "URL2": null
                },
                {
                  "index": 227,
                  "Local system number": "b37613522",
                  "call number": "ACC 8661A/277",
                  "Title": "John Hutchinson's bird songs recorded on 8 September 1987. ",
                  "Date": "1987",
                  "Description of physical object": "1 audiotape reel (approximately 12 min.) ",
                  "notes": "Recorded using Nagra IV-S portable stereo 6.35-mm (?? inch) analogue audio tape recorder.",
                  "Summary": "John Hutchinson is an ornithologist and a birdcall recordist. Tape N192, consists of field recordings of bird calls made at  Boranup Karri Forest, Western Australia on 8 September 1987. This tape reel is accompanied by a field note. ACC 8661A/277. ",
                  "Subject headings: Topical": "Birds;Wattlebirds;Sittellas;Parrots;Whistlers (Birds);Cuckoos;Birdsongs",
                  "Caption for URL": "John Hutchinson's bird songs recorded on 8 September 1987. Part 1",
                  "URL": "http://purl.slwa.wa.gov.au/slwa_b3761352_2",
                  "URL2": null
                },
                {
                  "index": 228,
                  "Local system number": "b37615701",
                  "call number": "ACC 8661A/278",
                  "Title": "John Hutchinson's bird songs recorded on 8 and 9 September 1987. ",
                  "Date": "1987",
                  "Description of physical object": "1 audiotape reel (approximately 14 min.) ",
                  "notes": "Recorded using Nagra IV-S portable stereo 6.35-mm (?? inch) analogue audio tape recorder.",
                  "Summary": "John Hutchinson is an ornithologist and a birdcall recordist. Tape N193, consists of field recordings of bird calls made at Boranup Karri Forest, Western Australia on 8 September 1987 and at Margaret River forest, Western Australia on 9 September 198",
                  "Subject headings: Topical": "Birds;Wattlebirds;Sittellas;Parrots;Whistlers (Birds);Cuckoos;Wrens;Honeyeaters;Birdsongs;Birdsongs",
                  "Caption for URL": "John Hutchinson's bird songs recorded on 8 and 9 September 1987. Part 1",
                  "URL": "http://purl.slwa.wa.gov.au/slwa_b3761570_2",
                  "URL2": null
                },
                {
                  "index": 229,
                  "Local system number": "b37616638",
                  "call number": "ACC 8661A/279",
                  "Title": "John Hutchinson's bird songs recorded on 9 September 1987. ",
                  "Date": "1987",
                  "Description of physical object": "1 audiotape reel (approximately 14 min.) ",
                  "notes": "Recorded using Nagra IV-S portable stereo 6.35-mm (?? inch) analogue audio tape recorder.",
                  "Summary": "John Hutchinson is an ornithologist and a birdcall recordist. Tape N194, consists of field recordings of bird calls made at Margaret River Forest, Western Australia on 9 September 1987. This tape reel is accompanied by a field note. ACC 8661A/279. ",
                  "Subject headings: Topical": "Birds;Magpies;Pardalotes;Ravens;Whistlers (Birds);Thrushes;Wrens;Parrots;Honeyeaters;Birdsongs",
                  "Caption for URL": "John Hutchinson's bird songs recorded on 9 September 1987. Part 1",
                  "URL": "http://purl.slwa.wa.gov.au/slwa_b3761663_2",
                  "URL2": null
                },
                {
                  "index": 230,
                  "Local system number": "b37616687",
                  "call number": "ACC 8661A/280",
                  "Title": "John Hutchinson's bird songs recorded on 12 September 1987. ",
                  "Date": "1987",
                  "Description of physical object": "1 audiotape reel (approximately 27 min.) ",
                  "notes": "Recorded using Nagra IV-S portable stereo 6.35-mm (?? inch) analogue audio tape recorder.",
                  "Summary": "John Hutchinson is an ornithologist and a birdcall recordist. Tape N195, consists of field recordings of bird calls made at Blackwood River, Balingup,  Western Australia on 12 September 1987. This tape reel is accompanied by a field note. ACC 8661A/2",
                  "Subject headings: Topical": "Birds;Magpies;Silvereyes;Ravens;Kookaburra;Whistlers (Birds);Fantails;Parrots;Owls;Warblers;Birdsongs;Birdsongs;Birdsongs",
                  "Caption for URL": "John Hutchinson's bird songs recorded on 12 September 1987. Part 1",
                  "URL": "http://purl.slwa.wa.gov.au/slwa_b3761668_2",
                  "URL2": null
                },
                {
                  "index": 231,
                  "Local system number": "b37616717",
                  "call number": "ACC 8661A/281",
                  "Title": "John Hutchinson's bird songs recorded on 12 and 13 September 1987. ",
                  "Date": "1987",
                  "Description of physical object": "1 audiotape reel (approximately 14 min.) ",
                  "notes": "Recorded using Nagra IV-S portable stereo 6.35-mm (?? inch) analogue audio tape recorder.",
                  "Summary": "John Hutchinson is an ornithologist and a birdcall recordist. Tape N196, consists of field recordings of bird calls made at Blackwood River, Balingup,  Western Australia on 12 and 13 September 1987. This tape reel is accompanied by a field note. ACC ",
                  "Subject headings: Topical": "Birds;Whistlers (Birds);Pardalotes;Ravens;Kookaburra;Wrens;Parrots;Cockatoos;Birdsongs;Birdsongs;Birdsongs;Birdsongs",
                  "Caption for URL": "John Hutchinson's bird songs recorded on 12 and 13 September 1987. Part 1",
                  "URL": "http://purl.slwa.wa.gov.au/slwa_b3761671_2",
                  "URL2": null
                },
                {
                  "index": 232,
                  "Local system number": "b37616742",
                  "call number": "ACC 8661A/282",
                  "Title": "John Hutchinson's bird songs recorded on 27 and 28 September 1987.",
                  "Date": "1987",
                  "Description of physical object": "1 audiotape reel (approximately 11 min.) ",
                  "notes": "Recorded using Nagra IV-S portable stereo 6.35-mm (?? inch) analogue audio tape recorder.",
                  "Summary": "John Hutchinson is an ornithologist and a birdcall recordist. Tape N197, consists of field recordings of bird calls made at Blackwood River, Lewana,  Western Australia on 27 September 1987 and at Mowen Road, Donnybrook, Western Australia on 28 Septem",
                  "Subject headings: Topical": "Birds;Kookaburra;Ravens;Robins;Whistlers (Birds);Fantails;Thrushes;Birdsongs;Birdsongs;Birdsongs",
                  "Caption for URL": "John Hutchinson's bird songs recorded on 27 and 28 September 1987. Part 1",
                  "URL": "http://purl.slwa.wa.gov.au/slwa_b3761674_2",
                  "URL2": null
                },
                {
                  "index": 233,
                  "Local system number": "b37616754",
                  "call number": "ACC 8661A/283",
                  "Title": "John Hutchinson's bird songs recorded on 28 September 1987. ",
                  "Date": "1987",
                  "Description of physical object": "1 audiotape reel (approximately 11 min.) ",
                  "notes": "Recorded using Nagra IV-S portable stereo 6.35-mm (?? inch) analogue audio tape recorder.",
                  "Summary": "John Hutchinson is an ornithologist and a birdcall recordist. Tape N198, consists of field recordings of bird calls made at Sunklands, Donnybrook, Western Australia and at Blackwood River, Balingup,  Western Australia on 28 September 1987. This tape ",
                  "Subject headings: Topical": "Birds;Whistlers (Birds);Fantails;Warblers;Kookaburra;Birdsongs",
                  "Caption for URL": "John Hutchinson's bird songs recorded on 28 September 1987. Part 1",
                  "URL": "http://purl.slwa.wa.gov.au/slwa_b3761675_2",
                  "URL2": null
                },
                {
                  "index": 234,
                  "Local system number": "b37616778",
                  "call number": "ACC 8661A/284",
                  "Title": "John Hutchinson's bird songs recorded on 29 September 1987. ",
                  "Date": "1987",
                  "Description of physical object": "1 audiotape reel (approximately 12 min.) ",
                  "notes": "Recorded using Nagra IV-S portable stereo 6.35-mm (?? inch) analogue audio tape recorder.",
                  "Summary": "John Hutchinson is an ornithologist and a birdcall recordist. Tape N199, consists of field recordings of bird calls made at Blackwood River, Balingup,  Western Australia on 29 September 1987. This tape reel is accompanied by a field note. ACC 8661A/2",
                  "Subject headings: Topical": "Birds;Whistlers (Birds);Pardalotes;Wrens;Warblers;Magpies;Parrots;Ravens;Birdsongs;Birdsongs",
                  "Caption for URL": "John Hutchinson's bird songs recorded on 29 September 1987. Part 1",
                  "URL": "http://purl.slwa.wa.gov.au/slwa_b3761677_2",
                  "URL2": null
                },
                {
                  "index": 235,
                  "Local system number": "b3761681x",
                  "call number": "ACC 8661A/285",
                  "Title": "John Hutchinson's bird songs recorded on 29 September 1987 and 1 October 1987. ",
                  "Date": "1987",
                  "Description of physical object": "1 audiotape reel (approximately 10 min.) ",
                  "notes": "Recorded using Nagra IV-S portable stereo 6.35-mm (?? inch) analogue audio tape recorder.",
                  "Summary": "John Hutchinson is an ornithologist and a birdcall recordist. Tape N200, consists of field recordings of bird calls made at Blackwood River, Balingup,  Western Australia on 29 September 1987 and at the Mullalyup forest,  Western Australia on 1 Octobe",
                  "Subject headings: Topical": "Birds;Cuckoos;Parrots;Warblers;Magpies;Ravens;Whistlers (Birds);Parrots;Pardalotes;Wrens;Birdsongs;Birdsongs;Birdsongs",
                  "Caption for URL": "John Hutchinson's bird songs recorded on 29 September 1987 and 1 October 1987. Part 1",
                  "URL": "http://purl.slwa.wa.gov.au/slwa_b3761681_2",
                  "URL2": null
                },
                {
                  "index": 236,
                  "Local system number": "b37620885",
                  "call number": "ACC 8661A/286",
                  "Title": "John Hutchinson's bird songs recorded on 1 October 1987. ",
                  "Date": "1987",
                  "Description of physical object": "1 audiotape reel (approximately 17 min.) ",
                  "notes": "Recorded using Nagra IV-S portable stereo 6.35-mm (?? inch) analogue audio tape recorder.",
                  "Summary": "John Hutchinson is an ornithologist and a birdcall recordist. Tape N201, consists of field recordings of bird calls made at the Mullalyup forest,  Western Australia on 1 October 1987. This tape reel is accompanied by a field note. ACC 8661A/286. ",
                  "Subject headings: Topical": "Birds;Cuckoos;Twenty-eight parrots;Warblers;Magpies;Ravens;Thrushes;Pardalotes;Wrens;Fantails;Whistlers (Birds);Robins;Kookaburra;Birdsongs",
                  "Caption for URL": "John Hutchinson's bird songs recorded on 1 October 1987. Part 1",
                  "URL": "http://purl.slwa.wa.gov.au/slwa_b3762088_2",
                  "URL2": null
                },
                {
                  "index": 237,
                  "Local system number": "b37625731",
                  "call number": "ACC 8661A/287",
                  "Title": "John Hutchinson's bird songs recorded on 1 and 4 October 1987. ",
                  "Date": "1987",
                  "Description of physical object": "1 audiotape reel (approximately 14 min.) ",
                  "notes": "Recorded using Nagra IV-S portable stereo 6.35-mm (?? inch) analogue audio tape recorder.",
                  "Summary": "John Hutchinson is an ornithologist and a birdcall recordist. Tape N202, consists of field recordings of bird calls made at the Mullalyup forest,  Western Australia on 1 October 1987 and Cambray, St Johns Brook, Western Australia on 4 October 1987 . ",
                  "Subject headings: Topical": "Birds;Whistlers (Birds);Thrushes;Jacky Winter (Bird);Robins;Wrens;Fantails;Birdsongs;Birdsongs;Birdsongs",
                  "Caption for URL": "John Hutchinson's bird songs recorded on 1 and 4 October 1987. Part 1",
                  "URL": "http://purl.slwa.wa.gov.au/slwa_b3762573_2",
                  "URL2": null
                },
                {
                  "index": 238,
                  "Local system number": "b37625962",
                  "call number": "ACC 8661A/288",
                  "Title": "John Hutchinson's bird songs recorded on 4 October 1987.",
                  "Date": "1987",
                  "Description of physical object": "1 audiotape reel (approximately 17 min.) ",
                  "notes": "Recorded using Nagra IV-S portable stereo 6.35-mm (?? inch) analogue audio tape recorder.",
                  "Summary": "John Hutchinson is an ornithologist and a birdcall recordist. Tape N203, consists of field recordings of bird calls made at St Johns Brook, Cambray, Western Australia on 4 October 1987 . This tape reel is accompanied by a field note. ACC 8661A/288. ",
                  "Subject headings: Topical": "Birds;Wrens;Whistlers (Birds);Jacky Winter (Bird);Thrushes;Twenty-eight parrots;Pardalotes;Ravens;Cuckoos;Birdsongs;Birdsongs",
                  "Caption for URL": "John Hutchinson's bird songs recorded on 4 October 1987. Part 1",
                  "URL": "http://purl.slwa.wa.gov.au/slwa_b3762596_2",
                  "URL2": null
                },
                {
                  "index": 239,
                  "Local system number": "b37626000",
                  "call number": "ACC 8661A/289",
                  "Title": "John Hutchinson's bird songs recorded on 4 October 1987.",
                  "Date": "1987",
                  "Description of physical object": "1 audiotape reel (approximately 10 min.) ",
                  "notes": "Recorded using Nagra IV-S portable stereo 6.35-mm (?? inch) analogue audio tape recorder.",
                  "Summary": "John Hutchinson is an ornithologist and a birdcall recordist. Tape N204, consists of field recordings of bird calls made at St Johns Brook, Cambray, Western Australia on 4 October 1987 . This tape reel is accompanied by a field note. ACC 8661A/289. ",
                  "Subject headings: Topical": "Birds;Robins;Twenty-eight parrots;Cuckoos;Birdsongs;Birdsongs",
                  "Caption for URL": "John Hutchinson's bird songs recorded on 4 October 1987. Part 1",
                  "URL": "http://purl.slwa.wa.gov.au/slwa_b3762600_2",
                  "URL2": null
                },
                {
                  "index": 240,
                  "Local system number": "b37626024",
                  "call number": "ACC 8661A/290",
                  "Title": "John Hutchinson's bird songs recorded on 4 October 1987.",
                  "Date": "1987",
                  "Description of physical object": "1 audiotape reel (approximately 16 min.) ",
                  "notes": "Recorded using Nagra IV-S portable stereo 6.35-mm (?? inch) analogue audio tape recorder.",
                  "Summary": "John Hutchinson is an ornithologist and a birdcall recordist. Tape N205, consists of field recordings of bird calls made at St Johns Brook, Cambray, Western Australia on 4 October 1987 . This tape reel is accompanied by a field note. ACC 8661A/290. ",
                  "Subject headings: Topical": "Birds;Cuckoos;Fantails;Twenty-eight parrots;Cockatoos;Birdsongs;Birdsongs",
                  "Caption for URL": "John Hutchinson's bird songs recorded on 4 October 1987. Part 1",
                  "URL": "http://purl.slwa.wa.gov.au/slwa_b3762602_2",
                  "URL2": null
                },
                {
                  "index": 241,
                  "Local system number": "b37626048",
                  "call number": "ACC 8661A/291",
                  "Title": "John Hutchinson's bird songs recorded on 5 October 1987.",
                  "Date": "1987",
                  "Description of physical object": "1 audiotape reel (approximately 28 min.) ",
                  "notes": "Recorded using Nagra IV-S portable stereo 6.35-mm (?? inch) analogue audio tape recorder.",
                  "Summary": "John Hutchinson is an ornithologist and a birdcall recordist. Tape N206, consists of field recordings of bird calls made at St Johns Brook, Cambray, Western Australia on 5 October 1987 . This tape reel is accompanied by a field note. ACC 8661A/291. ",
                  "Subject headings: Topical": "Birds;Cuckoos;Fantails;Kookaburra;Whistlers (Birds);Robins;Cockatoos;Birdsongs;Birdsongs",
                  "Caption for URL": "John Hutchinson's bird songs recorded on 5 October 1987. Part 1",
                  "URL": "http://purl.slwa.wa.gov.au/slwa_b3762604_2",
                  "URL2": null
                },
                {
                  "index": 242,
                  "Local system number": "b3762734x",
                  "call number": "ACC 8661A/292",
                  "Title": "John Hutchinson's bird songs recorded on 5 October 1987 and 11 November 1987.",
                  "Date": "1987",
                  "Description of physical object": "1 audiotape reel (approximately 27 min.) ",
                  "notes": "Recorded using Nagra IV-S portable stereo 6.35-mm (?? inch) analogue audio tape recorder.",
                  "Summary": "John Hutchinson is an ornithologist and a birdcall recordist. Tape N207, consists of field recordings of bird calls made at St Johns Brook, Cambray, Western Australia on 5 October 1987 and at Windmill Gully road, Grimwade,  Western Australia on 11 No",
                  "Subject headings: Topical": "Birds;Ravens;Fantails;Pardalotes;Twenty-eight parrots;Cuckoos;Whistlers (Birds);Wattlebirds;Birdsongs;Birdsongs",
                  "Caption for URL": "John Hutchinson's bird songs recorded on 5 October 1987 and 11 November 1987. Part 1",
                  "URL": "http://purl.slwa.wa.gov.au/slwa_b3762734_2",
                  "URL2": null
                },
                {
                  "index": 243,
                  "Local system number": "b37627363",
                  "call number": "ACC 8661A/293",
                  "Title": "John Hutchinson's bird songs recorded on 11 November 1987.",
                  "Date": "1987",
                  "Description of physical object": "1 audiotape reel (approximately 47 min.) ",
                  "notes": "Recorded using Nagra IV-S portable stereo 6.35-mm (?? inch) analogue audio tape recorder.",
                  "Summary": "John Hutchinson is an ornithologist and a birdcall recordist. Tape N208, consists of field recordings of bird calls made at Windmill Gully road, Grimwade,  Western Australia on 11 November 1987. This tape reel is accompanied by a field note. ACC 8661",
                  "Subject headings: Topical": "Birds;Ravens;Honeyeaters;Warblers;Whistlers (Birds);Pigeons;Black cockatoos;Birdsongs",
                  "Caption for URL": "John Hutchinson's bird songs recorded on 11 November 1987. Part 1",
                  "URL": "http://purl.slwa.wa.gov.au/slwa_b3762736_2",
                  "URL2": null
                },
                {
                  "index": 244,
                  "Local system number": "b37627399",
                  "call number": "ACC 8661A/294",
                  "Title": "John Hutchinson's bird songs recorded on 11 November 1987.",
                  "Date": "1987",
                  "Description of physical object": "1 audiotape reel (approximately 36 min.) ",
                  "notes": "Recorded using Nagra IV-S portable stereo 6.35-mm (?? inch) analogue audio tape recorder.",
                  "Summary": "John Hutchinson is an ornithologist and a birdcall recordist. Tape N209, consists of field recordings of bird calls made at Windmill Gully road, Grimwade,  Western Australia on 11 November 1987. This tape reel is accompanied by a field note. ACC 8661",
                  "Subject headings: Topical": "Birds;Black cockatoos;Fantails;Warblers;Whistlers (Birds);Pigeons;Thrushes;Birdsongs;Birdsongs",
                  "Caption for URL": "John Hutchinson's bird songs recorded on 11 November 1987. Part 1",
                  "URL": "http://purl.slwa.wa.gov.au/slwa_b3762739_2",
                  "URL2": null
                },
                {
                  "index": 245,
                  "Local system number": "b37627429",
                  "call number": "ACC 8661A/295",
                  "Title": "John Hutchinson's bird songs recorded on 11 and 15 November 1987.",
                  "Date": "1987",
                  "Description of physical object": "1 audiotape reel (approximately 32 min.) ",
                  "notes": "Recorded using Nagra IV-S portable stereo 6.35-mm (?? inch) analogue audio tape recorder.",
                  "Summary": "John Hutchinson is an ornithologist and a birdcall recordist. Tape N210, consists of field recordings of bird calls made at Windmill Gully road,  between Grimwade and Noggerup, Western Australia on 11 November 1987 and at Ledge Beach swamp, Albany, W",
                  "Subject headings: Topical": "Birds;Whistlers (Birds);Robins;Black cockatoos;Fantails;Reed warblers;Wattlebirds;Fantails;Pigeons;Twenty-eight parrots;Thrushes;Kookaburra;Birdsongs;Birdsongs;Birdsongs",
                  "Caption for URL": "John Hutchinson's bird songs recorded on 11 and 15 November 1987. Part 1",
                  "URL": "http://purl.slwa.wa.gov.au/slwa_b3762742_2",
                  "URL2": null
                },
                {
                  "index": 246,
                  "Local system number": "b37627454",
                  "call number": "ACC 8661A/296",
                  "Title": "John Hutchinson's bird songs recorded on 16 November 1987.",
                  "Date": "1987",
                  "Description of physical object": "1 audiotape reel (approximately 27 min.) ",
                  "notes": "Recorded using Nagra IV-S portable stereo 6.35-mm (?? inch) analogue audio tape recorder.",
                  "Summary": "John Hutchinson is an ornithologist and a birdcall recordist. Tape N211, consists of field recordings of bird calls made at Ledge Beach swamp, Albany, Western Australia on 16 November 1987. This tape reel is accompanied by a field note. ACC 8661A/296",
                  "Subject headings: Topical": "Birds;Black cockatoos;Reed warblers;Twenty-eight parrots;Kookaburra;Birdsongs",
                  "Caption for URL": "John Hutchinson's bird songs recorded on 16 November 1987. Part 1",
                  "URL": "http://purl.slwa.wa.gov.au/slwa_b3762745_2",
                  "URL2": null
                },
                {
                  "index": 247,
                  "Local system number": "b37627478",
                  "call number": "ACC 8661A/297",
                  "Title": "John Hutchinson's bird songs recorded on 16, 18 and 23 November 1987.",
                  "Date": "1987",
                  "Description of physical object": "1 audiotape reel (approximately 40 min.) ",
                  "notes": "Recorded using Nagra IV-S portable stereo 6.35-mm (?? inch) analogue audio tape recorder.",
                  "Summary": "John Hutchinson is an ornithologist and a birdcall recordist. Tape N212, consists of field recordings of bird calls made at Ledge Beach swamp, Albany, Western Australia on 16 November 1987 and at Shannon River bank, Chesapeake Rd, Western Australia o",
                  "Subject headings: Topical": "Birds;Black cockatoos;Reed warblers;Honeyeaters;Cuckoos;Fantails;Wattlebirds;Ravens;Twenty-eight parrots;Kookaburra;Pardalotes;Robins;Whistlers (Birds);Birdsongs;Birdsongs;Birdsongs",
                  "Caption for URL": "John Hutchinson's bird songs recorded on 16, 18 and 23 November 1987. Part 1",
                  "URL": "http://purl.slwa.wa.gov.au/slwa_b3762747_2",
                  "URL2": null
                },
                {
                  "index": 248,
                  "Local system number": "b37627491",
                  "call number": "ACC 8661A/298",
                  "Title": "John Hutchinson's bird songs recorded on 24 and 25 November 1987.",
                  "Date": "1987",
                  "Description of physical object": "1 audiotape reel (approximately 27 min.) ",
                  "notes": "Recorded using Nagra IV-S portable stereo 6.35-mm (?? inch) analogue audio tape recorder.",
                  "Summary": "John Hutchinson is an ornithologist and a birdcall recordist. Tape N213, consists of field recordings of bird calls made at Windmill Gully Rd, Noggerup, Western Australia on 24 November 1987 and at Wandoo forest, York, Western Australia on 25 Novembe",
                  "Subject headings: Topical": "Birds;Whistlers (Birds);Wattlebirds;Robins;Warblers;Fantails;Twenty-eight parrots;Pigeons;Wrens;Ravens;Hawks;Honeyeaters;Birdsongs;Birdsongs",
                  "Caption for URL": "John Hutchinson's bird songs recorded on 24 and 25 November 1987. Part 1",
                  "URL": "http://purl.slwa.wa.gov.au/slwa_b3762749_2",
                  "URL2": null
                },
                {
                  "index": 249,
                  "Local system number": "b37627545",
                  "call number": "ACC 8661A/299",
                  "Title": "John Hutchinson's bird songs recorded on 25 and 26 November 1987.",
                  "Date": "1987",
                  "Description of physical object": "1 audiotape reel ",
                  "notes": "Recorded using Nagra IV-S portable stereo 6.35-mm (?? inch) analogue audio tape recorder.",
                  "Summary": "John Hutchinson is an ornithologist and a birdcall recordist. Tape N214, consists of field recordings of bird calls made at Wandoo forest, York, Western Australia on 25 November 1987 and Crossman Bridge, Western Australia on 25 and 26 November 1987. ",
                  "Subject headings: Topical": "Birds;Thrushes;Black cockatoos;Honeyeaters;Ravens;Whistlers (Birds);Twenty-eight parrots;Magpies;Wrens;Kookaburra;Birdsongs;Birdsongs",
                  "Caption for URL": "John Hutchinson's bird songs recorded on 25 and 26 November 1987. Part 1",
                  "URL": "http://purl.slwa.wa.gov.au/slwa_b3762754_2",
                  "URL2": null
                },
                {
                  "index": 250,
                  "Local system number": "b37627570",
                  "call number": "ACC 8661A/300",
                  "Title": "John Hutchinson's bird songs recorded on 26 and 27 November 1987.",
                  "Date": "1987",
                  "Description of physical object": "1 audiotape reel (approximately 28 min.) ",
                  "notes": "Recorded using Nagra IV-S portable stereo 6.35-mm (?? inch) analogue audio tape recorder.",
                  "Summary": "John Hutchinson is an ornithologist and a birdcall recordist. Tape N215, consists of field recordings of bird calls made at Crossman Bridge, Western Australia on 26 November 1987 and at Geoff Lodge farm, Boyup Brook, Western Australia on 27 November ",
                  "Subject headings: Topical": "Birds;Fantails;Twenty-eight parrots;Warblers;Magpies;Ravens;Whistlers (Birds);Pardalotes;Honeyeaters;Kookaburra;Wrens;Magpies;Honeyeaters;Birdsongs;Birdsongs",
                  "Caption for URL": "John Hutchinson's bird songs recorded on 26 and 27 November 1987. Part 1",
                  "URL": "http://purl.slwa.wa.gov.au/slwa_b3762757_2",
                  "URL2": null
                },
                {
                  "index": 251,
                  "Local system number": "b3763687x",
                  "call number": "ACC 8661A/301",
                  "Title": "John Hutchinson's bird songs recorded on 27 November 1987 and 3 and 13 December 1987.",
                  "Date": "1987",
                  "Description of physical object": "1 audiotape reel ",
                  "notes": "Recorded using Nagra IV-S portable stereo 6.35-mm (?? inch) analogue audio tape recorder.",
                  "Summary": "John Hutchinson is an ornithologist and a birdcall recordist. Tape N216, consists of field recordings of bird calls made at Geoff Lodge Farm, Boyup Brook, Western Australia on 27 November 1987 and at Mowen Rd, between Margaret River and Nannup, Weste",
                  "Subject headings: Topical": "Birds;Ravens;Honeyeaters;Magpies;Wrens;Robins;Warblers;Black cockatoos;Thrushes;Birdsongs;Birdsongs;Birdsongs;Birdsongs",
                  "Caption for URL": "John Hutchinson's bird songs recorded on 27 November 1987 and 3 and 13 December 1987. Part 1",
                  "URL": "http://purl.slwa.wa.gov.au/slwa_b3763687_2",
                  "URL2": null
                },
                {
                  "index": 252,
                  "Local system number": "b37636893",
                  "call number": "ACC 8661A/302",
                  "Title": "John Hutchinson's bird songs recorded on 14 December 1987 and 3 January 1988.",
                  "Date": "1987-1988.",
                  "Description of physical object": "1 audiotape reel (approximately 25 min.) ",
                  "notes": "Recorded using Nagra IV-S portable stereo 6.35-mm (?? inch) analogue audio tape recorder.",
                  "Summary": "John Hutchinson is an ornithologist and a birdcall recordist. Tape N217, consists of field recordings of bird calls made at Cambray, Western Australia , on 14 December 1987 and at Cowaramup National Park, Western Australia  on 3 January 1988. This ta",
                  "Subject headings: Topical": "Birds;Honeyeaters;Whistlers (Birds);Fantails;Water birds;Ravens;Thornbills;Grebes;Silvereyes;Birdsongs;Birdsongs",
                  "Caption for URL": "John Hutchinson's bird songs recorded on 14 December 1987 and 3 January 1988. Part 1",
                  "URL": "http://purl.slwa.wa.gov.au/slwa_b3763689_2",
                  "URL2": null
                }
              ],
              "datalink": {
                "display_id": "0f8592c6-c466-4b02-a436-fa860223b2e0"
              }
            }
          },
          "metadata": {
            "application/vnd.dataresource+json": {
              "datalink": {
                "dataframe_info": {
                  "default_index_used": true,
                  "orig_size_bytes": 24288,
                  "orig_num_rows": 253,
                  "orig_num_cols": 11,
                  "truncated_string_columns": [
                    "Summary"
                  ],
                  "truncated_size_bytes": 24288,
                  "truncated_num_rows": 253,
                  "truncated_num_cols": 11
                },
                "dx_settings": {
                  "NUM_PAST_SAMPLES_TRACKED": 3,
                  "ENABLE_DATALINK": true,
                  "DISPLAY_MODE": "simple",
                  "GENERATE_DEX_METADATA": false,
                  "STRINGIFY_INDEX_VALUES": false,
                  "ALLOW_NOTEABLE_ATTRS": true,
                  "DISPLAY_MAX_COLUMNS": 100,
                  "HTML_TABLE_SCHEMA": false,
                  "SAMPLING_FACTOR": 0.1,
                  "LOG_LEVEL": 30,
                  "ENABLE_ASSIGNMENT": true,
                  "FLATTEN_INDEX_VALUES": false,
                  "DEV_MODE": false,
                  "COLUMN_SAMPLING_METHOD": "outer",
                  "FLATTEN_COLUMN_VALUES": true,
                  "DISPLAY_MAX_ROWS": 50000,
                  "ROW_SAMPLING_METHOD": "random",
                  "RANDOM_STATE": 12648430,
                  "DB_LOCATION": ":memory:",
                  "STRINGIFY_COLUMN_VALUES": true,
                  "SAMPLING_METHOD": "random",
                  "MAX_STRING_LENGTH": 250,
                  "MAX_RENDER_SIZE_BYTES": 104857600,
                  "RESET_INDEX_VALUES": false
                },
                "display_id": "0f8592c6-c466-4b02-a436-fa860223b2e0",
                "applied_filters": [],
                "sample_history": [],
                "sampling_time": "2023-07-06T00:03:41.481869",
                "variable_name": "df",
                "user_variable_name": "df"
              },
              "display_id": "0f8592c6-c466-4b02-a436-fa860223b2e0"
            }
          }
        }
      ],
      "execution_count": null,
      "metadata": {
        "noteable": {
          "cell_type": "code"
        },
        "ExecuteTime": {
          "end_time": "2023-07-06T00:03:41.655339+00:00",
          "start_time": "2023-07-06T00:03:41.377615+00:00"
        },
        "datalink": {
          "be079652-7c20-46c5-8ba4-e686745980a7": {
            "applied_filters": [],
            "dataframe_info": {
              "default_index_used": true,
              "orig_num_cols": 11,
              "orig_num_rows": 5,
              "orig_size_bytes": 480,
              "truncated_num_cols": 11,
              "truncated_num_rows": 5,
              "truncated_size_bytes": 480,
              "truncated_string_columns": [
                "Summary"
              ]
            },
            "display_id": "be079652-7c20-46c5-8ba4-e686745980a7",
            "dx_settings": {
              "ALLOW_NOTEABLE_ATTRS": true,
              "COLUMN_SAMPLING_METHOD": "outer",
              "DB_LOCATION": ":memory:",
              "DEV_MODE": false,
              "DISPLAY_MAX_COLUMNS": 100,
              "DISPLAY_MAX_ROWS": 50000,
              "DISPLAY_MODE": "simple",
              "ENABLE_ASSIGNMENT": true,
              "ENABLE_DATALINK": true,
              "FLATTEN_COLUMN_VALUES": true,
              "FLATTEN_INDEX_VALUES": false,
              "GENERATE_DEX_METADATA": false,
              "HTML_TABLE_SCHEMA": false,
              "LOG_LEVEL": 30,
              "MAX_RENDER_SIZE_BYTES": 104857600,
              "MAX_STRING_LENGTH": 250,
              "NUM_PAST_SAMPLES_TRACKED": 3,
              "RANDOM_STATE": 12648430,
              "RESET_INDEX_VALUES": false,
              "ROW_SAMPLING_METHOD": "random",
              "SAMPLING_FACTOR": 0.1,
              "SAMPLING_METHOD": "random",
              "STRINGIFY_COLUMN_VALUES": true,
              "STRINGIFY_INDEX_VALUES": false
            },
            "sample_history": [],
            "sampling_time": "2023-07-05T10:02:58.994420",
            "user_variable_name": null,
            "variable_name": "unk_dataframe_99154d43716a4eb0a4e57a4c11cdf034"
          },
          "9a07c0b9-ffd7-4ae4-8595-a74d1705fb82": {
            "applied_filters": [],
            "dataframe_info": {
              "default_index_used": true,
              "orig_num_cols": 11,
              "orig_num_rows": 253,
              "orig_size_bytes": 24288,
              "truncated_num_cols": 11,
              "truncated_num_rows": 253,
              "truncated_size_bytes": 24288,
              "truncated_string_columns": [
                "Summary"
              ]
            },
            "display_id": "9a07c0b9-ffd7-4ae4-8595-a74d1705fb82",
            "dx_settings": {
              "ALLOW_NOTEABLE_ATTRS": true,
              "COLUMN_SAMPLING_METHOD": "outer",
              "DB_LOCATION": ":memory:",
              "DEV_MODE": false,
              "DISPLAY_MAX_COLUMNS": 100,
              "DISPLAY_MAX_ROWS": 50000,
              "DISPLAY_MODE": "simple",
              "ENABLE_ASSIGNMENT": true,
              "ENABLE_DATALINK": true,
              "FLATTEN_COLUMN_VALUES": true,
              "FLATTEN_INDEX_VALUES": false,
              "GENERATE_DEX_METADATA": false,
              "HTML_TABLE_SCHEMA": false,
              "LOG_LEVEL": 30,
              "MAX_RENDER_SIZE_BYTES": 104857600,
              "MAX_STRING_LENGTH": 250,
              "NUM_PAST_SAMPLES_TRACKED": 3,
              "RANDOM_STATE": 12648430,
              "RESET_INDEX_VALUES": false,
              "ROW_SAMPLING_METHOD": "random",
              "SAMPLING_FACTOR": 0.1,
              "SAMPLING_METHOD": "random",
              "STRINGIFY_COLUMN_VALUES": true,
              "STRINGIFY_INDEX_VALUES": false
            },
            "sample_history": [],
            "sampling_time": "2023-07-05T12:27:38.524210",
            "user_variable_name": "df",
            "variable_name": "df"
          },
          "afb46f2b-ffa7-450b-8e73-814dcfccb6fa": {
            "applied_filters": [],
            "dataframe_info": {
              "default_index_used": true,
              "orig_num_cols": 11,
              "orig_num_rows": 253,
              "orig_size_bytes": 24288,
              "truncated_num_cols": 11,
              "truncated_num_rows": 253,
              "truncated_size_bytes": 24288,
              "truncated_string_columns": [
                "Summary"
              ]
            },
            "display_id": "afb46f2b-ffa7-450b-8e73-814dcfccb6fa",
            "dx_settings": {
              "ALLOW_NOTEABLE_ATTRS": true,
              "COLUMN_SAMPLING_METHOD": "outer",
              "DB_LOCATION": ":memory:",
              "DEV_MODE": false,
              "DISPLAY_MAX_COLUMNS": 100,
              "DISPLAY_MAX_ROWS": 50000,
              "DISPLAY_MODE": "simple",
              "ENABLE_ASSIGNMENT": true,
              "ENABLE_DATALINK": true,
              "FLATTEN_COLUMN_VALUES": true,
              "FLATTEN_INDEX_VALUES": false,
              "GENERATE_DEX_METADATA": false,
              "HTML_TABLE_SCHEMA": false,
              "LOG_LEVEL": 30,
              "MAX_RENDER_SIZE_BYTES": 104857600,
              "MAX_STRING_LENGTH": 250,
              "NUM_PAST_SAMPLES_TRACKED": 3,
              "RANDOM_STATE": 12648430,
              "RESET_INDEX_VALUES": false,
              "ROW_SAMPLING_METHOD": "random",
              "SAMPLING_FACTOR": 0.1,
              "SAMPLING_METHOD": "random",
              "STRINGIFY_COLUMN_VALUES": true,
              "STRINGIFY_INDEX_VALUES": false
            },
            "sample_history": [],
            "sampling_time": "2023-07-05T13:22:04.409693",
            "user_variable_name": "df",
            "variable_name": "df"
          },
          "22081f42-6ee3-4897-a8b7-73b30318d805": {
            "applied_filters": [],
            "dataframe_info": {
              "default_index_used": true,
              "orig_num_cols": 11,
              "orig_num_rows": 253,
              "orig_size_bytes": 24288,
              "truncated_num_cols": 11,
              "truncated_num_rows": 253,
              "truncated_size_bytes": 24288,
              "truncated_string_columns": [
                "Summary"
              ]
            },
            "display_id": "22081f42-6ee3-4897-a8b7-73b30318d805",
            "dx_settings": {
              "ALLOW_NOTEABLE_ATTRS": true,
              "COLUMN_SAMPLING_METHOD": "outer",
              "DB_LOCATION": ":memory:",
              "DEV_MODE": false,
              "DISPLAY_MAX_COLUMNS": 100,
              "DISPLAY_MAX_ROWS": 50000,
              "DISPLAY_MODE": "simple",
              "ENABLE_ASSIGNMENT": true,
              "ENABLE_DATALINK": true,
              "FLATTEN_COLUMN_VALUES": true,
              "FLATTEN_INDEX_VALUES": false,
              "GENERATE_DEX_METADATA": false,
              "HTML_TABLE_SCHEMA": false,
              "LOG_LEVEL": 30,
              "MAX_RENDER_SIZE_BYTES": 104857600,
              "MAX_STRING_LENGTH": 250,
              "NUM_PAST_SAMPLES_TRACKED": 3,
              "RANDOM_STATE": 12648430,
              "RESET_INDEX_VALUES": false,
              "ROW_SAMPLING_METHOD": "random",
              "SAMPLING_FACTOR": 0.1,
              "SAMPLING_METHOD": "random",
              "STRINGIFY_COLUMN_VALUES": true,
              "STRINGIFY_INDEX_VALUES": false
            },
            "sample_history": [],
            "sampling_time": "2023-07-05T13:46:24.695842",
            "user_variable_name": "df",
            "variable_name": "df"
          },
          "0f8592c6-c466-4b02-a436-fa860223b2e0": {
            "applied_filters": [],
            "dataframe_info": {
              "default_index_used": true,
              "orig_num_cols": 11,
              "orig_num_rows": 253,
              "orig_size_bytes": 24288,
              "truncated_num_cols": 11,
              "truncated_num_rows": 253,
              "truncated_size_bytes": 24288,
              "truncated_string_columns": [
                "Summary"
              ]
            },
            "display_id": "0f8592c6-c466-4b02-a436-fa860223b2e0",
            "dx_settings": {
              "ALLOW_NOTEABLE_ATTRS": true,
              "COLUMN_SAMPLING_METHOD": "outer",
              "DB_LOCATION": ":memory:",
              "DEV_MODE": false,
              "DISPLAY_MAX_COLUMNS": 100,
              "DISPLAY_MAX_ROWS": 50000,
              "DISPLAY_MODE": "simple",
              "ENABLE_ASSIGNMENT": true,
              "ENABLE_DATALINK": true,
              "FLATTEN_COLUMN_VALUES": true,
              "FLATTEN_INDEX_VALUES": false,
              "GENERATE_DEX_METADATA": false,
              "HTML_TABLE_SCHEMA": false,
              "LOG_LEVEL": 30,
              "MAX_RENDER_SIZE_BYTES": 104857600,
              "MAX_STRING_LENGTH": 250,
              "NUM_PAST_SAMPLES_TRACKED": 3,
              "RANDOM_STATE": 12648430,
              "RESET_INDEX_VALUES": false,
              "ROW_SAMPLING_METHOD": "random",
              "SAMPLING_FACTOR": 0.1,
              "SAMPLING_METHOD": "random",
              "STRINGIFY_COLUMN_VALUES": true,
              "STRINGIFY_INDEX_VALUES": false
            },
            "sample_history": [],
            "sampling_time": "2023-07-06T00:03:41.481869",
            "user_variable_name": "df",
            "variable_name": "df"
          }
        },
        "scrolled": true,
        "dx": {
          "dashboard": {
            "multiViews": []
          },
          "fieldMetadata": {
            "Caption for URL": {
              "columnPosition": 10
            },
            "Date": {
              "columnPosition": 7
            },
            "Description of physical object": {
              "columnPosition": 8,
              "width": 323.521240234375
            },
            "Local system number": {
              "columnPosition": 6,
              "width": 165.0596923828125
            },
            "Subject headings: Topical": {
              "columnPosition": 4,
              "width": 445.6475830078125
            },
            "Summary": {
              "columnPosition": 2
            },
            "Title": {
              "columnPosition": 5,
              "width": 467.723876953125
            },
            "URL": {
              "columnPosition": 11
            },
            "URL2": {
              "columnPosition": 12
            },
            "call number": {
              "columnPosition": 9
            },
            "index": {
              "columnPosition": 1
            },
            "notes": {
              "columnPosition": 3
            }
          },
          "updated": 1688560639621,
          "views": [
            {
              "annotationRules": [],
              "chart": {},
              "chartMode": "empty",
              "confoRules": [],
              "decoration": {
                "footer": "",
                "subtitle": "",
                "title": "New View"
              },
              "facets": [],
              "filterSettings": {
                "SHOW_FILTER_PANEL": true,
                "filters": []
              },
              "id": "b1a3475e-a333-4c97-8982-17797e6cebf4",
              "isDefault": false,
              "type": "public",
              "userID": ""
            },
            {
              "annotationRules": [],
              "chart": {
                "facets": [],
                "suggestionFields": [
                  "Subject headings: Topical - Dimension",
                  "notes - Dimension",
                  "Summary - Dimension",
                  "call number - Dimension",
                  "Date - Dimension"
                ],
                "tableSparklines": false,
                "wordData": "notes"
              },
              "chartMode": "grid",
              "confoRules": [],
              "decoration": {
                "footer": "",
                "subtitle": "",
                "title": "Table"
              },
              "facets": [],
              "filterSettings": {
                "SHOW_FILTER_PANEL": true,
                "filters": []
              },
              "id": "b1a3475e-a333-4c97-8982-17797e6cebf4",
              "isDefault": false,
              "isTransitory": true,
              "type": "public",
              "userID": ""
            }
          ]
        },
        "jupyter": {
          "outputs_hidden": true
        }
      },
      "id": "872bd8f1-7b6f-4260-9863-e2cc4633f67f"
    },
    {
      "cell_type": "code",
      "source": [
        "%pip install pydub\n",
        "import pandas as pd\n",
        "import requests\n",
        "from pydub import AudioSegment\n",
        "import os\n",
        "from tqdm import tqdm\n",
        "\n",
        "# Create a directory to store the audio files \n",
        "os.makedirs('audio_files', exist_ok=True)\n",
        "\n",
        "# Modify url to include extension\n",
        "df['URL'] = df['URL'] + '.mp3'\n",
        "\n",
        "# Function to download and save audio from URL\n",
        "def download_and_save_audio(url, filename):\n",
        "    r = requests.get(url)\n",
        "    with open(filename, 'wb') as f:\n",
        "        f.write(r.content)\n",
        "\n",
        "# Iterate over the URLs and download the audio files\n",
        "for i, url in tqdm(enumerate(df['URL']), total=len(df['URL'])):\n",
        "    filename = f'audio_files/audio_{i}.mp3'\n",
        "    download_and_save_audio(url, filename)\n",
        "\n",
        "# Store the paths to the audio files in the DataFrame\n",
        "df['audio_path'] = [f'audio_files/audio_{i}.mp3' for i in range(len(df['URL']))]\n",
        "\n",
        "df.head(253)"
      ],
      "outputs": [
        {
          "output_type": "stream",
          "name": "stdout",
          "text": [
            "Requirement already satisfied: pydub in /opt/conda/lib/python3.9/site-packages (0.25.1)\r\n"
          ]
        },
        {
          "output_type": "stream",
          "name": "stdout",
          "text": [
            "Note: you may need to restart the kernel to use updated packages.\n"
          ]
        },
        {
          "output_type": "stream",
          "name": "stderr",
          "text": [
            "\r  0%|          | 0/253 [00:00<?, ?it/s]"
          ]
        },
        {
          "output_type": "stream",
          "name": "stderr",
          "text": [
            "\r  0%|          | 1/253 [00:06<26:01,  6.20s/it]"
          ]
        },
        {
          "output_type": "stream",
          "name": "stderr",
          "text": [
            "\r  1%|          | 2/253 [00:12<27:07,  6.49s/it]"
          ]
        },
        {
          "output_type": "stream",
          "name": "stderr",
          "text": [
            "\r  1%|          | 3/253 [00:19<26:47,  6.43s/it]"
          ]
        },
        {
          "output_type": "stream",
          "name": "stderr",
          "text": [
            "\r  2%|▏         | 4/253 [00:24<24:28,  5.90s/it]"
          ]
        },
        {
          "output_type": "stream",
          "name": "stderr",
          "text": [
            "\r  2%|▏         | 5/253 [00:29<23:25,  5.67s/it]"
          ]
        },
        {
          "output_type": "stream",
          "name": "stderr",
          "text": [
            "\r  2%|▏         | 6/253 [00:34<22:31,  5.47s/it]"
          ]
        },
        {
          "output_type": "stream",
          "name": "stderr",
          "text": [
            "\r  3%|▎         | 7/253 [00:39<21:31,  5.25s/it]"
          ]
        },
        {
          "output_type": "stream",
          "name": "stderr",
          "text": [
            "\r  3%|▎         | 8/253 [00:44<21:45,  5.33s/it]"
          ]
        },
        {
          "output_type": "stream",
          "name": "stderr",
          "text": [
            "\r  4%|▎         | 9/253 [00:50<21:54,  5.39s/it]"
          ]
        },
        {
          "output_type": "stream",
          "name": "stderr",
          "text": [
            "\r  4%|▍         | 10/253 [00:56<22:50,  5.64s/it]"
          ]
        },
        {
          "output_type": "stream",
          "name": "stderr",
          "text": [
            "\r  4%|▍         | 11/253 [01:01<21:40,  5.38s/it]"
          ]
        },
        {
          "output_type": "stream",
          "name": "stderr",
          "text": [
            "\r  5%|▍         | 12/253 [01:06<21:32,  5.36s/it]"
          ]
        },
        {
          "output_type": "stream",
          "name": "stderr",
          "text": [
            "\r  5%|▌         | 13/253 [01:13<22:45,  5.69s/it]"
          ]
        },
        {
          "output_type": "stream",
          "name": "stderr",
          "text": [
            "\r  6%|▌         | 14/253 [01:19<23:21,  5.87s/it]"
          ]
        },
        {
          "output_type": "stream",
          "name": "stderr",
          "text": [
            "\r  6%|▌         | 15/253 [01:24<22:34,  5.69s/it]"
          ]
        },
        {
          "output_type": "stream",
          "name": "stderr",
          "text": [
            "\r  6%|▋         | 16/253 [01:28<20:23,  5.16s/it]"
          ]
        },
        {
          "output_type": "stream",
          "name": "stderr",
          "text": [
            "\r  7%|▋         | 17/253 [01:34<20:25,  5.19s/it]"
          ]
        },
        {
          "output_type": "stream",
          "name": "stderr",
          "text": [
            "\r  7%|▋         | 18/253 [01:39<20:46,  5.30s/it]"
          ]
        },
        {
          "output_type": "stream",
          "name": "stderr",
          "text": [
            "\r  8%|▊         | 19/253 [01:45<21:34,  5.53s/it]"
          ]
        },
        {
          "output_type": "stream",
          "name": "stderr",
          "text": [
            "\r  8%|▊         | 20/253 [01:51<22:08,  5.70s/it]"
          ]
        },
        {
          "output_type": "stream",
          "name": "stderr",
          "text": [
            "\r  8%|▊         | 21/253 [01:57<21:48,  5.64s/it]"
          ]
        },
        {
          "output_type": "stream",
          "name": "stderr",
          "text": [
            "\r  9%|▊         | 22/253 [02:02<21:04,  5.48s/it]"
          ]
        },
        {
          "output_type": "stream",
          "name": "stderr",
          "text": [
            "\r  9%|▉         | 23/253 [02:08<21:54,  5.72s/it]"
          ]
        },
        {
          "output_type": "stream",
          "name": "stderr",
          "text": [
            "\r  9%|▉         | 24/253 [02:15<23:31,  6.16s/it]"
          ]
        },
        {
          "output_type": "stream",
          "name": "stderr",
          "text": [
            "\r 10%|▉         | 25/253 [02:21<23:00,  6.05s/it]"
          ]
        },
        {
          "output_type": "stream",
          "name": "stderr",
          "text": [
            "\r 10%|█         | 26/253 [02:28<23:24,  6.19s/it]"
          ]
        },
        {
          "output_type": "stream",
          "name": "stderr",
          "text": [
            "\r 11%|█         | 27/253 [02:34<23:29,  6.24s/it]"
          ]
        },
        {
          "output_type": "stream",
          "name": "stderr",
          "text": [
            "\r 11%|█         | 28/253 [02:40<23:20,  6.22s/it]"
          ]
        },
        {
          "output_type": "stream",
          "name": "stderr",
          "text": [
            "\r 11%|█▏        | 29/253 [02:46<23:17,  6.24s/it]"
          ]
        },
        {
          "output_type": "stream",
          "name": "stderr",
          "text": [
            "\r 12%|█▏        | 30/253 [02:52<22:19,  6.01s/it]"
          ]
        },
        {
          "output_type": "stream",
          "name": "stderr",
          "text": [
            "\r 12%|█▏        | 31/253 [02:57<21:31,  5.82s/it]"
          ]
        },
        {
          "output_type": "stream",
          "name": "stderr",
          "text": [
            "\r 13%|█▎        | 32/253 [03:03<21:36,  5.87s/it]"
          ]
        },
        {
          "output_type": "stream",
          "name": "stderr",
          "text": [
            "\r 13%|█▎        | 33/253 [03:10<22:08,  6.04s/it]"
          ]
        },
        {
          "output_type": "stream",
          "name": "stderr",
          "text": [
            "\r 13%|█▎        | 34/253 [03:16<22:23,  6.13s/it]"
          ]
        },
        {
          "output_type": "stream",
          "name": "stderr",
          "text": [
            "\r 14%|█▍        | 35/253 [03:23<22:47,  6.27s/it]"
          ]
        },
        {
          "output_type": "stream",
          "name": "stderr",
          "text": [
            "\r 14%|█▍        | 36/253 [03:28<21:35,  5.97s/it]"
          ]
        },
        {
          "output_type": "stream",
          "name": "stderr",
          "text": [
            "\r 15%|█▍        | 37/253 [03:35<22:55,  6.37s/it]"
          ]
        },
        {
          "output_type": "stream",
          "name": "stderr",
          "text": [
            "\r 15%|█▌        | 38/253 [03:41<22:09,  6.18s/it]"
          ]
        }
      ],
      "execution_count": null,
      "metadata": {
        "noteable": {
          "cell_type": "code"
        },
        "ExecuteTime": null
      },
      "id": "c74c0461-2f91-473f-b7a6-3e171a042bee"
    },
    {
      "cell_type": "code",
      "source": [
        "import re\n",
        "\n",
        "# Remove the common prefix\n",
        "df['Summary'] = df['Summary'].str.replace('John Hutchinson is an ornithologist and a birdcall recordist.', '')\n",
        "\n",
        "# Function to extract location from the summary\n",
        "def extract_location(summary):\n",
        "    location = re.search('made at (.+?)\\.', summary)\n",
        "    if location:\n",
        "        return location.group(1)\n",
        "    location = re.search('made on (.+?)\\.', summary)\n",
        "    if location:\n",
        "        return location.group(1)\n",
        "    location = re.search('at (.+?)\\.', summary)\n",
        "    if location:\n",
        "        return location.group(1)\n",
        "    location = re.search('in (.+?)\\.', summary)\n",
        "    if location:\n",
        "        return location.group(1)\n",
        "    return ''\n",
        "\n",
        "# Apply the function to the 'Summary' column\n",
        "df['location'] = df['Summary'].apply(extract_location)\n",
        "\n",
        "df.head(1000)"
      ],
      "outputs": [],
      "execution_count": null,
      "metadata": {
        "noteable": {
          "cell_type": "code"
        },
        "ExecuteTime": {
          "end_time": "2023-07-05T12:55:09.326703+00:00",
          "start_time": "2023-07-05T12:55:09.046847+00:00"
        },
        "datalink": {
          "1fc16a97-d13b-4c19-9671-228e468c3623": {
            "applied_filters": [],
            "dataframe_info": {
              "default_index_used": true,
              "orig_num_cols": 13,
              "orig_num_rows": 5,
              "orig_size_bytes": 560,
              "truncated_num_cols": 13,
              "truncated_num_rows": 5,
              "truncated_size_bytes": 560,
              "truncated_string_columns": [
                "Summary"
              ]
            },
            "display_id": "1fc16a97-d13b-4c19-9671-228e468c3623",
            "dx_settings": {
              "ALLOW_NOTEABLE_ATTRS": true,
              "COLUMN_SAMPLING_METHOD": "outer",
              "DB_LOCATION": ":memory:",
              "DEV_MODE": false,
              "DISPLAY_MAX_COLUMNS": 100,
              "DISPLAY_MAX_ROWS": 50000,
              "DISPLAY_MODE": "simple",
              "ENABLE_ASSIGNMENT": true,
              "ENABLE_DATALINK": true,
              "FLATTEN_COLUMN_VALUES": true,
              "FLATTEN_INDEX_VALUES": false,
              "GENERATE_DEX_METADATA": false,
              "HTML_TABLE_SCHEMA": false,
              "LOG_LEVEL": 30,
              "MAX_RENDER_SIZE_BYTES": 104857600,
              "MAX_STRING_LENGTH": 250,
              "NUM_PAST_SAMPLES_TRACKED": 3,
              "RANDOM_STATE": 12648430,
              "RESET_INDEX_VALUES": false,
              "ROW_SAMPLING_METHOD": "random",
              "SAMPLING_FACTOR": 0.1,
              "SAMPLING_METHOD": "random",
              "STRINGIFY_COLUMN_VALUES": true,
              "STRINGIFY_INDEX_VALUES": false
            },
            "sample_history": [],
            "sampling_time": "2023-07-05T12:41:34.030508",
            "user_variable_name": null,
            "variable_name": "unk_dataframe_e9f15b88edcb4bbc8d9a2e6b56af7be5"
          },
          "ddf40d90-746d-4188-9724-7d0001a5bffc": {
            "applied_filters": [],
            "dataframe_info": {
              "default_index_used": true,
              "orig_num_cols": 13,
              "orig_num_rows": 5,
              "orig_size_bytes": 560,
              "truncated_num_cols": 13,
              "truncated_num_rows": 5,
              "truncated_size_bytes": 560,
              "truncated_string_columns": [
                "Summary"
              ]
            },
            "display_id": "ddf40d90-746d-4188-9724-7d0001a5bffc",
            "dx_settings": {
              "ALLOW_NOTEABLE_ATTRS": true,
              "COLUMN_SAMPLING_METHOD": "outer",
              "DB_LOCATION": ":memory:",
              "DEV_MODE": false,
              "DISPLAY_MAX_COLUMNS": 100,
              "DISPLAY_MAX_ROWS": 50000,
              "DISPLAY_MODE": "simple",
              "ENABLE_ASSIGNMENT": true,
              "ENABLE_DATALINK": true,
              "FLATTEN_COLUMN_VALUES": true,
              "FLATTEN_INDEX_VALUES": false,
              "GENERATE_DEX_METADATA": false,
              "HTML_TABLE_SCHEMA": false,
              "LOG_LEVEL": 30,
              "MAX_RENDER_SIZE_BYTES": 104857600,
              "MAX_STRING_LENGTH": 250,
              "NUM_PAST_SAMPLES_TRACKED": 3,
              "RANDOM_STATE": 12648430,
              "RESET_INDEX_VALUES": false,
              "ROW_SAMPLING_METHOD": "random",
              "SAMPLING_FACTOR": 0.1,
              "SAMPLING_METHOD": "random",
              "STRINGIFY_COLUMN_VALUES": true,
              "STRINGIFY_INDEX_VALUES": false
            },
            "sample_history": [],
            "sampling_time": "2023-07-05T12:41:53.854042",
            "user_variable_name": null,
            "variable_name": "unk_dataframe_5f97f7d3afd14d6bbc7fe7c9bf2dcc86"
          },
          "d2914767-3380-49b0-a13c-fdfbd50d94ab": {
            "applied_filters": [],
            "dataframe_info": {
              "default_index_used": true,
              "orig_num_cols": 13,
              "orig_num_rows": 253,
              "orig_size_bytes": 28336,
              "truncated_num_cols": 13,
              "truncated_num_rows": 253,
              "truncated_size_bytes": 28336,
              "truncated_string_columns": [
                "Summary",
                "location"
              ]
            },
            "display_id": "d2914767-3380-49b0-a13c-fdfbd50d94ab",
            "dx_settings": {
              "ALLOW_NOTEABLE_ATTRS": true,
              "COLUMN_SAMPLING_METHOD": "outer",
              "DB_LOCATION": ":memory:",
              "DEV_MODE": false,
              "DISPLAY_MAX_COLUMNS": 100,
              "DISPLAY_MAX_ROWS": 50000,
              "DISPLAY_MODE": "simple",
              "ENABLE_ASSIGNMENT": true,
              "ENABLE_DATALINK": true,
              "FLATTEN_COLUMN_VALUES": true,
              "FLATTEN_INDEX_VALUES": false,
              "GENERATE_DEX_METADATA": false,
              "HTML_TABLE_SCHEMA": false,
              "LOG_LEVEL": 30,
              "MAX_RENDER_SIZE_BYTES": 104857600,
              "MAX_STRING_LENGTH": 250,
              "NUM_PAST_SAMPLES_TRACKED": 3,
              "RANDOM_STATE": 12648430,
              "RESET_INDEX_VALUES": false,
              "ROW_SAMPLING_METHOD": "random",
              "SAMPLING_FACTOR": 0.1,
              "SAMPLING_METHOD": "random",
              "STRINGIFY_COLUMN_VALUES": true,
              "STRINGIFY_INDEX_VALUES": false
            },
            "sample_history": [],
            "sampling_time": "2023-07-05T12:49:22.630205",
            "user_variable_name": "df",
            "variable_name": "df"
          },
          "d1c13ded-3f81-42ff-9b1b-ecc452c29bf8": {
            "applied_filters": [],
            "dataframe_info": {
              "default_index_used": true,
              "orig_num_cols": 13,
              "orig_num_rows": 253,
              "orig_size_bytes": 28336,
              "truncated_num_cols": 13,
              "truncated_num_rows": 253,
              "truncated_size_bytes": 28336,
              "truncated_string_columns": [
                "Summary",
                "location"
              ]
            },
            "display_id": "d1c13ded-3f81-42ff-9b1b-ecc452c29bf8",
            "dx_settings": {
              "ALLOW_NOTEABLE_ATTRS": true,
              "COLUMN_SAMPLING_METHOD": "outer",
              "DB_LOCATION": ":memory:",
              "DEV_MODE": false,
              "DISPLAY_MAX_COLUMNS": 100,
              "DISPLAY_MAX_ROWS": 50000,
              "DISPLAY_MODE": "simple",
              "ENABLE_ASSIGNMENT": true,
              "ENABLE_DATALINK": true,
              "FLATTEN_COLUMN_VALUES": true,
              "FLATTEN_INDEX_VALUES": false,
              "GENERATE_DEX_METADATA": false,
              "HTML_TABLE_SCHEMA": false,
              "LOG_LEVEL": 30,
              "MAX_RENDER_SIZE_BYTES": 104857600,
              "MAX_STRING_LENGTH": 250,
              "NUM_PAST_SAMPLES_TRACKED": 3,
              "RANDOM_STATE": 12648430,
              "RESET_INDEX_VALUES": false,
              "ROW_SAMPLING_METHOD": "random",
              "SAMPLING_FACTOR": 0.1,
              "SAMPLING_METHOD": "random",
              "STRINGIFY_COLUMN_VALUES": true,
              "STRINGIFY_INDEX_VALUES": false
            },
            "sample_history": [],
            "sampling_time": "2023-07-05T12:55:09.158627",
            "user_variable_name": "df",
            "variable_name": "df"
          }
        },
        "dx": {
          "dashboard": {
            "multiViews": []
          },
          "fieldMetadata": {
            "Caption for URL": {
              "columnPosition": 10,
              "width": 785.163330078125
            },
            "Date": {
              "columnPosition": 5
            },
            "Description of physical object": {
              "columnPosition": 6,
              "width": 333.5062255859375
            },
            "Local system number": {
              "columnPosition": 2
            },
            "Subject headings: Topical": {
              "columnPosition": 9,
              "width": 432.9635009765625
            },
            "Summary": {
              "columnPosition": 8,
              "width": 542.50927734375
            },
            "Title": {
              "columnPosition": 4
            },
            "URL": {
              "columnPosition": 11
            },
            "URL2": {
              "columnPosition": 12
            },
            "audio_path": {
              "columnPosition": 13
            },
            "call number": {
              "columnPosition": 3
            },
            "index": {
              "columnPosition": 1
            },
            "location": {
              "columnPosition": 14
            },
            "notes": {
              "columnPosition": 7
            }
          },
          "updated": 1688561602531,
          "views": [
            {
              "annotationRules": [],
              "chart": {},
              "chartMode": "grid",
              "confoRules": [],
              "decoration": {
                "footer": "",
                "subtitle": "",
                "title": "Table"
              },
              "facets": [],
              "filterSettings": {
                "SHOW_FILTER_PANEL": true,
                "filters": []
              },
              "id": "first-view",
              "isDefault": true,
              "type": "public",
              "userID": ""
            },
            {
              "annotationRules": [],
              "chart": {},
              "chartMode": "grid",
              "confoRules": [],
              "decoration": {
                "footer": "",
                "subtitle": "",
                "title": "Table"
              },
              "facets": [],
              "filterSettings": {
                "SHOW_FILTER_PANEL": true,
                "filters": []
              },
              "id": "first-view",
              "isDefault": true,
              "isTransitory": true,
              "type": "public",
              "userID": ""
            }
          ]
        }
      },
      "id": "652a6e2e-e787-4e15-a068-a182d928ac15"
    },
    {
      "cell_type": "code",
      "source": [
        "import re\n",
        "import datetime\n",
        "\n",
        "# Function to extract date from the summary\n",
        "def extract_date(summary):\n",
        "    date = re.search('\\d{1,2} \\w+ \\d{4}', summary)\n",
        "    if date:\n",
        "        return date.group(0)\n",
        "    date = re.search('\\w+ \\d{4}', summary)\n",
        "    if date:\n",
        "        return datetime(f' 01 {date.group(0)}')\n",
        "    return None\n",
        "\n",
        "# Apply the function to the 'Summary' column\n",
        "df['date'] = df['Summary'].apply(extract_date)\n",
        "\n",
        "# Convert the 'Subject headings: Topical' into a list\n",
        "df['Subject headings: Topical'] = df['Subject headings: Topical'].str.split(';')\n",
        "\n",
        "df.head(253)"
      ],
      "outputs": [],
      "execution_count": null,
      "metadata": {
        "noteable": {
          "cell_type": "code"
        },
        "ExecuteTime": {
          "end_time": "2023-07-05T13:23:02.603691+00:00",
          "start_time": "2023-07-05T13:23:02.316262+00:00"
        },
        "datalink": {
          "11d2c405-ca2e-4869-b242-9910d11e398a": {
            "applied_filters": [],
            "dataframe_info": {
              "default_index_used": true,
              "orig_num_cols": 14,
              "orig_num_rows": 5,
              "orig_size_bytes": 600,
              "truncated_num_cols": 14,
              "truncated_num_rows": 5,
              "truncated_size_bytes": 600,
              "truncated_string_columns": [
                "Summary"
              ]
            },
            "display_id": "11d2c405-ca2e-4869-b242-9910d11e398a",
            "dx_settings": {
              "ALLOW_NOTEABLE_ATTRS": true,
              "COLUMN_SAMPLING_METHOD": "outer",
              "DB_LOCATION": ":memory:",
              "DEV_MODE": false,
              "DISPLAY_MAX_COLUMNS": 100,
              "DISPLAY_MAX_ROWS": 50000,
              "DISPLAY_MODE": "simple",
              "ENABLE_ASSIGNMENT": true,
              "ENABLE_DATALINK": true,
              "FLATTEN_COLUMN_VALUES": true,
              "FLATTEN_INDEX_VALUES": false,
              "GENERATE_DEX_METADATA": false,
              "HTML_TABLE_SCHEMA": false,
              "LOG_LEVEL": 30,
              "MAX_RENDER_SIZE_BYTES": 104857600,
              "MAX_STRING_LENGTH": 250,
              "NUM_PAST_SAMPLES_TRACKED": 3,
              "RANDOM_STATE": 12648430,
              "RESET_INDEX_VALUES": false,
              "ROW_SAMPLING_METHOD": "random",
              "SAMPLING_FACTOR": 0.1,
              "SAMPLING_METHOD": "random",
              "STRINGIFY_COLUMN_VALUES": true,
              "STRINGIFY_INDEX_VALUES": false
            },
            "sample_history": [],
            "sampling_time": "2023-07-05T12:58:20.420474",
            "user_variable_name": null,
            "variable_name": "unk_dataframe_f6acf8ea237641308d00d88155a238bb"
          },
          "f72a4a83-28e4-4e52-a2b8-610cf9a368fd": {
            "applied_filters": [],
            "dataframe_info": {
              "default_index_used": true,
              "orig_num_cols": 14,
              "orig_num_rows": 253,
              "orig_size_bytes": 30360,
              "truncated_num_cols": 14,
              "truncated_num_rows": 253,
              "truncated_size_bytes": 30360,
              "truncated_string_columns": [
                "Summary",
                "location"
              ]
            },
            "display_id": "f72a4a83-28e4-4e52-a2b8-610cf9a368fd",
            "dx_settings": {
              "ALLOW_NOTEABLE_ATTRS": true,
              "COLUMN_SAMPLING_METHOD": "outer",
              "DB_LOCATION": ":memory:",
              "DEV_MODE": false,
              "DISPLAY_MAX_COLUMNS": 100,
              "DISPLAY_MAX_ROWS": 50000,
              "DISPLAY_MODE": "simple",
              "ENABLE_ASSIGNMENT": true,
              "ENABLE_DATALINK": true,
              "FLATTEN_COLUMN_VALUES": true,
              "FLATTEN_INDEX_VALUES": false,
              "GENERATE_DEX_METADATA": false,
              "HTML_TABLE_SCHEMA": false,
              "LOG_LEVEL": 30,
              "MAX_RENDER_SIZE_BYTES": 104857600,
              "MAX_STRING_LENGTH": 250,
              "NUM_PAST_SAMPLES_TRACKED": 3,
              "RANDOM_STATE": 12648430,
              "RESET_INDEX_VALUES": false,
              "ROW_SAMPLING_METHOD": "random",
              "SAMPLING_FACTOR": 0.1,
              "SAMPLING_METHOD": "random",
              "STRINGIFY_COLUMN_VALUES": true,
              "STRINGIFY_INDEX_VALUES": false
            },
            "sample_history": [],
            "sampling_time": "2023-07-05T13:00:47.756667",
            "user_variable_name": "df",
            "variable_name": "df"
          },
          "ce3a8595-12de-4fcd-9504-b541879aac75": {
            "applied_filters": [],
            "dataframe_info": {
              "default_index_used": true,
              "orig_num_cols": 12,
              "orig_num_rows": 253,
              "orig_size_bytes": 26312,
              "truncated_num_cols": 12,
              "truncated_num_rows": 253,
              "truncated_size_bytes": 26312,
              "truncated_string_columns": [
                "Summary",
                "Subject headings: Topical"
              ]
            },
            "display_id": "ce3a8595-12de-4fcd-9504-b541879aac75",
            "dx_settings": {
              "ALLOW_NOTEABLE_ATTRS": true,
              "COLUMN_SAMPLING_METHOD": "outer",
              "DB_LOCATION": ":memory:",
              "DEV_MODE": false,
              "DISPLAY_MAX_COLUMNS": 100,
              "DISPLAY_MAX_ROWS": 50000,
              "DISPLAY_MODE": "simple",
              "ENABLE_ASSIGNMENT": true,
              "ENABLE_DATALINK": true,
              "FLATTEN_COLUMN_VALUES": true,
              "FLATTEN_INDEX_VALUES": false,
              "GENERATE_DEX_METADATA": false,
              "HTML_TABLE_SCHEMA": false,
              "LOG_LEVEL": 30,
              "MAX_RENDER_SIZE_BYTES": 104857600,
              "MAX_STRING_LENGTH": 250,
              "NUM_PAST_SAMPLES_TRACKED": 3,
              "RANDOM_STATE": 12648430,
              "RESET_INDEX_VALUES": false,
              "ROW_SAMPLING_METHOD": "random",
              "SAMPLING_FACTOR": 0.1,
              "SAMPLING_METHOD": "random",
              "STRINGIFY_COLUMN_VALUES": true,
              "STRINGIFY_INDEX_VALUES": false
            },
            "sample_history": [],
            "sampling_time": "2023-07-05T13:23:02.433460",
            "user_variable_name": "df",
            "variable_name": "df"
          }
        }
      },
      "id": "058f0af5-d088-4563-8ea1-3640432448e1"
    },
    {
      "cell_type": "code",
      "source": [
        "import requests\n",
        "\n",
        "def get_gbif_species(common_name):\n",
        "    url = f'https://api.gbif.org/v1/species/match?name={common_name}'\n",
        "    response = requests.get(url)\n",
        "    if response.status_code == 200:\n",
        "        data = response.json()\n",
        "        return data.get('scientificName')\n",
        "    else:\n",
        "        return None\n",
        "\n",
        "# Example usage:\n",
        "print(get_gbif_species('House Sparrow'))"
      ],
      "outputs": [],
      "execution_count": null,
      "metadata": {
        "jupyter": {
          "outputs_hidden": false,
          "source_hidden": false
        },
        "noteable": {
          "cell_type": "code"
        }
      },
      "id": "c450460f-4b33-4023-bb16-7c88bc881ed4"
    },
    {
      "cell_type": "code",
      "source": [
        "def get_lat_long(location):\n",
        "    url = f'https://nominatim.openstreetmap.org/search?format=json&q={location}'\n",
        "    response = requests.get(url)\n",
        "    if response.status_code == 200:\n",
        "        data = response.json()\n",
        "        if data:\n",
        "            return data[0]['lat'], data[0]['lon']\n",
        "    return None, None\n",
        "\n",
        "# Example usage:\n",
        "print(get_lat_long('New York'))\n"
      ],
      "outputs": [],
      "execution_count": null,
      "metadata": {
        "jupyter": {
          "outputs_hidden": false,
          "source_hidden": false
        },
        "noteable": {
          "cell_type": "code"
        }
      },
      "id": "d389b8b8-b8af-40d4-8a9f-d995ba2d430f"
    },
    {
      "cell_type": "code",
      "source": [
        "# Create a new column 'scientific_names' by applying the get_gbif_species function to each item in the 'Subject headings: Topical' lists\n",
        "df['scientific_names'] = df['Subject headings: Topical'].apply(lambda x: [get_gbif_species(item) for item in x])\n",
        "\n",
        "# Create new columns 'latitude' and 'longitude' by applying the get_lat_long function to the 'Location' column\n",
        "df[['latitude', 'longitude']] = df['Location'].apply(get_lat_long).apply(pd.Series)\n"
      ],
      "outputs": [],
      "execution_count": null,
      "metadata": {
        "jupyter": {
          "outputs_hidden": false,
          "source_hidden": false
        },
        "noteable": {
          "cell_type": "code"
        }
      },
      "id": "5176a9ba-f814-4f4f-ad63-60b7e3bcac8d"
    }
  ],
  "metadata": {
    "selected_hardware_size": "small",
    "noteable": {
      "last_transaction_id": "3c45ac5d-3019-40ea-9a53-010b027b6f8e",
      "last_delta_id": "3c45ac5d-3019-40ea-9a53-010b027b6f8e"
    },
    "nteract": {
      "version": "noteable@2.9.0"
    }
  },
  "nbformat": 4,
  "nbformat_minor": 5
}